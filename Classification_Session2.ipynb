{
  "nbformat": 4,
  "nbformat_minor": 0,
  "metadata": {
    "colab": {
      "name": "Classification_Session2.ipynb",
      "provenance": [],
      "collapsed_sections": [],
      "include_colab_link": true
    },
    "kernelspec": {
      "name": "python3",
      "display_name": "Python 3"
    },
    "language_info": {
      "name": "python"
    }
  },
  "cells": [
    {
      "cell_type": "markdown",
      "metadata": {
        "id": "view-in-github",
        "colab_type": "text"
      },
      "source": [
        "<a href=\"https://colab.research.google.com/github/DLPY/Classification_Session_2/blob/main/Classification_Session2.ipynb\" target=\"_parent\"><img src=\"https://colab.research.google.com/assets/colab-badge.svg\" alt=\"Open In Colab\"/></a>"
      ]
    },
    {
      "cell_type": "markdown",
      "source": [
        "# Classification Session 2 - Notebook"
      ],
      "metadata": {
        "id": "yIBDtsxjTKzj"
      }
    },
    {
      "cell_type": "markdown",
      "source": [
        "##**1.Import Pandas, Pyplot and Read data**"
      ],
      "metadata": {
        "id": "waTeIDSXOlTy"
      }
    },
    {
      "cell_type": "code",
      "execution_count": null,
      "metadata": {
        "id": "hvfzh5SETCh-"
      },
      "outputs": [],
      "source": [
        "import matplotlib.pyplot as plt #Visualization Lib\n",
        "import numpy as np #mathamatical functions\n",
        "import pandas as pd #Data manipulation lib\n",
        "import seaborn as sns #Visualization Lib\n",
        "from sklearn import metrics, preprocessing\n",
        "from sklearn.linear_model import LogisticRegression\n",
        "from sklearn.metrics import confusion_matrix, classification_report\n",
        "from sklearn.model_selection import GridSearchCV, train_test_split\n",
        "from sklearn.neighbors import KNeighborsClassifier\n",
        "import statsmodels.api as sm"
      ]
    },
    {
      "cell_type": "code",
      "source": [
        "# CSV is first read in from a github raw file another option is to import the notebook to your session storage by click on the file icon on left toolbar then importing csv\n",
        "! wget https://raw.githubusercontent.com/DLPY/Classification_Session_2/main/Student2020.csv"
      ],
      "metadata": {
        "id": "gpisi7PaPec3"
      },
      "execution_count": null,
      "outputs": []
    },
    {
      "cell_type": "code",
      "source": [
        "# Once we have the csv file pd.read_csv() converts it to a pandas dataframe\n",
        "df = pd.read_csv('Student2020.csv')\n",
        "df['Pass'] = df['Pass'].apply(lambda x : 0 if x == 'Fail' else 1 )"
      ],
      "metadata": {
        "id": "XRxgsmWJPi0G"
      },
      "execution_count": null,
      "outputs": []
    },
    {
      "cell_type": "markdown",
      "source": [
        "##**2. Exploratory Data Analysis (EDA)**"
      ],
      "metadata": {
        "id": "kAPYvl5VPzzA"
      }
    },
    {
      "cell_type": "code",
      "source": [
        "# Display the count of rows and columns.\n",
        "df.shape"
      ],
      "metadata": {
        "id": "lwEObfiOPpKs"
      },
      "execution_count": null,
      "outputs": []
    },
    {
      "cell_type": "code",
      "source": [
        "# Review a small sample of the data.\n",
        "df.head()"
      ],
      "metadata": {
        "id": "wSEoObnGSlrk"
      },
      "execution_count": null,
      "outputs": []
    },
    {
      "cell_type": "markdown",
      "source": [
        "### **Student Data Set**\n",
        "\n",
        "The attributes are:\n",
        "\n",
        "1) **Age**: continuous.\n",
        "\n",
        "2) **Auditory**: Numeric, valid range [0,10]. Does student learn best when listening or talking.\n",
        "\n",
        "3) **Kinaesthetic**: Numeric, valid range [0,10]. Does student learn best when doing.\n",
        "\n",
        "4) **Visual**: Numeric, valid range [0,10]. Does student learn when reading text or from diagrams.\n",
        "\n",
        "5) **Extrinsic Motivation**: Numeric, valid range [0,10]. Is the student motivation by external awards such as good grades\n",
        "\n",
        "6) **Intrinsic Motivation**: Numeric, valid range [0,10]. Is the student motivated by an interest in learning itself\n",
        "\n",
        "7) **Self-Efficacy**: Numeric, valid range [0,10]. Student's belief that they can do well\n",
        "\n",
        "8) **Study Time**: Numeric, valid range [0,10]. Representative of weekly hours spent studying\n",
        "\n",
        "9) **Conscientiousness**: Numeric, valid range [0,10]. Personality trait.\n",
        "\n",
        "10) **CAO Points**: range [0, 625] leaving certificate points, end of school state exam in Ireland\n",
        "\n",
        "11) **Maths**: range [0,100] - leaving certificate score in Mathematics\n",
        "\n",
        "12) **English**: range [0,100] - leaving certificate score in English"
      ],
      "metadata": {
        "id": "JGuNSLB_IG9T"
      }
    },
    {
      "cell_type": "code",
      "source": [
        "#Checking for null values\n",
        "print(df.isnull().sum())\n",
        "sns.heatmap(df.isnull(), cbar=False)"
      ],
      "metadata": {
        "id": "dckOdcGRSyPl"
      },
      "execution_count": null,
      "outputs": []
    },
    {
      "cell_type": "code",
      "source": [
        "# Detailed overview of the dataframe itself.\n",
        "df.info()"
      ],
      "metadata": {
        "id": "OMBMhgVVS1mj"
      },
      "execution_count": null,
      "outputs": []
    },
    {
      "cell_type": "code",
      "source": [
        "# remove duplicates, if any\n",
        "df = df[~df.duplicated()] \n",
        "df.shape\n",
        "#No duplicate values"
      ],
      "metadata": {
        "id": "ArJyaHzgS7O9"
      },
      "execution_count": null,
      "outputs": []
    },
    {
      "cell_type": "markdown",
      "source": [
        " ### i) Investigate correlation in the new dataframe."
      ],
      "metadata": {
        "id": "66OqB0QdXNGm"
      }
    },
    {
      "cell_type": "code",
      "source": [
        "corr = df.corr()\n",
        "corr.style.background_gradient(cmap='coolwarm')"
      ],
      "metadata": {
        "id": "bd4m6EYkTAQF"
      },
      "execution_count": null,
      "outputs": []
    },
    {
      "cell_type": "markdown",
      "source": [
        "### ii) Variables correlated to Pass."
      ],
      "metadata": {
        "id": "v68JmO0xaI5h"
      }
    },
    {
      "cell_type": "code",
      "source": [
        "df.corr()['Pass'].sort_values().drop('Pass').plot(kind='barh')"
      ],
      "metadata": {
        "id": "B6UU0NbYXswu"
      },
      "execution_count": null,
      "outputs": []
    },
    {
      "cell_type": "markdown",
      "source": [
        "### iii) Summary of Pass and Fail"
      ],
      "metadata": {
        "id": "8BqSlw-fYXp1"
      }
    },
    {
      "cell_type": "code",
      "source": [
        "sns.countplot(x='Pass', data=df, palette='hls')"
      ],
      "metadata": {
        "id": "T9fwV3kQYiib"
      },
      "execution_count": null,
      "outputs": []
    },
    {
      "cell_type": "markdown",
      "source": [
        "From the above graph, we observed there are many more Students are 'Pass'. This is referred to as 'class imbalance'."
      ],
      "metadata": {
        "id": "AovSESzHY4i2"
      }
    },
    {
      "cell_type": "markdown",
      "source": [
        "## **3.Standardization of data using MinMax Scaler**"
      ],
      "metadata": {
        "id": "P96mYIy3azp5"
      }
    },
    {
      "cell_type": "code",
      "source": [
        "# Independent Variable\n",
        "X = df.drop(['Pass'], axis=1)\n",
        "\n",
        "# Depenedent Variable\n",
        "y = df.Pass.values"
      ],
      "metadata": {
        "id": "k3-FYSn1bPjd"
      },
      "execution_count": null,
      "outputs": []
    },
    {
      "cell_type": "code",
      "source": [
        "X.head()"
      ],
      "metadata": {
        "id": "h-iVR_d8H8jV"
      },
      "execution_count": null,
      "outputs": []
    },
    {
      "cell_type": "code",
      "source": [
        "trans = preprocessing.MinMaxScaler(feature_range=(-1,1))\n",
        "scaled_X = pd.DataFrame(trans.fit_transform(X))\n",
        "column_names = ['age', 'Auditory', 'Kinaesthetic', 'Visual', 'ExtrinsicMotivation', 'IntrinsicMotivation', 'SelfEfficacy', 'StudyTime', 'Conscientiousness', 'CAOpoints', 'Maths', 'English']\n",
        "scaled_X.columns = column_names"
      ],
      "metadata": {
        "id": "jkMp7MIQY3Sc"
      },
      "execution_count": null,
      "outputs": []
    },
    {
      "cell_type": "code",
      "source": [
        "scaled_X.head()"
      ],
      "metadata": {
        "id": "dYBXoVYcba8a"
      },
      "execution_count": null,
      "outputs": []
    },
    {
      "cell_type": "markdown",
      "source": [
        "## **4.Classification Using KNN**"
      ],
      "metadata": {
        "id": "dLk80wI6MTzA"
      }
    },
    {
      "cell_type": "markdown",
      "source": [
        "### i) KNN Model without scaler"
      ],
      "metadata": {
        "id": "XYUcTDrKMn_p"
      }
    },
    {
      "cell_type": "code",
      "source": [
        "X_train, X_test, y_train, y_test = train_test_split(X, y, test_size=0.33, random_state=42)"
      ],
      "metadata": {
        "id": "XhqmyVtCIDRg"
      },
      "execution_count": null,
      "outputs": []
    },
    {
      "cell_type": "code",
      "source": [
        "neigh = KNeighborsClassifier(n_neighbors=5)\n",
        "knn = neigh.fit(X_train, y_train)\n",
        "y_pred = knn.predict(X_test)"
      ],
      "metadata": {
        "id": "yFM9ECEXIDO_"
      },
      "execution_count": null,
      "outputs": []
    },
    {
      "cell_type": "code",
      "source": [
        "target_names = ['Fail', 'Pass']\n",
        "print('Confusion Matrix\\n')\n",
        "print(confusion_matrix(y_test, y_pred))\n",
        "print('\\nClassification report\\n')\n",
        "print(classification_report(y_test, y_pred, target_names=target_names))\n",
        "classification_report_knn = pd.DataFrame(classification_report(y_test,y_pred,output_dict=True)).T\n",
        "knn_without_scaler = classification_report_knn['f1-score']['accuracy']"
      ],
      "metadata": {
        "id": "0jj-Qt-LIC-s"
      },
      "execution_count": null,
      "outputs": []
    },
    {
      "cell_type": "markdown",
      "source": [
        "### ii) KNN Model with scaler"
      ],
      "metadata": {
        "id": "MLfQwn8PMx-X"
      }
    },
    {
      "cell_type": "code",
      "source": [
        "X_train, X_test, y_train, y_test = train_test_split(scaled_X, y, test_size=0.33, random_state=42)\n",
        "neigh = KNeighborsClassifier(n_neighbors=5)\n",
        "knn = neigh.fit(X_train, y_train)\n",
        "y_pred = knn.predict(X_test)\n",
        "print('Confusion Matrix\\n')\n",
        "print(confusion_matrix(y_test, y_pred))\n",
        "print('\\nClassification report\\n')\n",
        "print(classification_report(y_test, y_pred, target_names=target_names))"
      ],
      "metadata": {
        "id": "5vTHBaMtI-bH"
      },
      "execution_count": null,
      "outputs": []
    },
    {
      "cell_type": "markdown",
      "source": [
        "### iii) Parameter Search using For Loop"
      ],
      "metadata": {
        "id": "8c_WZkryM-Pk"
      }
    },
    {
      "cell_type": "code",
      "source": [
        "for x in [5,10,15,25,30,35]:\n",
        "  neigh = KNeighborsClassifier(n_neighbors=x)\n",
        "  knn = neigh.fit(X_train, y_train)\n",
        "  y_pred = knn.predict(X_test)\n",
        "  print(f\"The value of K = {x}\")\n",
        "  print('\\nClassification report\\n')\n",
        "  print(classification_report(y_test, y_pred, target_names=target_names))"
      ],
      "metadata": {
        "id": "GKYtX85YJpub"
      },
      "execution_count": null,
      "outputs": []
    },
    {
      "cell_type": "markdown",
      "source": [
        "### iv) Parameter Selection using GridSearchCV"
      ],
      "metadata": {
        "id": "-9ODzkthNJ5Z"
      }
    },
    {
      "cell_type": "code",
      "source": [
        "grid_params = {\n",
        "    'n_neighbors' : [1,3,5,7,9,11,13,15,17,19,21,23,25,27,29,31,33,35],\n",
        "    'weights' : ['uniform','distance'],\n",
        "    'metric' : ['euclidean','manhattan']\n",
        "}\n",
        "\n",
        "gs = GridSearchCV(\n",
        "  KNeighborsClassifier(),\n",
        "  grid_params, \n",
        "  cv = 3, # cross validation to try for each set of parameters\n",
        "  n_jobs = -1, # number of processors -1 will use all avaliable\n",
        "  verbose = 1 # detailed print out\n",
        ")\n",
        "\n",
        "gs_results = gs.fit(X_train, y_train)"
      ],
      "metadata": {
        "id": "G48c9vEHK1Fd"
      },
      "execution_count": null,
      "outputs": []
    },
    {
      "cell_type": "code",
      "source": [
        "print('Best Parameters\\n')\n",
        "print(gs_results.best_estimator_)\n",
        "\n",
        "grid_predictions = gs.predict(X_test)\n",
        "\n",
        "print('Confusion Matrix\\n')\n",
        "print(confusion_matrix(y_test, grid_predictions))\n",
        "print('\\nClassification report\\n')\n",
        "print(classification_report(y_test, grid_predictions, target_names=target_names))\n",
        "classification_report_knn = pd.DataFrame(classification_report(y_test,grid_predictions,output_dict=True)).T\n",
        "knn_with_scaler = classification_report_knn['f1-score']['accuracy']"
      ],
      "metadata": {
        "id": "vILJdn7MK9eF"
      },
      "execution_count": null,
      "outputs": []
    },
    {
      "cell_type": "markdown",
      "source": [
        "## **5.Classification Using Logistic Regression**"
      ],
      "metadata": {
        "id": "XNf-xJmOl5BV"
      }
    },
    {
      "cell_type": "markdown",
      "source": [
        "### i) Logistic Regression Model without scaler"
      ],
      "metadata": {
        "id": "VeFtLxXmmA9i"
      }
    },
    {
      "cell_type": "code",
      "source": [
        "X_train, X_test, y_train, y_test = train_test_split(X, y, test_size=0.33, random_state=42)\n",
        "\n",
        "# instantiate the model (using the default parameters)\n",
        "\n",
        "logreg = LogisticRegression(solver='lbfgs', max_iter=300)\n",
        "\n",
        "# fit the model with data\n",
        "logreg.fit(X_train,y_train)"
      ],
      "metadata": {
        "id": "SIFeYvmXl7vl"
      },
      "execution_count": null,
      "outputs": []
    },
    {
      "cell_type": "code",
      "source": [
        "# Coefficient and Intercept\n",
        "print(logreg.coef_)\n",
        "print(logreg.intercept_)"
      ],
      "metadata": {
        "id": "N4VMrAR9qtUI"
      },
      "execution_count": null,
      "outputs": []
    },
    {
      "cell_type": "code",
      "source": [
        "# Create dataframe from regressor coefficient to display results in a dataframe\n",
        "column_names = ['age', 'Auditory', 'Kinaesthetic', 'Visual', 'ExtrinsicMotivation', 'IntrinsicMotivation', 'SelfEfficacy', 'StudyTime', 'Conscientiousness', 'CAOpoints', 'Maths', 'English']\n",
        "coefficient_df = pd.DataFrame(logreg.coef_) # T - Transpose dataframe rows to columns\n",
        "coefficient_df.columns = column_names\n",
        "coefficient_df"
      ],
      "metadata": {
        "id": "vu1PjV6fquK0"
      },
      "execution_count": null,
      "outputs": []
    },
    {
      "cell_type": "code",
      "source": [
        "# Predict test set from model built during training \n",
        "y_pred = logreg.predict(X_test)"
      ],
      "metadata": {
        "id": "ID-DFklKqwHg"
      },
      "execution_count": null,
      "outputs": []
    },
    {
      "cell_type": "markdown",
      "source": [
        "#### i) Confusion Matrix"
      ],
      "metadata": {
        "id": "uVS8rafdrAXd"
      }
    },
    {
      "cell_type": "code",
      "source": [
        "cnf_matrix = metrics.confusion_matrix(y_test, y_pred)\n",
        "fig, ax = plt.subplots()\n",
        "# create heatmap\n",
        "sns.heatmap(pd.DataFrame(cnf_matrix), annot=True, cmap=\"YlGnBu\" ,fmt='g')\n",
        "ax.xaxis.set_label_position(\"top\")\n",
        "plt.tight_layout()\n",
        "plt.title('Confusion matrix', y=1.1)\n",
        "plt.ylabel('Actual label')\n",
        "plt.xlabel('Predicted label')\n",
        "ax.xaxis.set_ticklabels(['Fail', 'Pass']); ax.yaxis.set_ticklabels(['Fail', 'Pass']);"
      ],
      "metadata": {
        "id": "6l8AhLm3q6JW"
      },
      "execution_count": null,
      "outputs": []
    },
    {
      "cell_type": "markdown",
      "source": [
        "#### ii) classification report - Accuracy, Precision, Recall, F1-Score"
      ],
      "metadata": {
        "id": "__n-KfSmrIw-"
      }
    },
    {
      "cell_type": "code",
      "source": [
        "log_without_scaler = classification_report(y_test, y_pred, target_names=target_names)\n",
        "classificationReport = pd.DataFrame(classification_report(y_test,y_pred,output_dict=True)).T\n",
        "log_without_scaler = classificationReport['f1-score']['accuracy']\n",
        "classificationReport"
      ],
      "metadata": {
        "id": "l2uMtccPq9lL"
      },
      "execution_count": null,
      "outputs": []
    },
    {
      "cell_type": "markdown",
      "source": [
        "#### iii) ROC Curve"
      ],
      "metadata": {
        "id": "QPkzcf5YrNlf"
      }
    },
    {
      "cell_type": "code",
      "source": [
        "logit_roc_auc = metrics.roc_auc_score(y_test, y_pred)\n",
        "fpr, tpr, thresholds = metrics.roc_curve(y_test,  y_pred)\n",
        "plt.figure()\n",
        "plt.plot(fpr, tpr, label='Logistic Regression (area = %0.2f)' % logit_roc_auc)\n",
        "plt.plot([0, 1], [0, 1],'r--')\n",
        "plt.xlim([0.0, 1.0])\n",
        "plt.ylim([0.0, 1.05])\n",
        "plt.xlabel('False Positive Rate')\n",
        "plt.ylabel('True Positive Rate')\n",
        "plt.title('Receiver operating characteristic')\n",
        "plt.legend(loc=\"lower right\")\n",
        "plt.show()"
      ],
      "metadata": {
        "id": "a8hIsmEvrMm9"
      },
      "execution_count": null,
      "outputs": []
    },
    {
      "cell_type": "markdown",
      "source": [
        "### ii) Logistic Regression Model with scaler"
      ],
      "metadata": {
        "id": "1FtF75fqrZhb"
      }
    },
    {
      "cell_type": "code",
      "source": [
        "X_train, X_test, y_train, y_test = train_test_split(scaled_X, y, test_size=0.33, random_state=42)"
      ],
      "metadata": {
        "id": "71ml45ArrTk3"
      },
      "execution_count": null,
      "outputs": []
    },
    {
      "cell_type": "code",
      "source": [
        "# instantiate the model (using the default parameters)\n",
        "logreg = LogisticRegression(solver='lbfgs', max_iter=300)\n",
        "\n",
        "# fit the model with data\n",
        "logreg.fit(X_train,y_train)"
      ],
      "metadata": {
        "id": "tP2798DnrhQq"
      },
      "execution_count": null,
      "outputs": []
    },
    {
      "cell_type": "code",
      "source": [
        "# Coefficient and Intercept\n",
        "print(logreg.coef_)\n",
        "print(logreg.intercept_)"
      ],
      "metadata": {
        "id": "S65D65l_rkce"
      },
      "execution_count": null,
      "outputs": []
    },
    {
      "cell_type": "code",
      "source": [
        "# Create dataframe from regressor coefficient to display results in a dataframe\n",
        "column_names = ['age', 'Auditory', 'Kinaesthetic', 'Visual', 'ExtrinsicMotivation', 'IntrinsicMotivation', 'SelfEfficacy', 'StudyTime', 'Conscientiousness', 'CAOpoints', 'Maths', 'English']\n",
        "coefficient_df = pd.DataFrame(logreg.coef_) # T - Transpose dataframe rows to columns\n",
        "coefficient_df.columns = column_names\n",
        "coefficient_df"
      ],
      "metadata": {
        "id": "19zpqc_LrmEP"
      },
      "execution_count": null,
      "outputs": []
    },
    {
      "cell_type": "code",
      "source": [
        "# Predict test set from model built during training \n",
        "y_pred = logreg.predict(X_test)"
      ],
      "metadata": {
        "id": "MvugS5xBrn-E"
      },
      "execution_count": null,
      "outputs": []
    },
    {
      "cell_type": "code",
      "source": [
        "cnf_matrix = metrics.confusion_matrix(y_test, y_pred)\n",
        "fig, ax = plt.subplots()\n",
        "# create heatmap\n",
        "sns.heatmap(pd.DataFrame(cnf_matrix), annot=True, cmap=\"YlGnBu\" ,fmt='g')\n",
        "ax.xaxis.set_label_position(\"top\")\n",
        "plt.tight_layout()\n",
        "plt.title('Confusion matrix', y=1.1)\n",
        "plt.ylabel('Actual label')\n",
        "plt.xlabel('Predicted label')\n",
        "ax.xaxis.set_ticklabels(['Fail', 'Pass']); ax.yaxis.set_ticklabels(['Fail', 'Pass']);"
      ],
      "metadata": {
        "id": "Wd6_uYykrrtB"
      },
      "execution_count": null,
      "outputs": []
    },
    {
      "cell_type": "code",
      "source": [
        "\n",
        "classificationReport = pd.DataFrame(classification_report(y_test,y_pred,output_dict=True)).T\n",
        "log_with_scaler = classificationReport['f1-score']['accuracy']\n",
        "classificationReport"
      ],
      "metadata": {
        "id": "muDzBbYirt1S"
      },
      "execution_count": null,
      "outputs": []
    },
    {
      "cell_type": "code",
      "source": [
        "logit_roc_auc = metrics.roc_auc_score(y_test, y_pred)\n",
        "fpr, tpr, thresholds = metrics.roc_curve(y_test,  y_pred)\n",
        "plt.figure()\n",
        "plt.plot(fpr, tpr, label='Logistic Regression (area = %0.2f)' % logit_roc_auc)\n",
        "plt.plot([0, 1], [0, 1],'r--')\n",
        "plt.xlim([0.0, 1.0])\n",
        "plt.ylim([0.0, 1.05])\n",
        "plt.xlabel('False Positive Rate')\n",
        "plt.ylabel('True Positive Rate')\n",
        "plt.title('Receiver operating characteristic')\n",
        "plt.legend(loc=\"lower right\")\n",
        "plt.show()"
      ],
      "metadata": {
        "id": "JE2sgOwLryPf"
      },
      "execution_count": null,
      "outputs": []
    },
    {
      "cell_type": "markdown",
      "source": [
        "## **6.Final Evaluation on Accuracy KNN Vs Logistic Regression**"
      ],
      "metadata": {
        "id": "D4iZQGmQxd1F"
      }
    },
    {
      "cell_type": "code",
      "source": [
        "knn_log_compare = pd.DataFrame(columns=['knn_without_scaler', 'knn_with_scaler', 'log_without_scaler', 'log_with_scaler'])\n",
        "knn_log_compare = knn_log_compare.append({'knn_without_scaler': knn_without_scaler, 'knn_with_scaler': knn_with_scaler, 'log_without_scaler': log_without_scaler, 'log_with_scaler': log_with_scaler }, ignore_index=True)"
      ],
      "metadata": {
        "id": "jzSVHtfxw3AG"
      },
      "execution_count": null,
      "outputs": []
    },
    {
      "cell_type": "code",
      "source": [
        "knn_log_compare"
      ],
      "metadata": {
        "id": "wtFeKKJmvumm"
      },
      "execution_count": null,
      "outputs": []
    }
  ]
}