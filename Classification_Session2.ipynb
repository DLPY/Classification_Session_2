{
  "nbformat": 4,
  "nbformat_minor": 0,
  "metadata": {
    "colab": {
      "name": "Classification_Session2.ipynb",
      "provenance": [],
      "collapsed_sections": [],
      "toc_visible": true,
      "include_colab_link": true
    },
    "kernelspec": {
      "name": "python3",
      "display_name": "Python 3"
    },
    "language_info": {
      "name": "python"
    }
  },
  "cells": [
    {
      "cell_type": "markdown",
      "metadata": {
        "id": "view-in-github",
        "colab_type": "text"
      },
      "source": [
        "<a href=\"https://colab.research.google.com/github/DLPY/Classification_Session_2/blob/main/Classification_Session2.ipynb\" target=\"_parent\"><img src=\"https://colab.research.google.com/assets/colab-badge.svg\" alt=\"Open In Colab\"/></a>"
      ]
    },
    {
      "cell_type": "markdown",
      "source": [
        "# Classification Session 2 - Notebook"
      ],
      "metadata": {
        "id": "yIBDtsxjTKzj"
      }
    },
    {
      "cell_type": "markdown",
      "source": [
        "##**1.Import Pandas, Pyplot and Read data**"
      ],
      "metadata": {
        "id": "waTeIDSXOlTy"
      }
    },
    {
      "cell_type": "code",
      "execution_count": 1,
      "metadata": {
        "id": "hvfzh5SETCh-",
        "colab": {
          "base_uri": "https://localhost:8080/"
        },
        "outputId": "ab446c35-785d-4c6d-9148-f223fbcc953c"
      },
      "outputs": [
        {
          "output_type": "stream",
          "name": "stderr",
          "text": [
            "/usr/local/lib/python3.7/dist-packages/statsmodels/tools/_testing.py:19: FutureWarning: pandas.util.testing is deprecated. Use the functions in the public API at pandas.testing instead.\n",
            "  import pandas.util.testing as tm\n"
          ]
        }
      ],
      "source": [
        "import matplotlib.pyplot as plt #Visualization Lib\n",
        "import numpy as np #mathamatical functions\n",
        "import pandas as pd #Data manipulation lib\n",
        "import seaborn as sns #Visualization Lib\n",
        "from sklearn import metrics, preprocessing\n",
        "from sklearn.linear_model import LogisticRegression\n",
        "from sklearn.metrics import confusion_matrix, classification_report\n",
        "from sklearn.model_selection import GridSearchCV, train_test_split\n",
        "from sklearn.neighbors import KNeighborsClassifier\n",
        "import statsmodels.api as sm"
      ]
    },
    {
      "cell_type": "code",
      "source": [
        "# CSV is first read in from a github raw file another option is to import the notebook to your session storage by click on the file icon on left toolbar then importing csv\n",
        "! wget https://raw.githubusercontent.com/DLPY/Classification_Session_2/main/Student2020.csv"
      ],
      "metadata": {
        "id": "gpisi7PaPec3",
        "outputId": "179c53bd-0035-43d5-b5c7-35b9e3dd13f5",
        "colab": {
          "base_uri": "https://localhost:8080/"
        }
      },
      "execution_count": 2,
      "outputs": [
        {
          "output_type": "stream",
          "name": "stdout",
          "text": [
            "--2022-02-22 18:46:01--  https://raw.githubusercontent.com/DLPY/Classification_Session_2/main/Student2020.csv\n",
            "Resolving raw.githubusercontent.com (raw.githubusercontent.com)... 185.199.109.133, 185.199.108.133, 185.199.110.133, ...\n",
            "Connecting to raw.githubusercontent.com (raw.githubusercontent.com)|185.199.109.133|:443... connected.\n",
            "HTTP request sent, awaiting response... 200 OK\n",
            "Length: 113427 (111K) [text/plain]\n",
            "Saving to: ‘Student2020.csv.6’\n",
            "\n",
            "\rStudent2020.csv.6     0%[                    ]       0  --.-KB/s               \rStudent2020.csv.6   100%[===================>] 110.77K  --.-KB/s    in 0.02s   \n",
            "\n",
            "2022-02-22 18:46:01 (5.33 MB/s) - ‘Student2020.csv.6’ saved [113427/113427]\n",
            "\n"
          ]
        }
      ]
    },
    {
      "cell_type": "code",
      "source": [
        "# Once we have the csv file pd.read_csv() converts it to a pandas dataframe\n",
        "df = pd.read_csv('Student2020.csv')\n",
        "df['Pass'] = df['Pass'].apply(lambda x : 0 if x == 'Fail' else 1 )"
      ],
      "metadata": {
        "id": "XRxgsmWJPi0G"
      },
      "execution_count": 3,
      "outputs": []
    },
    {
      "cell_type": "markdown",
      "source": [
        "##**2. Exploratory Data Analysis (EDA)**"
      ],
      "metadata": {
        "id": "kAPYvl5VPzzA"
      }
    },
    {
      "cell_type": "code",
      "source": [
        "# Display the count of rows and columns.\n",
        "df.shape"
      ],
      "metadata": {
        "id": "lwEObfiOPpKs",
        "outputId": "de24d7e8-af96-49d2-d118-58d18dc07f31",
        "colab": {
          "base_uri": "https://localhost:8080/"
        }
      },
      "execution_count": 4,
      "outputs": [
        {
          "output_type": "execute_result",
          "data": {
            "text/plain": [
              "(1131, 13)"
            ]
          },
          "metadata": {},
          "execution_count": 4
        }
      ]
    },
    {
      "cell_type": "code",
      "source": [
        "# Review a small sample of the data.\n",
        "df.head()"
      ],
      "metadata": {
        "id": "wSEoObnGSlrk",
        "outputId": "1f7d4d70-9d15-4a6c-c0e4-e6d3ca52df10",
        "colab": {
          "base_uri": "https://localhost:8080/",
          "height": 270
        }
      },
      "execution_count": 5,
      "outputs": [
        {
          "output_type": "execute_result",
          "data": {
            "text/html": [
              "\n",
              "  <div id=\"df-3b9dc391-eb9a-4839-abd8-fd8e5528df95\">\n",
              "    <div class=\"colab-df-container\">\n",
              "      <div>\n",
              "<style scoped>\n",
              "    .dataframe tbody tr th:only-of-type {\n",
              "        vertical-align: middle;\n",
              "    }\n",
              "\n",
              "    .dataframe tbody tr th {\n",
              "        vertical-align: top;\n",
              "    }\n",
              "\n",
              "    .dataframe thead th {\n",
              "        text-align: right;\n",
              "    }\n",
              "</style>\n",
              "<table border=\"1\" class=\"dataframe\">\n",
              "  <thead>\n",
              "    <tr style=\"text-align: right;\">\n",
              "      <th></th>\n",
              "      <th>age</th>\n",
              "      <th>Auditory</th>\n",
              "      <th>Kinaesthetic</th>\n",
              "      <th>Visual</th>\n",
              "      <th>ExtrinsicMotivation</th>\n",
              "      <th>IntrinsicMotivation</th>\n",
              "      <th>SelfEfficacy</th>\n",
              "      <th>StudyTime</th>\n",
              "      <th>Conscientiousness</th>\n",
              "      <th>CAOpoints</th>\n",
              "      <th>Maths</th>\n",
              "      <th>English</th>\n",
              "      <th>Pass</th>\n",
              "    </tr>\n",
              "  </thead>\n",
              "  <tbody>\n",
              "    <tr>\n",
              "      <th>0</th>\n",
              "      <td>19</td>\n",
              "      <td>5.000000</td>\n",
              "      <td>6.698392</td>\n",
              "      <td>3.301608</td>\n",
              "      <td>9.308199</td>\n",
              "      <td>6.875000</td>\n",
              "      <td>7.321865</td>\n",
              "      <td>7.790997</td>\n",
              "      <td>8.721329</td>\n",
              "      <td>352</td>\n",
              "      <td>19</td>\n",
              "      <td>45</td>\n",
              "      <td>1</td>\n",
              "    </tr>\n",
              "    <tr>\n",
              "      <th>1</th>\n",
              "      <td>31</td>\n",
              "      <td>6.285538</td>\n",
              "      <td>2.500000</td>\n",
              "      <td>6.214462</td>\n",
              "      <td>7.535538</td>\n",
              "      <td>6.303307</td>\n",
              "      <td>7.095179</td>\n",
              "      <td>6.892769</td>\n",
              "      <td>6.440564</td>\n",
              "      <td>187</td>\n",
              "      <td>35</td>\n",
              "      <td>28</td>\n",
              "      <td>1</td>\n",
              "    </tr>\n",
              "    <tr>\n",
              "      <th>2</th>\n",
              "      <td>36</td>\n",
              "      <td>6.776966</td>\n",
              "      <td>2.500000</td>\n",
              "      <td>5.723034</td>\n",
              "      <td>8.026966</td>\n",
              "      <td>7.040449</td>\n",
              "      <td>7.258989</td>\n",
              "      <td>7.138483</td>\n",
              "      <td>6.194850</td>\n",
              "      <td>111</td>\n",
              "      <td>21</td>\n",
              "      <td>17</td>\n",
              "      <td>1</td>\n",
              "    </tr>\n",
              "    <tr>\n",
              "      <th>3</th>\n",
              "      <td>22</td>\n",
              "      <td>6.756132</td>\n",
              "      <td>3.987737</td>\n",
              "      <td>4.256132</td>\n",
              "      <td>6.621934</td>\n",
              "      <td>5.945164</td>\n",
              "      <td>5.089465</td>\n",
              "      <td>2.500000</td>\n",
              "      <td>4.042689</td>\n",
              "      <td>327</td>\n",
              "      <td>36</td>\n",
              "      <td>46</td>\n",
              "      <td>0</td>\n",
              "    </tr>\n",
              "    <tr>\n",
              "      <th>4</th>\n",
              "      <td>23</td>\n",
              "      <td>7.228655</td>\n",
              "      <td>2.228655</td>\n",
              "      <td>5.542690</td>\n",
              "      <td>6.453509</td>\n",
              "      <td>6.942836</td>\n",
              "      <td>6.285575</td>\n",
              "      <td>3.314034</td>\n",
              "      <td>4.528460</td>\n",
              "      <td>274</td>\n",
              "      <td>33</td>\n",
              "      <td>35</td>\n",
              "      <td>0</td>\n",
              "    </tr>\n",
              "  </tbody>\n",
              "</table>\n",
              "</div>\n",
              "      <button class=\"colab-df-convert\" onclick=\"convertToInteractive('df-3b9dc391-eb9a-4839-abd8-fd8e5528df95')\"\n",
              "              title=\"Convert this dataframe to an interactive table.\"\n",
              "              style=\"display:none;\">\n",
              "        \n",
              "  <svg xmlns=\"http://www.w3.org/2000/svg\" height=\"24px\"viewBox=\"0 0 24 24\"\n",
              "       width=\"24px\">\n",
              "    <path d=\"M0 0h24v24H0V0z\" fill=\"none\"/>\n",
              "    <path d=\"M18.56 5.44l.94 2.06.94-2.06 2.06-.94-2.06-.94-.94-2.06-.94 2.06-2.06.94zm-11 1L8.5 8.5l.94-2.06 2.06-.94-2.06-.94L8.5 2.5l-.94 2.06-2.06.94zm10 10l.94 2.06.94-2.06 2.06-.94-2.06-.94-.94-2.06-.94 2.06-2.06.94z\"/><path d=\"M17.41 7.96l-1.37-1.37c-.4-.4-.92-.59-1.43-.59-.52 0-1.04.2-1.43.59L10.3 9.45l-7.72 7.72c-.78.78-.78 2.05 0 2.83L4 21.41c.39.39.9.59 1.41.59.51 0 1.02-.2 1.41-.59l7.78-7.78 2.81-2.81c.8-.78.8-2.07 0-2.86zM5.41 20L4 18.59l7.72-7.72 1.47 1.35L5.41 20z\"/>\n",
              "  </svg>\n",
              "      </button>\n",
              "      \n",
              "  <style>\n",
              "    .colab-df-container {\n",
              "      display:flex;\n",
              "      flex-wrap:wrap;\n",
              "      gap: 12px;\n",
              "    }\n",
              "\n",
              "    .colab-df-convert {\n",
              "      background-color: #E8F0FE;\n",
              "      border: none;\n",
              "      border-radius: 50%;\n",
              "      cursor: pointer;\n",
              "      display: none;\n",
              "      fill: #1967D2;\n",
              "      height: 32px;\n",
              "      padding: 0 0 0 0;\n",
              "      width: 32px;\n",
              "    }\n",
              "\n",
              "    .colab-df-convert:hover {\n",
              "      background-color: #E2EBFA;\n",
              "      box-shadow: 0px 1px 2px rgba(60, 64, 67, 0.3), 0px 1px 3px 1px rgba(60, 64, 67, 0.15);\n",
              "      fill: #174EA6;\n",
              "    }\n",
              "\n",
              "    [theme=dark] .colab-df-convert {\n",
              "      background-color: #3B4455;\n",
              "      fill: #D2E3FC;\n",
              "    }\n",
              "\n",
              "    [theme=dark] .colab-df-convert:hover {\n",
              "      background-color: #434B5C;\n",
              "      box-shadow: 0px 1px 3px 1px rgba(0, 0, 0, 0.15);\n",
              "      filter: drop-shadow(0px 1px 2px rgba(0, 0, 0, 0.3));\n",
              "      fill: #FFFFFF;\n",
              "    }\n",
              "  </style>\n",
              "\n",
              "      <script>\n",
              "        const buttonEl =\n",
              "          document.querySelector('#df-3b9dc391-eb9a-4839-abd8-fd8e5528df95 button.colab-df-convert');\n",
              "        buttonEl.style.display =\n",
              "          google.colab.kernel.accessAllowed ? 'block' : 'none';\n",
              "\n",
              "        async function convertToInteractive(key) {\n",
              "          const element = document.querySelector('#df-3b9dc391-eb9a-4839-abd8-fd8e5528df95');\n",
              "          const dataTable =\n",
              "            await google.colab.kernel.invokeFunction('convertToInteractive',\n",
              "                                                     [key], {});\n",
              "          if (!dataTable) return;\n",
              "\n",
              "          const docLinkHtml = 'Like what you see? Visit the ' +\n",
              "            '<a target=\"_blank\" href=https://colab.research.google.com/notebooks/data_table.ipynb>data table notebook</a>'\n",
              "            + ' to learn more about interactive tables.';\n",
              "          element.innerHTML = '';\n",
              "          dataTable['output_type'] = 'display_data';\n",
              "          await google.colab.output.renderOutput(dataTable, element);\n",
              "          const docLink = document.createElement('div');\n",
              "          docLink.innerHTML = docLinkHtml;\n",
              "          element.appendChild(docLink);\n",
              "        }\n",
              "      </script>\n",
              "    </div>\n",
              "  </div>\n",
              "  "
            ],
            "text/plain": [
              "   age  Auditory  Kinaesthetic    Visual  ...  CAOpoints  Maths  English  Pass\n",
              "0   19  5.000000      6.698392  3.301608  ...        352     19       45     1\n",
              "1   31  6.285538      2.500000  6.214462  ...        187     35       28     1\n",
              "2   36  6.776966      2.500000  5.723034  ...        111     21       17     1\n",
              "3   22  6.756132      3.987737  4.256132  ...        327     36       46     0\n",
              "4   23  7.228655      2.228655  5.542690  ...        274     33       35     0\n",
              "\n",
              "[5 rows x 13 columns]"
            ]
          },
          "metadata": {},
          "execution_count": 5
        }
      ]
    },
    {
      "cell_type": "code",
      "source": [
        "#Checking for null values\n",
        "print(df.isnull().sum())\n",
        "sns.heatmap(df.isnull(), cbar=False)"
      ],
      "metadata": {
        "id": "dckOdcGRSyPl",
        "outputId": "b5b19099-191a-4777-cafe-098e1ca86c7e",
        "colab": {
          "base_uri": "https://localhost:8080/",
          "height": 625
        }
      },
      "execution_count": 6,
      "outputs": [
        {
          "output_type": "stream",
          "name": "stdout",
          "text": [
            "age                    0\n",
            "Auditory               0\n",
            "Kinaesthetic           0\n",
            "Visual                 0\n",
            "ExtrinsicMotivation    0\n",
            "IntrinsicMotivation    0\n",
            "SelfEfficacy           0\n",
            "StudyTime              0\n",
            "Conscientiousness      0\n",
            "CAOpoints              0\n",
            "Maths                  0\n",
            "English                0\n",
            "Pass                   0\n",
            "dtype: int64\n"
          ]
        },
        {
          "output_type": "execute_result",
          "data": {
            "text/plain": [
              "<matplotlib.axes._subplots.AxesSubplot at 0x7fe040a60650>"
            ]
          },
          "metadata": {},
          "execution_count": 6
        },
        {
          "output_type": "display_data",
          "data": {
            "image/png": "[encoded data removed]",
            "text/plain": [
              "<Figure size 432x288 with 1 Axes>"
            ]
          },
          "metadata": {
            "needs_background": "light"
          }
        }
      ]
    },
    {
      "cell_type": "code",
      "source": [
        "# Detailed overview of the dataframe itself.\n",
        "df.info()"
      ],
      "metadata": {
        "id": "OMBMhgVVS1mj",
        "outputId": "b3dbed1f-38ec-4820-8ed9-c317b82906c2",
        "colab": {
          "base_uri": "https://localhost:8080/"
        }
      },
      "execution_count": 7,
      "outputs": [
        {
          "output_type": "stream",
          "name": "stdout",
          "text": [
            "<class 'pandas.core.frame.DataFrame'>\n",
            "RangeIndex: 1131 entries, 0 to 1130\n",
            "Data columns (total 13 columns):\n",
            " #   Column               Non-Null Count  Dtype  \n",
            "---  ------               --------------  -----  \n",
            " 0   age                  1131 non-null   int64  \n",
            " 1   Auditory             1131 non-null   float64\n",
            " 2   Kinaesthetic         1131 non-null   float64\n",
            " 3   Visual               1131 non-null   float64\n",
            " 4   ExtrinsicMotivation  1131 non-null   float64\n",
            " 5   IntrinsicMotivation  1131 non-null   float64\n",
            " 6   SelfEfficacy         1131 non-null   float64\n",
            " 7   StudyTime            1131 non-null   float64\n",
            " 8   Conscientiousness    1131 non-null   float64\n",
            " 9   CAOpoints            1131 non-null   int64  \n",
            " 10  Maths                1131 non-null   int64  \n",
            " 11  English              1131 non-null   int64  \n",
            " 12  Pass                 1131 non-null   int64  \n",
            "dtypes: float64(8), int64(5)\n",
            "memory usage: 115.0 KB\n"
          ]
        }
      ]
    },
    {
      "cell_type": "code",
      "source": [
        "# remove duplicates, if any\n",
        "df = df[~df.duplicated()] \n",
        "df.shape\n",
        "#No duplicate values"
      ],
      "metadata": {
        "id": "ArJyaHzgS7O9",
        "outputId": "e757d1ce-9d6e-41db-83f0-bb1036b704b5",
        "colab": {
          "base_uri": "https://localhost:8080/"
        }
      },
      "execution_count": 8,
      "outputs": [
        {
          "output_type": "execute_result",
          "data": {
            "text/plain": [
              "(1124, 13)"
            ]
          },
          "metadata": {},
          "execution_count": 8
        }
      ]
    },
    {
      "cell_type": "markdown",
      "source": [
        " ### i) Investigate correlation in the new dataframe."
      ],
      "metadata": {
        "id": "66OqB0QdXNGm"
      }
    },
    {
      "cell_type": "code",
      "source": [
        "corr = df.corr()\n",
        "corr.style.background_gradient(cmap='coolwarm')"
      ],
      "metadata": {
        "id": "bd4m6EYkTAQF",
        "outputId": "4925902b-f6d6-4086-cda4-e829ae949114",
        "colab": {
          "base_uri": "https://localhost:8080/",
          "height": 477
        }
      },
      "execution_count": 9,
      "outputs": [
        {
          "output_type": "execute_result",
          "data": {
            "text/html": [
              "<style type=\"text/css\">\n",
              "#T_a221a_row0_col0, #T_a221a_row1_col1, #T_a221a_row2_col2, #T_a221a_row3_col3, #T_a221a_row4_col4, #T_a221a_row5_col5, #T_a221a_row6_col6, #T_a221a_row7_col7, #T_a221a_row8_col8, #T_a221a_row9_col9, #T_a221a_row10_col10, #T_a221a_row11_col11, #T_a221a_row12_col12 {\n",
              "  background-color: #b40426;\n",
              "  color: #f1f1f1;\n",
              "}\n",
              "#T_a221a_row0_col1, #T_a221a_row8_col1 {\n",
              "  background-color: #b3cdfb;\n",
              "  color: #000000;\n",
              "}\n",
              "#T_a221a_row0_col2 {\n",
              "  background-color: #aac7fd;\n",
              "  color: #000000;\n",
              "}\n",
              "#T_a221a_row0_col3, #T_a221a_row2_col9, #T_a221a_row7_col2, #T_a221a_row10_col1, #T_a221a_row11_col1, #T_a221a_row12_col11 {\n",
              "  background-color: #c3d5f4;\n",
              "  color: #000000;\n",
              "}\n",
              "#T_a221a_row0_col4, #T_a221a_row0_col6, #T_a221a_row4_col9, #T_a221a_row6_col10 {\n",
              "  background-color: #a2c1ff;\n",
              "  color: #000000;\n",
              "}\n",
              "#T_a221a_row0_col5 {\n",
              "  background-color: #d1dae9;\n",
              "  color: #000000;\n",
              "}\n",
              "#T_a221a_row0_col7 {\n",
              "  background-color: #5470de;\n",
              "  color: #f1f1f1;\n",
              "}\n",
              "#T_a221a_row0_col8, #T_a221a_row3_col0, #T_a221a_row7_col6 {\n",
              "  background-color: #ccd9ed;\n",
              "  color: #000000;\n",
              "}\n",
              "#T_a221a_row0_col9, #T_a221a_row0_col10, #T_a221a_row0_col11, #T_a221a_row2_col1, #T_a221a_row2_col3, #T_a221a_row2_col12, #T_a221a_row3_col2, #T_a221a_row3_col7, #T_a221a_row9_col0, #T_a221a_row9_col5, #T_a221a_row11_col4, #T_a221a_row11_col5, #T_a221a_row11_col6, #T_a221a_row11_col8 {\n",
              "  background-color: #3b4cc0;\n",
              "  color: #f1f1f1;\n",
              "}\n",
              "#T_a221a_row0_col12, #T_a221a_row1_col5, #T_a221a_row8_col12 {\n",
              "  background-color: #81a4fb;\n",
              "  color: #f1f1f1;\n",
              "}\n",
              "#T_a221a_row1_col0, #T_a221a_row4_col3 {\n",
              "  background-color: #c6d6f1;\n",
              "  color: #000000;\n",
              "}\n",
              "#T_a221a_row1_col2, #T_a221a_row11_col7 {\n",
              "  background-color: #445acc;\n",
              "  color: #f1f1f1;\n",
              "}\n",
              "#T_a221a_row1_col3 {\n",
              "  background-color: #6b8df0;\n",
              "  color: #f1f1f1;\n",
              "}\n",
              "#T_a221a_row1_col4 {\n",
              "  background-color: #80a3fa;\n",
              "  color: #f1f1f1;\n",
              "}\n",
              "#T_a221a_row1_col6 {\n",
              "  background-color: #7b9ff9;\n",
              "  color: #f1f1f1;\n",
              "}\n",
              "#T_a221a_row1_col7 {\n",
              "  background-color: #4a63d3;\n",
              "  color: #f1f1f1;\n",
              "}\n",
              "#T_a221a_row1_col8, #T_a221a_row8_col10, #T_a221a_row9_col12 {\n",
              "  background-color: #7da0f9;\n",
              "  color: #f1f1f1;\n",
              "}\n",
              "#T_a221a_row1_col9 {\n",
              "  background-color: #d4dbe6;\n",
              "  color: #000000;\n",
              "}\n",
              "#T_a221a_row1_col10, #T_a221a_row2_col0, #T_a221a_row9_col2 {\n",
              "  background-color: #b7cff9;\n",
              "  color: #000000;\n",
              "}\n",
              "#T_a221a_row1_col11 {\n",
              "  background-color: #cbd8ee;\n",
              "  color: #000000;\n",
              "}\n",
              "#T_a221a_row1_col12, #T_a221a_row2_col8, #T_a221a_row10_col0 {\n",
              "  background-color: #6687ed;\n",
              "  color: #f1f1f1;\n",
              "}\n",
              "#T_a221a_row2_col4 {\n",
              "  background-color: #506bda;\n",
              "  color: #f1f1f1;\n",
              "}\n",
              "#T_a221a_row2_col5, #T_a221a_row3_col1 {\n",
              "  background-color: #6180e9;\n",
              "  color: #f1f1f1;\n",
              "}\n",
              "#T_a221a_row2_col6 {\n",
              "  background-color: #4b64d5;\n",
              "  color: #f1f1f1;\n",
              "}\n",
              "#T_a221a_row2_col7 {\n",
              "  background-color: #5b7ae5;\n",
              "  color: #f1f1f1;\n",
              "}\n",
              "#T_a221a_row2_col10 {\n",
              "  background-color: #9dbdff;\n",
              "  color: #000000;\n",
              "}\n",
              "#T_a221a_row2_col11, #T_a221a_row8_col3 {\n",
              "  background-color: #c4d5f3;\n",
              "  color: #000000;\n",
              "}\n",
              "#T_a221a_row3_col4, #T_a221a_row5_col11, #T_a221a_row12_col6 {\n",
              "  background-color: #85a8fc;\n",
              "  color: #f1f1f1;\n",
              "}\n",
              "#T_a221a_row3_col5, #T_a221a_row12_col2 {\n",
              "  background-color: #93b5fe;\n",
              "  color: #000000;\n",
              "}\n",
              "#T_a221a_row3_col6, #T_a221a_row4_col7, #T_a221a_row4_col11, #T_a221a_row5_col9, #T_a221a_row6_col11 {\n",
              "  background-color: #90b2fe;\n",
              "  color: #000000;\n",
              "}\n",
              "#T_a221a_row3_col8 {\n",
              "  background-color: #8badfd;\n",
              "  color: #000000;\n",
              "}\n",
              "#T_a221a_row3_col9, #T_a221a_row10_col2 {\n",
              "  background-color: #b1cbfc;\n",
              "  color: #000000;\n",
              "}\n",
              "#T_a221a_row3_col10 {\n",
              "  background-color: #97b8ff;\n",
              "  color: #000000;\n",
              "}\n",
              "#T_a221a_row3_col11 {\n",
              "  background-color: #9ebeff;\n",
              "  color: #000000;\n",
              "}\n",
              "#T_a221a_row3_col12, #T_a221a_row5_col12 {\n",
              "  background-color: #a1c0ff;\n",
              "  color: #000000;\n",
              "}\n",
              "#T_a221a_row4_col0, #T_a221a_row4_col8, #T_a221a_row6_col0 {\n",
              "  background-color: #dfdbd9;\n",
              "  color: #000000;\n",
              "}\n",
              "#T_a221a_row4_col1 {\n",
              "  background-color: #bcd2f7;\n",
              "  color: #000000;\n",
              "}\n",
              "#T_a221a_row4_col2 {\n",
              "  background-color: #9fbfff;\n",
              "  color: #000000;\n",
              "}\n",
              "#T_a221a_row4_col5 {\n",
              "  background-color: #ead4c8;\n",
              "  color: #000000;\n",
              "}\n",
              "#T_a221a_row4_col6, #T_a221a_row6_col4, #T_a221a_row8_col4, #T_a221a_row12_col3 {\n",
              "  background-color: #dbdcde;\n",
              "  color: #000000;\n",
              "}\n",
              "#T_a221a_row4_col10, #T_a221a_row8_col2 {\n",
              "  background-color: #a9c6fd;\n",
              "  color: #000000;\n",
              "}\n",
              "#T_a221a_row4_col12 {\n",
              "  background-color: #8fb1fe;\n",
              "  color: #000000;\n",
              "}\n",
              "#T_a221a_row5_col0 {\n",
              "  background-color: #f2cbb7;\n",
              "  color: #000000;\n",
              "}\n",
              "#T_a221a_row5_col1, #T_a221a_row6_col7 {\n",
              "  background-color: #b5cdfa;\n",
              "  color: #000000;\n",
              "}\n",
              "#T_a221a_row5_col2, #T_a221a_row9_col3 {\n",
              "  background-color: #a3c2fe;\n",
              "  color: #000000;\n",
              "}\n",
              "#T_a221a_row5_col3 {\n",
              "  background-color: #c7d7f0;\n",
              "  color: #000000;\n",
              "}\n",
              "#T_a221a_row5_col4 {\n",
              "  background-color: #e7d7ce;\n",
              "  color: #000000;\n",
              "}\n",
              "#T_a221a_row5_col6 {\n",
              "  background-color: #edd1c2;\n",
              "  color: #000000;\n",
              "}\n",
              "#T_a221a_row5_col7, #T_a221a_row7_col4 {\n",
              "  background-color: #aec9fc;\n",
              "  color: #000000;\n",
              "}\n",
              "#T_a221a_row5_col8 {\n",
              "  background-color: #e8d6cc;\n",
              "  color: #000000;\n",
              "}\n",
              "#T_a221a_row5_col10 {\n",
              "  background-color: #82a6fb;\n",
              "  color: #f1f1f1;\n",
              "}\n",
              "#T_a221a_row6_col1 {\n",
              "  background-color: #b9d0f9;\n",
              "  color: #000000;\n",
              "}\n",
              "#T_a221a_row6_col2, #T_a221a_row10_col12 {\n",
              "  background-color: #9bbcff;\n",
              "  color: #000000;\n",
              "}\n",
              "#T_a221a_row6_col3 {\n",
              "  background-color: #cdd9ec;\n",
              "  color: #000000;\n",
              "}\n",
              "#T_a221a_row6_col5, #T_a221a_row8_col0 {\n",
              "  background-color: #f0cdbb;\n",
              "  color: #000000;\n",
              "}\n",
              "#T_a221a_row6_col8 {\n",
              "  background-color: #dddcdc;\n",
              "  color: #000000;\n",
              "}\n",
              "#T_a221a_row6_col9 {\n",
              "  background-color: #a5c3fe;\n",
              "  color: #000000;\n",
              "}\n",
              "#T_a221a_row6_col12 {\n",
              "  background-color: #7ea1fa;\n",
              "  color: #f1f1f1;\n",
              "}\n",
              "#T_a221a_row7_col0 {\n",
              "  background-color: #c9d7f0;\n",
              "  color: #000000;\n",
              "}\n",
              "#T_a221a_row7_col1, #T_a221a_row12_col1, #T_a221a_row12_col5 {\n",
              "  background-color: #afcafc;\n",
              "  color: #000000;\n",
              "}\n",
              "#T_a221a_row7_col3, #T_a221a_row7_col10 {\n",
              "  background-color: #abc8fd;\n",
              "  color: #000000;\n",
              "}\n",
              "#T_a221a_row7_col5 {\n",
              "  background-color: #cedaeb;\n",
              "  color: #000000;\n",
              "}\n",
              "#T_a221a_row7_col8 {\n",
              "  background-color: #ecd3c5;\n",
              "  color: #000000;\n",
              "}\n",
              "#T_a221a_row7_col9, #T_a221a_row9_col1 {\n",
              "  background-color: #c5d6f2;\n",
              "  color: #000000;\n",
              "}\n",
              "#T_a221a_row7_col11 {\n",
              "  background-color: #b6cefa;\n",
              "  color: #000000;\n",
              "}\n",
              "#T_a221a_row7_col12 {\n",
              "  background-color: #7295f4;\n",
              "  color: #f1f1f1;\n",
              "}\n",
              "#T_a221a_row8_col5 {\n",
              "  background-color: #e9d5cb;\n",
              "  color: #000000;\n",
              "}\n",
              "#T_a221a_row8_col6 {\n",
              "  background-color: #d9dce1;\n",
              "  color: #000000;\n",
              "}\n",
              "#T_a221a_row8_col7 {\n",
              "  background-color: #dadce0;\n",
              "  color: #000000;\n",
              "}\n",
              "#T_a221a_row8_col9 {\n",
              "  background-color: #94b6ff;\n",
              "  color: #000000;\n",
              "}\n",
              "#T_a221a_row8_col11 {\n",
              "  background-color: #86a9fc;\n",
              "  color: #f1f1f1;\n",
              "}\n",
              "#T_a221a_row9_col4 {\n",
              "  background-color: #4257c9;\n",
              "  color: #f1f1f1;\n",
              "}\n",
              "#T_a221a_row9_col6, #T_a221a_row11_col0 {\n",
              "  background-color: #465ecf;\n",
              "  color: #f1f1f1;\n",
              "}\n",
              "#T_a221a_row9_col7 {\n",
              "  background-color: #4e68d8;\n",
              "  color: #f1f1f1;\n",
              "}\n",
              "#T_a221a_row9_col8 {\n",
              "  background-color: #3c4ec2;\n",
              "  color: #f1f1f1;\n",
              "}\n",
              "#T_a221a_row9_col10 {\n",
              "  background-color: #ec7f63;\n",
              "  color: #f1f1f1;\n",
              "}\n",
              "#T_a221a_row9_col11 {\n",
              "  background-color: #cf453c;\n",
              "  color: #f1f1f1;\n",
              "}\n",
              "#T_a221a_row10_col3 {\n",
              "  background-color: #adc9fd;\n",
              "  color: #000000;\n",
              "}\n",
              "#T_a221a_row10_col4 {\n",
              "  background-color: #7699f6;\n",
              "  color: #f1f1f1;\n",
              "}\n",
              "#T_a221a_row10_col5, #T_a221a_row10_col7, #T_a221a_row12_col7 {\n",
              "  background-color: #5572df;\n",
              "  color: #f1f1f1;\n",
              "}\n",
              "#T_a221a_row10_col6 {\n",
              "  background-color: #6f92f3;\n",
              "  color: #f1f1f1;\n",
              "}\n",
              "#T_a221a_row10_col8 {\n",
              "  background-color: #4f69d9;\n",
              "  color: #f1f1f1;\n",
              "}\n",
              "#T_a221a_row10_col9 {\n",
              "  background-color: #e67259;\n",
              "  color: #f1f1f1;\n",
              "}\n",
              "#T_a221a_row10_col11 {\n",
              "  background-color: #f5a081;\n",
              "  color: #000000;\n",
              "}\n",
              "#T_a221a_row11_col2 {\n",
              "  background-color: #c0d4f5;\n",
              "  color: #000000;\n",
              "}\n",
              "#T_a221a_row11_col3 {\n",
              "  background-color: #9abbff;\n",
              "  color: #000000;\n",
              "}\n",
              "#T_a221a_row11_col9 {\n",
              "  background-color: #cd423b;\n",
              "  color: #f1f1f1;\n",
              "}\n",
              "#T_a221a_row11_col10 {\n",
              "  background-color: #f7aa8c;\n",
              "  color: #000000;\n",
              "}\n",
              "#T_a221a_row11_col12 {\n",
              "  background-color: #7597f6;\n",
              "  color: #f1f1f1;\n",
              "}\n",
              "#T_a221a_row12_col0 {\n",
              "  background-color: #d2dbe8;\n",
              "  color: #000000;\n",
              "}\n",
              "#T_a221a_row12_col4 {\n",
              "  background-color: #96b7ff;\n",
              "  color: #000000;\n",
              "}\n",
              "#T_a221a_row12_col8 {\n",
              "  background-color: #92b4fe;\n",
              "  color: #000000;\n",
              "}\n",
              "#T_a221a_row12_col9 {\n",
              "  background-color: #cfdaea;\n",
              "  color: #000000;\n",
              "}\n",
              "#T_a221a_row12_col10 {\n",
              "  background-color: #cad8ef;\n",
              "  color: #000000;\n",
              "}\n",
              "</style>\n",
              "<table id=\"T_a221a_\" class=\"dataframe\">\n",
              "  <thead>\n",
              "    <tr>\n",
              "      <th class=\"blank level0\" >&nbsp;</th>\n",
              "      <th class=\"col_heading level0 col0\" >age</th>\n",
              "      <th class=\"col_heading level0 col1\" >Auditory</th>\n",
              "      <th class=\"col_heading level0 col2\" >Kinaesthetic</th>\n",
              "      <th class=\"col_heading level0 col3\" >Visual</th>\n",
              "      <th class=\"col_heading level0 col4\" >ExtrinsicMotivation</th>\n",
              "      <th class=\"col_heading level0 col5\" >IntrinsicMotivation</th>\n",
              "      <th class=\"col_heading level0 col6\" >SelfEfficacy</th>\n",
              "      <th class=\"col_heading level0 col7\" >StudyTime</th>\n",
              "      <th class=\"col_heading level0 col8\" >Conscientiousness</th>\n",
              "      <th class=\"col_heading level0 col9\" >CAOpoints</th>\n",
              "      <th class=\"col_heading level0 col10\" >Maths</th>\n",
              "      <th class=\"col_heading level0 col11\" >English</th>\n",
              "      <th class=\"col_heading level0 col12\" >Pass</th>\n",
              "    </tr>\n",
              "  </thead>\n",
              "  <tbody>\n",
              "    <tr>\n",
              "      <th id=\"T_a221a_level0_row0\" class=\"row_heading level0 row0\" >age</th>\n",
              "      <td id=\"T_a221a_row0_col0\" class=\"data row0 col0\" >1.000000</td>\n",
              "      <td id=\"T_a221a_row0_col1\" class=\"data row0 col1\" >0.016825</td>\n",
              "      <td id=\"T_a221a_row0_col2\" class=\"data row0 col2\" >-0.063601</td>\n",
              "      <td id=\"T_a221a_row0_col3\" class=\"data row0 col3\" >0.054816</td>\n",
              "      <td id=\"T_a221a_row0_col4\" class=\"data row0 col4\" >0.171059</td>\n",
              "      <td id=\"T_a221a_row0_col5\" class=\"data row0 col5\" >0.319739</td>\n",
              "      <td id=\"T_a221a_row0_col6\" class=\"data row0 col6\" >0.172420</td>\n",
              "      <td id=\"T_a221a_row0_col7\" class=\"data row0 col7\" >0.030663</td>\n",
              "      <td id=\"T_a221a_row0_col8\" class=\"data row0 col8\" >0.305867</td>\n",
              "      <td id=\"T_a221a_row0_col9\" class=\"data row0 col9\" >-0.691308</td>\n",
              "      <td id=\"T_a221a_row0_col10\" class=\"data row0 col10\" >-0.458193</td>\n",
              "      <td id=\"T_a221a_row0_col11\" class=\"data row0 col11\" >-0.619608</td>\n",
              "      <td id=\"T_a221a_row0_col12\" class=\"data row0 col12\" >0.084879</td>\n",
              "    </tr>\n",
              "    <tr>\n",
              "      <th id=\"T_a221a_level0_row1\" class=\"row_heading level0 row1\" >Auditory</th>\n",
              "      <td id=\"T_a221a_row1_col0\" class=\"data row1 col0\" >0.016825</td>\n",
              "      <td id=\"T_a221a_row1_col1\" class=\"data row1 col1\" >1.000000</td>\n",
              "      <td id=\"T_a221a_row1_col2\" class=\"data row1 col2\" >-0.543289</td>\n",
              "      <td id=\"T_a221a_row1_col3\" class=\"data row1 col3\" >-0.351479</td>\n",
              "      <td id=\"T_a221a_row1_col4\" class=\"data row1 col4\" >0.055003</td>\n",
              "      <td id=\"T_a221a_row1_col5\" class=\"data row1 col5\" >0.021396</td>\n",
              "      <td id=\"T_a221a_row1_col6\" class=\"data row1 col6\" >0.039490</td>\n",
              "      <td id=\"T_a221a_row1_col7\" class=\"data row1 col7\" >-0.001030</td>\n",
              "      <td id=\"T_a221a_row1_col8\" class=\"data row1 col8\" >0.015399</td>\n",
              "      <td id=\"T_a221a_row1_col9\" class=\"data row1 col9\" >0.098766</td>\n",
              "      <td id=\"T_a221a_row1_col10\" class=\"data row1 col10\" >0.087820</td>\n",
              "      <td id=\"T_a221a_row1_col11\" class=\"data row1 col11\" >0.088407</td>\n",
              "      <td id=\"T_a221a_row1_col12\" class=\"data row1 col12\" >-0.004460</td>\n",
              "    </tr>\n",
              "    <tr>\n",
              "      <th id=\"T_a221a_level0_row2\" class=\"row_heading level0 row2\" >Kinaesthetic</th>\n",
              "      <td id=\"T_a221a_row2_col0\" class=\"data row2 col0\" >-0.063601</td>\n",
              "      <td id=\"T_a221a_row2_col1\" class=\"data row2 col1\" >-0.543289</td>\n",
              "      <td id=\"T_a221a_row2_col2\" class=\"data row2 col2\" >1.000000</td>\n",
              "      <td id=\"T_a221a_row2_col3\" class=\"data row2 col3\" >-0.595024</td>\n",
              "      <td id=\"T_a221a_row2_col4\" class=\"data row2 col4\" >-0.114987</td>\n",
              "      <td id=\"T_a221a_row2_col5\" class=\"data row2 col5\" >-0.093360</td>\n",
              "      <td id=\"T_a221a_row2_col6\" class=\"data row2 col6\" >-0.133687</td>\n",
              "      <td id=\"T_a221a_row2_col7\" class=\"data row2 col7\" >0.053333</td>\n",
              "      <td id=\"T_a221a_row2_col8\" class=\"data row2 col8\" >-0.069957</td>\n",
              "      <td id=\"T_a221a_row2_col9\" class=\"data row2 col9\" >-0.002090</td>\n",
              "      <td id=\"T_a221a_row2_col10\" class=\"data row2 col10\" >-0.028390</td>\n",
              "      <td id=\"T_a221a_row2_col11\" class=\"data row2 col11\" >0.045155</td>\n",
              "      <td id=\"T_a221a_row2_col12\" class=\"data row2 col12\" >-0.167694</td>\n",
              "    </tr>\n",
              "    <tr>\n",
              "      <th id=\"T_a221a_level0_row3\" class=\"row_heading level0 row3\" >Visual</th>\n",
              "      <td id=\"T_a221a_row3_col0\" class=\"data row3 col0\" >0.054816</td>\n",
              "      <td id=\"T_a221a_row3_col1\" class=\"data row3 col1\" >-0.351479</td>\n",
              "      <td id=\"T_a221a_row3_col2\" class=\"data row3 col2\" >-0.595024</td>\n",
              "      <td id=\"T_a221a_row3_col3\" class=\"data row3 col3\" >1.000000</td>\n",
              "      <td id=\"T_a221a_row3_col4\" class=\"data row3 col4\" >0.075570</td>\n",
              "      <td id=\"T_a221a_row3_col5\" class=\"data row3 col5\" >0.083625</td>\n",
              "      <td id=\"T_a221a_row3_col6\" class=\"data row3 col6\" >0.111273</td>\n",
              "      <td id=\"T_a221a_row3_col7\" class=\"data row3 col7\" >-0.058486</td>\n",
              "      <td id=\"T_a221a_row3_col8\" class=\"data row3 col8\" >0.063269</td>\n",
              "      <td id=\"T_a221a_row3_col9\" class=\"data row3 col9\" >-0.092219</td>\n",
              "      <td id=\"T_a221a_row3_col10\" class=\"data row3 col10\" >-0.052413</td>\n",
              "      <td id=\"T_a221a_row3_col11\" class=\"data row3 col11\" >-0.134986</td>\n",
              "      <td id=\"T_a221a_row3_col12\" class=\"data row3 col12\" >0.191269</td>\n",
              "    </tr>\n",
              "    <tr>\n",
              "      <th id=\"T_a221a_level0_row4\" class=\"row_heading level0 row4\" >ExtrinsicMotivation</th>\n",
              "      <td id=\"T_a221a_row4_col0\" class=\"data row4 col0\" >0.171059</td>\n",
              "      <td id=\"T_a221a_row4_col1\" class=\"data row4 col1\" >0.055003</td>\n",
              "      <td id=\"T_a221a_row4_col2\" class=\"data row4 col2\" >-0.114987</td>\n",
              "      <td id=\"T_a221a_row4_col3\" class=\"data row4 col3\" >0.075570</td>\n",
              "      <td id=\"T_a221a_row4_col4\" class=\"data row4 col4\" >1.000000</td>\n",
              "      <td id=\"T_a221a_row4_col5\" class=\"data row4 col5\" >0.448323</td>\n",
              "      <td id=\"T_a221a_row4_col6\" class=\"data row4 col6\" >0.394495</td>\n",
              "      <td id=\"T_a221a_row4_col7\" class=\"data row4 col7\" >0.216675</td>\n",
              "      <td id=\"T_a221a_row4_col8\" class=\"data row4 col8\" >0.391213</td>\n",
              "      <td id=\"T_a221a_row4_col9\" class=\"data row4 col9\" >-0.167776</td>\n",
              "      <td id=\"T_a221a_row4_col10\" class=\"data row4 col10\" >0.022150</td>\n",
              "      <td id=\"T_a221a_row4_col11\" class=\"data row4 col11\" >-0.199346</td>\n",
              "      <td id=\"T_a221a_row4_col12\" class=\"data row4 col12\" >0.129208</td>\n",
              "    </tr>\n",
              "    <tr>\n",
              "      <th id=\"T_a221a_level0_row5\" class=\"row_heading level0 row5\" >IntrinsicMotivation</th>\n",
              "      <td id=\"T_a221a_row5_col0\" class=\"data row5 col0\" >0.319739</td>\n",
              "      <td id=\"T_a221a_row5_col1\" class=\"data row5 col1\" >0.021396</td>\n",
              "      <td id=\"T_a221a_row5_col2\" class=\"data row5 col2\" >-0.093360</td>\n",
              "      <td id=\"T_a221a_row5_col3\" class=\"data row5 col3\" >0.083625</td>\n",
              "      <td id=\"T_a221a_row5_col4\" class=\"data row5 col4\" >0.448323</td>\n",
              "      <td id=\"T_a221a_row5_col5\" class=\"data row5 col5\" >1.000000</td>\n",
              "      <td id=\"T_a221a_row5_col6\" class=\"data row5 col6\" >0.484760</td>\n",
              "      <td id=\"T_a221a_row5_col7\" class=\"data row5 col7\" >0.307273</td>\n",
              "      <td id=\"T_a221a_row5_col8\" class=\"data row5 col8\" >0.437472</td>\n",
              "      <td id=\"T_a221a_row5_col9\" class=\"data row5 col9\" >-0.249305</td>\n",
              "      <td id=\"T_a221a_row5_col10\" class=\"data row5 col10\" >-0.138660</td>\n",
              "      <td id=\"T_a221a_row5_col11\" class=\"data row5 col11\" >-0.249421</td>\n",
              "      <td id=\"T_a221a_row5_col12\" class=\"data row5 col12\" >0.189505</td>\n",
              "    </tr>\n",
              "    <tr>\n",
              "      <th id=\"T_a221a_level0_row6\" class=\"row_heading level0 row6\" >SelfEfficacy</th>\n",
              "      <td id=\"T_a221a_row6_col0\" class=\"data row6 col0\" >0.172420</td>\n",
              "      <td id=\"T_a221a_row6_col1\" class=\"data row6 col1\" >0.039490</td>\n",
              "      <td id=\"T_a221a_row6_col2\" class=\"data row6 col2\" >-0.133687</td>\n",
              "      <td id=\"T_a221a_row6_col3\" class=\"data row6 col3\" >0.111273</td>\n",
              "      <td id=\"T_a221a_row6_col4\" class=\"data row6 col4\" >0.394495</td>\n",
              "      <td id=\"T_a221a_row6_col5\" class=\"data row6 col5\" >0.484760</td>\n",
              "      <td id=\"T_a221a_row6_col6\" class=\"data row6 col6\" >1.000000</td>\n",
              "      <td id=\"T_a221a_row6_col7\" class=\"data row6 col7\" >0.327281</td>\n",
              "      <td id=\"T_a221a_row6_col8\" class=\"data row6 col8\" >0.383013</td>\n",
              "      <td id=\"T_a221a_row6_col9\" class=\"data row6 col9\" >-0.149774</td>\n",
              "      <td id=\"T_a221a_row6_col10\" class=\"data row6 col10\" >-0.002650</td>\n",
              "      <td id=\"T_a221a_row6_col11\" class=\"data row6 col11\" >-0.199836</td>\n",
              "      <td id=\"T_a221a_row6_col12\" class=\"data row6 col12\" >0.076327</td>\n",
              "    </tr>\n",
              "    <tr>\n",
              "      <th id=\"T_a221a_level0_row7\" class=\"row_heading level0 row7\" >StudyTime</th>\n",
              "      <td id=\"T_a221a_row7_col0\" class=\"data row7 col0\" >0.030663</td>\n",
              "      <td id=\"T_a221a_row7_col1\" class=\"data row7 col1\" >-0.001030</td>\n",
              "      <td id=\"T_a221a_row7_col2\" class=\"data row7 col2\" >0.053333</td>\n",
              "      <td id=\"T_a221a_row7_col3\" class=\"data row7 col3\" >-0.058486</td>\n",
              "      <td id=\"T_a221a_row7_col4\" class=\"data row7 col4\" >0.216675</td>\n",
              "      <td id=\"T_a221a_row7_col5\" class=\"data row7 col5\" >0.307273</td>\n",
              "      <td id=\"T_a221a_row7_col6\" class=\"data row7 col6\" >0.327281</td>\n",
              "      <td id=\"T_a221a_row7_col7\" class=\"data row7 col7\" >1.000000</td>\n",
              "      <td id=\"T_a221a_row7_col8\" class=\"data row7 col8\" >0.461622</td>\n",
              "      <td id=\"T_a221a_row7_col9\" class=\"data row7 col9\" >0.011378</td>\n",
              "      <td id=\"T_a221a_row7_col10\" class=\"data row7 col10\" >0.035673</td>\n",
              "      <td id=\"T_a221a_row7_col11\" class=\"data row7 col11\" >-0.024674</td>\n",
              "      <td id=\"T_a221a_row7_col12\" class=\"data row7 col12\" >0.033838</td>\n",
              "    </tr>\n",
              "    <tr>\n",
              "      <th id=\"T_a221a_level0_row8\" class=\"row_heading level0 row8\" >Conscientiousness</th>\n",
              "      <td id=\"T_a221a_row8_col0\" class=\"data row8 col0\" >0.305867</td>\n",
              "      <td id=\"T_a221a_row8_col1\" class=\"data row8 col1\" >0.015399</td>\n",
              "      <td id=\"T_a221a_row8_col2\" class=\"data row8 col2\" >-0.069957</td>\n",
              "      <td id=\"T_a221a_row8_col3\" class=\"data row8 col3\" >0.063269</td>\n",
              "      <td id=\"T_a221a_row8_col4\" class=\"data row8 col4\" >0.391213</td>\n",
              "      <td id=\"T_a221a_row8_col5\" class=\"data row8 col5\" >0.437472</td>\n",
              "      <td id=\"T_a221a_row8_col6\" class=\"data row8 col6\" >0.383013</td>\n",
              "      <td id=\"T_a221a_row8_col7\" class=\"data row8 col7\" >0.461622</td>\n",
              "      <td id=\"T_a221a_row8_col8\" class=\"data row8 col8\" >1.000000</td>\n",
              "      <td id=\"T_a221a_row8_col9\" class=\"data row8 col9\" >-0.234315</td>\n",
              "      <td id=\"T_a221a_row8_col10\" class=\"data row8 col10\" >-0.158174</td>\n",
              "      <td id=\"T_a221a_row8_col11\" class=\"data row8 col11\" >-0.241094</td>\n",
              "      <td id=\"T_a221a_row8_col12\" class=\"data row8 col12\" >0.085627</td>\n",
              "    </tr>\n",
              "    <tr>\n",
              "      <th id=\"T_a221a_level0_row9\" class=\"row_heading level0 row9\" >CAOpoints</th>\n",
              "      <td id=\"T_a221a_row9_col0\" class=\"data row9 col0\" >-0.691308</td>\n",
              "      <td id=\"T_a221a_row9_col1\" class=\"data row9 col1\" >0.098766</td>\n",
              "      <td id=\"T_a221a_row9_col2\" class=\"data row9 col2\" >-0.002090</td>\n",
              "      <td id=\"T_a221a_row9_col3\" class=\"data row9 col3\" >-0.092219</td>\n",
              "      <td id=\"T_a221a_row9_col4\" class=\"data row9 col4\" >-0.167776</td>\n",
              "      <td id=\"T_a221a_row9_col5\" class=\"data row9 col5\" >-0.249305</td>\n",
              "      <td id=\"T_a221a_row9_col6\" class=\"data row9 col6\" >-0.149774</td>\n",
              "      <td id=\"T_a221a_row9_col7\" class=\"data row9 col7\" >0.011378</td>\n",
              "      <td id=\"T_a221a_row9_col8\" class=\"data row9 col8\" >-0.234315</td>\n",
              "      <td id=\"T_a221a_row9_col9\" class=\"data row9 col9\" >1.000000</td>\n",
              "      <td id=\"T_a221a_row9_col10\" class=\"data row9 col10\" >0.723115</td>\n",
              "      <td id=\"T_a221a_row9_col11\" class=\"data row9 col11\" >0.875378</td>\n",
              "      <td id=\"T_a221a_row9_col12\" class=\"data row9 col12\" >0.073912</td>\n",
              "    </tr>\n",
              "    <tr>\n",
              "      <th id=\"T_a221a_level0_row10\" class=\"row_heading level0 row10\" >Maths</th>\n",
              "      <td id=\"T_a221a_row10_col0\" class=\"data row10 col0\" >-0.458193</td>\n",
              "      <td id=\"T_a221a_row10_col1\" class=\"data row10 col1\" >0.087820</td>\n",
              "      <td id=\"T_a221a_row10_col2\" class=\"data row10 col2\" >-0.028390</td>\n",
              "      <td id=\"T_a221a_row10_col3\" class=\"data row10 col3\" >-0.052413</td>\n",
              "      <td id=\"T_a221a_row10_col4\" class=\"data row10 col4\" >0.022150</td>\n",
              "      <td id=\"T_a221a_row10_col5\" class=\"data row10 col5\" >-0.138660</td>\n",
              "      <td id=\"T_a221a_row10_col6\" class=\"data row10 col6\" >-0.002650</td>\n",
              "      <td id=\"T_a221a_row10_col7\" class=\"data row10 col7\" >0.035673</td>\n",
              "      <td id=\"T_a221a_row10_col8\" class=\"data row10 col8\" >-0.158174</td>\n",
              "      <td id=\"T_a221a_row10_col9\" class=\"data row10 col9\" >0.723115</td>\n",
              "      <td id=\"T_a221a_row10_col10\" class=\"data row10 col10\" >1.000000</td>\n",
              "      <td id=\"T_a221a_row10_col11\" class=\"data row10 col11\" >0.567644</td>\n",
              "      <td id=\"T_a221a_row10_col12\" class=\"data row10 col12\" >0.171241</td>\n",
              "    </tr>\n",
              "    <tr>\n",
              "      <th id=\"T_a221a_level0_row11\" class=\"row_heading level0 row11\" >English</th>\n",
              "      <td id=\"T_a221a_row11_col0\" class=\"data row11 col0\" >-0.619608</td>\n",
              "      <td id=\"T_a221a_row11_col1\" class=\"data row11 col1\" >0.088407</td>\n",
              "      <td id=\"T_a221a_row11_col2\" class=\"data row11 col2\" >0.045155</td>\n",
              "      <td id=\"T_a221a_row11_col3\" class=\"data row11 col3\" >-0.134986</td>\n",
              "      <td id=\"T_a221a_row11_col4\" class=\"data row11 col4\" >-0.199346</td>\n",
              "      <td id=\"T_a221a_row11_col5\" class=\"data row11 col5\" >-0.249421</td>\n",
              "      <td id=\"T_a221a_row11_col6\" class=\"data row11 col6\" >-0.199836</td>\n",
              "      <td id=\"T_a221a_row11_col7\" class=\"data row11 col7\" >-0.024674</td>\n",
              "      <td id=\"T_a221a_row11_col8\" class=\"data row11 col8\" >-0.241094</td>\n",
              "      <td id=\"T_a221a_row11_col9\" class=\"data row11 col9\" >0.875378</td>\n",
              "      <td id=\"T_a221a_row11_col10\" class=\"data row11 col10\" >0.567644</td>\n",
              "      <td id=\"T_a221a_row11_col11\" class=\"data row11 col11\" >1.000000</td>\n",
              "      <td id=\"T_a221a_row11_col12\" class=\"data row11 col12\" >0.044016</td>\n",
              "    </tr>\n",
              "    <tr>\n",
              "      <th id=\"T_a221a_level0_row12\" class=\"row_heading level0 row12\" >Pass</th>\n",
              "      <td id=\"T_a221a_row12_col0\" class=\"data row12 col0\" >0.084879</td>\n",
              "      <td id=\"T_a221a_row12_col1\" class=\"data row12 col1\" >-0.004460</td>\n",
              "      <td id=\"T_a221a_row12_col2\" class=\"data row12 col2\" >-0.167694</td>\n",
              "      <td id=\"T_a221a_row12_col3\" class=\"data row12 col3\" >0.191269</td>\n",
              "      <td id=\"T_a221a_row12_col4\" class=\"data row12 col4\" >0.129208</td>\n",
              "      <td id=\"T_a221a_row12_col5\" class=\"data row12 col5\" >0.189505</td>\n",
              "      <td id=\"T_a221a_row12_col6\" class=\"data row12 col6\" >0.076327</td>\n",
              "      <td id=\"T_a221a_row12_col7\" class=\"data row12 col7\" >0.033838</td>\n",
              "      <td id=\"T_a221a_row12_col8\" class=\"data row12 col8\" >0.085627</td>\n",
              "      <td id=\"T_a221a_row12_col9\" class=\"data row12 col9\" >0.073912</td>\n",
              "      <td id=\"T_a221a_row12_col10\" class=\"data row12 col10\" >0.171241</td>\n",
              "      <td id=\"T_a221a_row12_col11\" class=\"data row12 col11\" >0.044016</td>\n",
              "      <td id=\"T_a221a_row12_col12\" class=\"data row12 col12\" >1.000000</td>\n",
              "    </tr>\n",
              "  </tbody>\n",
              "</table>\n"
            ],
            "text/plain": [
              "<pandas.io.formats.style.Styler at 0x7fe02db64bd0>"
            ]
          },
          "metadata": {},
          "execution_count": 9
        }
      ]
    },
    {
      "cell_type": "markdown",
      "source": [
        "### ii) Variables correlated to Pass."
      ],
      "metadata": {
        "id": "v68JmO0xaI5h"
      }
    },
    {
      "cell_type": "code",
      "source": [
        "df.corr()['Pass'].sort_values().drop('Pass').plot(kind='barh')"
      ],
      "metadata": {
        "id": "B6UU0NbYXswu",
        "outputId": "62c00a39-8910-4b28-e31f-6d281857c760",
        "colab": {
          "base_uri": "https://localhost:8080/",
          "height": 283
        }
      },
      "execution_count": 10,
      "outputs": [
        {
          "output_type": "execute_result",
          "data": {
            "text/plain": [
              "<matplotlib.axes._subplots.AxesSubplot at 0x7fe02d2f0d50>"
            ]
          },
          "metadata": {},
          "execution_count": 10
        },
        {
          "output_type": "display_data",
          "data": {
            "image/png": "[encoded data removed]",
            "text/plain": [
              "<Figure size 432x288 with 1 Axes>"
            ]
          },
          "metadata": {
            "needs_background": "light"
          }
        }
      ]
    },
    {
      "cell_type": "markdown",
      "source": [
        "### iii) Summary of Pass and Fail"
      ],
      "metadata": {
        "id": "8BqSlw-fYXp1"
      }
    },
    {
      "cell_type": "code",
      "source": [
        "sns.countplot(x='Pass', data=df, palette='hls')"
      ],
      "metadata": {
        "id": "T9fwV3kQYiib",
        "outputId": "69d2fe71-687c-409a-873f-83321d79852a",
        "colab": {
          "base_uri": "https://localhost:8080/",
          "height": 297
        }
      },
      "execution_count": 11,
      "outputs": [
        {
          "output_type": "execute_result",
          "data": {
            "text/plain": [
              "<matplotlib.axes._subplots.AxesSubplot at 0x7fe02d2b2210>"
            ]
          },
          "metadata": {},
          "execution_count": 11
        },
        {
          "output_type": "display_data",
          "data": {
            "image/png": "[encoded data removed]",
            "text/plain": [
              "<Figure size 432x288 with 1 Axes>"
            ]
          },
          "metadata": {
            "needs_background": "light"
          }
        }
      ]
    },
    {
      "cell_type": "markdown",
      "source": [
        "From the above graph, we observed there are many more Students are 'Pass'. This is referred to as 'class imbalance'."
      ],
      "metadata": {
        "id": "AovSESzHY4i2"
      }
    },
    {
      "cell_type": "markdown",
      "source": [
        "## **3.Standardization of data using MinMax Scaler**"
      ],
      "metadata": {
        "id": "P96mYIy3azp5"
      }
    },
    {
      "cell_type": "code",
      "source": [
        "# Independent Variable\n",
        "X = df.drop(['Pass'], axis=1)\n",
        "\n",
        "# Depenedent Variable\n",
        "y = df.Pass.values"
      ],
      "metadata": {
        "id": "k3-FYSn1bPjd"
      },
      "execution_count": 12,
      "outputs": []
    },
    {
      "cell_type": "code",
      "source": [
        "X.head()"
      ],
      "metadata": {
        "id": "h-iVR_d8H8jV",
        "outputId": "2f9ed010-f789-497c-a8d6-8358d87193b7",
        "colab": {
          "base_uri": "https://localhost:8080/",
          "height": 270
        }
      },
      "execution_count": 13,
      "outputs": [
        {
          "output_type": "execute_result",
          "data": {
            "text/html": [
              "\n",
              "  <div id=\"df-ca49e938-c30c-40ef-8528-b1f5b4f24aea\">\n",
              "    <div class=\"colab-df-container\">\n",
              "      <div>\n",
              "<style scoped>\n",
              "    .dataframe tbody tr th:only-of-type {\n",
              "        vertical-align: middle;\n",
              "    }\n",
              "\n",
              "    .dataframe tbody tr th {\n",
              "        vertical-align: top;\n",
              "    }\n",
              "\n",
              "    .dataframe thead th {\n",
              "        text-align: right;\n",
              "    }\n",
              "</style>\n",
              "<table border=\"1\" class=\"dataframe\">\n",
              "  <thead>\n",
              "    <tr style=\"text-align: right;\">\n",
              "      <th></th>\n",
              "      <th>age</th>\n",
              "      <th>Auditory</th>\n",
              "      <th>Kinaesthetic</th>\n",
              "      <th>Visual</th>\n",
              "      <th>ExtrinsicMotivation</th>\n",
              "      <th>IntrinsicMotivation</th>\n",
              "      <th>SelfEfficacy</th>\n",
              "      <th>StudyTime</th>\n",
              "      <th>Conscientiousness</th>\n",
              "      <th>CAOpoints</th>\n",
              "      <th>Maths</th>\n",
              "      <th>English</th>\n",
              "    </tr>\n",
              "  </thead>\n",
              "  <tbody>\n",
              "    <tr>\n",
              "      <th>0</th>\n",
              "      <td>19</td>\n",
              "      <td>5.000000</td>\n",
              "      <td>6.698392</td>\n",
              "      <td>3.301608</td>\n",
              "      <td>9.308199</td>\n",
              "      <td>6.875000</td>\n",
              "      <td>7.321865</td>\n",
              "      <td>7.790997</td>\n",
              "      <td>8.721329</td>\n",
              "      <td>352</td>\n",
              "      <td>19</td>\n",
              "      <td>45</td>\n",
              "    </tr>\n",
              "    <tr>\n",
              "      <th>1</th>\n",
              "      <td>31</td>\n",
              "      <td>6.285538</td>\n",
              "      <td>2.500000</td>\n",
              "      <td>6.214462</td>\n",
              "      <td>7.535538</td>\n",
              "      <td>6.303307</td>\n",
              "      <td>7.095179</td>\n",
              "      <td>6.892769</td>\n",
              "      <td>6.440564</td>\n",
              "      <td>187</td>\n",
              "      <td>35</td>\n",
              "      <td>28</td>\n",
              "    </tr>\n",
              "    <tr>\n",
              "      <th>2</th>\n",
              "      <td>36</td>\n",
              "      <td>6.776966</td>\n",
              "      <td>2.500000</td>\n",
              "      <td>5.723034</td>\n",
              "      <td>8.026966</td>\n",
              "      <td>7.040449</td>\n",
              "      <td>7.258989</td>\n",
              "      <td>7.138483</td>\n",
              "      <td>6.194850</td>\n",
              "      <td>111</td>\n",
              "      <td>21</td>\n",
              "      <td>17</td>\n",
              "    </tr>\n",
              "    <tr>\n",
              "      <th>3</th>\n",
              "      <td>22</td>\n",
              "      <td>6.756132</td>\n",
              "      <td>3.987737</td>\n",
              "      <td>4.256132</td>\n",
              "      <td>6.621934</td>\n",
              "      <td>5.945164</td>\n",
              "      <td>5.089465</td>\n",
              "      <td>2.500000</td>\n",
              "      <td>4.042689</td>\n",
              "      <td>327</td>\n",
              "      <td>36</td>\n",
              "      <td>46</td>\n",
              "    </tr>\n",
              "    <tr>\n",
              "      <th>4</th>\n",
              "      <td>23</td>\n",
              "      <td>7.228655</td>\n",
              "      <td>2.228655</td>\n",
              "      <td>5.542690</td>\n",
              "      <td>6.453509</td>\n",
              "      <td>6.942836</td>\n",
              "      <td>6.285575</td>\n",
              "      <td>3.314034</td>\n",
              "      <td>4.528460</td>\n",
              "      <td>274</td>\n",
              "      <td>33</td>\n",
              "      <td>35</td>\n",
              "    </tr>\n",
              "  </tbody>\n",
              "</table>\n",
              "</div>\n",
              "      <button class=\"colab-df-convert\" onclick=\"convertToInteractive('df-ca49e938-c30c-40ef-8528-b1f5b4f24aea')\"\n",
              "              title=\"Convert this dataframe to an interactive table.\"\n",
              "              style=\"display:none;\">\n",
              "        \n",
              "  <svg xmlns=\"http://www.w3.org/2000/svg\" height=\"24px\"viewBox=\"0 0 24 24\"\n",
              "       width=\"24px\">\n",
              "    <path d=\"M0 0h24v24H0V0z\" fill=\"none\"/>\n",
              "    <path d=\"M18.56 5.44l.94 2.06.94-2.06 2.06-.94-2.06-.94-.94-2.06-.94 2.06-2.06.94zm-11 1L8.5 8.5l.94-2.06 2.06-.94-2.06-.94L8.5 2.5l-.94 2.06-2.06.94zm10 10l.94 2.06.94-2.06 2.06-.94-2.06-.94-.94-2.06-.94 2.06-2.06.94z\"/><path d=\"M17.41 7.96l-1.37-1.37c-.4-.4-.92-.59-1.43-.59-.52 0-1.04.2-1.43.59L10.3 9.45l-7.72 7.72c-.78.78-.78 2.05 0 2.83L4 21.41c.39.39.9.59 1.41.59.51 0 1.02-.2 1.41-.59l7.78-7.78 2.81-2.81c.8-.78.8-2.07 0-2.86zM5.41 20L4 18.59l7.72-7.72 1.47 1.35L5.41 20z\"/>\n",
              "  </svg>\n",
              "      </button>\n",
              "      \n",
              "  <style>\n",
              "    .colab-df-container {\n",
              "      display:flex;\n",
              "      flex-wrap:wrap;\n",
              "      gap: 12px;\n",
              "    }\n",
              "\n",
              "    .colab-df-convert {\n",
              "      background-color: #E8F0FE;\n",
              "      border: none;\n",
              "      border-radius: 50%;\n",
              "      cursor: pointer;\n",
              "      display: none;\n",
              "      fill: #1967D2;\n",
              "      height: 32px;\n",
              "      padding: 0 0 0 0;\n",
              "      width: 32px;\n",
              "    }\n",
              "\n",
              "    .colab-df-convert:hover {\n",
              "      background-color: #E2EBFA;\n",
              "      box-shadow: 0px 1px 2px rgba(60, 64, 67, 0.3), 0px 1px 3px 1px rgba(60, 64, 67, 0.15);\n",
              "      fill: #174EA6;\n",
              "    }\n",
              "\n",
              "    [theme=dark] .colab-df-convert {\n",
              "      background-color: #3B4455;\n",
              "      fill: #D2E3FC;\n",
              "    }\n",
              "\n",
              "    [theme=dark] .colab-df-convert:hover {\n",
              "      background-color: #434B5C;\n",
              "      box-shadow: 0px 1px 3px 1px rgba(0, 0, 0, 0.15);\n",
              "      filter: drop-shadow(0px 1px 2px rgba(0, 0, 0, 0.3));\n",
              "      fill: #FFFFFF;\n",
              "    }\n",
              "  </style>\n",
              "\n",
              "      <script>\n",
              "        const buttonEl =\n",
              "          document.querySelector('#df-ca49e938-c30c-40ef-8528-b1f5b4f24aea button.colab-df-convert');\n",
              "        buttonEl.style.display =\n",
              "          google.colab.kernel.accessAllowed ? 'block' : 'none';\n",
              "\n",
              "        async function convertToInteractive(key) {\n",
              "          const element = document.querySelector('#df-ca49e938-c30c-40ef-8528-b1f5b4f24aea');\n",
              "          const dataTable =\n",
              "            await google.colab.kernel.invokeFunction('convertToInteractive',\n",
              "                                                     [key], {});\n",
              "          if (!dataTable) return;\n",
              "\n",
              "          const docLinkHtml = 'Like what you see? Visit the ' +\n",
              "            '<a target=\"_blank\" href=https://colab.research.google.com/notebooks/data_table.ipynb>data table notebook</a>'\n",
              "            + ' to learn more about interactive tables.';\n",
              "          element.innerHTML = '';\n",
              "          dataTable['output_type'] = 'display_data';\n",
              "          await google.colab.output.renderOutput(dataTable, element);\n",
              "          const docLink = document.createElement('div');\n",
              "          docLink.innerHTML = docLinkHtml;\n",
              "          element.appendChild(docLink);\n",
              "        }\n",
              "      </script>\n",
              "    </div>\n",
              "  </div>\n",
              "  "
            ],
            "text/plain": [
              "   age  Auditory  Kinaesthetic  ...  CAOpoints  Maths  English\n",
              "0   19  5.000000      6.698392  ...        352     19       45\n",
              "1   31  6.285538      2.500000  ...        187     35       28\n",
              "2   36  6.776966      2.500000  ...        111     21       17\n",
              "3   22  6.756132      3.987737  ...        327     36       46\n",
              "4   23  7.228655      2.228655  ...        274     33       35\n",
              "\n",
              "[5 rows x 12 columns]"
            ]
          },
          "metadata": {},
          "execution_count": 13
        }
      ]
    },
    {
      "cell_type": "code",
      "source": [
        "trans = preprocessing.MinMaxScaler(feature_range=(-1,1))\n",
        "scaled_X = pd.DataFrame(trans.fit_transform(X))\n",
        "column_names = ['age', 'Auditory', 'Kinaesthetic', 'Visual', 'ExtrinsicMotivation', 'IntrinsicMotivation', 'SelfEfficacy', 'StudyTime', 'Conscientiousness', 'CAOpoints', 'Maths', 'English']\n",
        "scaled_X.columns = column_names"
      ],
      "metadata": {
        "id": "jkMp7MIQY3Sc"
      },
      "execution_count": 14,
      "outputs": []
    },
    {
      "cell_type": "code",
      "source": [
        "scaled_X.head()"
      ],
      "metadata": {
        "id": "dYBXoVYcba8a",
        "outputId": "d1532aa6-0f65-4df4-c58e-d7c44b4a4562",
        "colab": {
          "base_uri": "https://localhost:8080/",
          "height": 270
        }
      },
      "execution_count": 15,
      "outputs": [
        {
          "output_type": "execute_result",
          "data": {
            "text/html": [
              "\n",
              "  <div id=\"df-9092dfb3-eeb9-4b66-8266-b1e1b3ee161c\">\n",
              "    <div class=\"colab-df-container\">\n",
              "      <div>\n",
              "<style scoped>\n",
              "    .dataframe tbody tr th:only-of-type {\n",
              "        vertical-align: middle;\n",
              "    }\n",
              "\n",
              "    .dataframe tbody tr th {\n",
              "        vertical-align: top;\n",
              "    }\n",
              "\n",
              "    .dataframe thead th {\n",
              "        text-align: right;\n",
              "    }\n",
              "</style>\n",
              "<table border=\"1\" class=\"dataframe\">\n",
              "  <thead>\n",
              "    <tr style=\"text-align: right;\">\n",
              "      <th></th>\n",
              "      <th>age</th>\n",
              "      <th>Auditory</th>\n",
              "      <th>Kinaesthetic</th>\n",
              "      <th>Visual</th>\n",
              "      <th>ExtrinsicMotivation</th>\n",
              "      <th>IntrinsicMotivation</th>\n",
              "      <th>SelfEfficacy</th>\n",
              "      <th>StudyTime</th>\n",
              "      <th>Conscientiousness</th>\n",
              "      <th>CAOpoints</th>\n",
              "      <th>Maths</th>\n",
              "      <th>English</th>\n",
              "    </tr>\n",
              "  </thead>\n",
              "  <tbody>\n",
              "    <tr>\n",
              "      <th>0</th>\n",
              "      <td>-0.951220</td>\n",
              "      <td>0.062872</td>\n",
              "      <td>0.356470</td>\n",
              "      <td>-0.384994</td>\n",
              "      <td>0.796966</td>\n",
              "      <td>0.169471</td>\n",
              "      <td>0.327615</td>\n",
              "      <td>0.507512</td>\n",
              "      <td>0.662943</td>\n",
              "      <td>0.1264</td>\n",
              "      <td>-0.62</td>\n",
              "      <td>-0.10</td>\n",
              "    </tr>\n",
              "    <tr>\n",
              "      <th>1</th>\n",
              "      <td>-0.365854</td>\n",
              "      <td>0.336144</td>\n",
              "      <td>-0.493733</td>\n",
              "      <td>0.217283</td>\n",
              "      <td>0.276713</td>\n",
              "      <td>0.016268</td>\n",
              "      <td>0.270702</td>\n",
              "      <td>0.307256</td>\n",
              "      <td>0.040436</td>\n",
              "      <td>-0.4016</td>\n",
              "      <td>-0.30</td>\n",
              "      <td>-0.44</td>\n",
              "    </tr>\n",
              "    <tr>\n",
              "      <th>2</th>\n",
              "      <td>-0.121951</td>\n",
              "      <td>0.440609</td>\n",
              "      <td>-0.493733</td>\n",
              "      <td>0.115672</td>\n",
              "      <td>0.420941</td>\n",
              "      <td>0.213808</td>\n",
              "      <td>0.311829</td>\n",
              "      <td>0.362037</td>\n",
              "      <td>-0.026629</td>\n",
              "      <td>-0.6448</td>\n",
              "      <td>-0.58</td>\n",
              "      <td>-0.66</td>\n",
              "    </tr>\n",
              "    <tr>\n",
              "      <th>3</th>\n",
              "      <td>-0.804878</td>\n",
              "      <td>0.436180</td>\n",
              "      <td>-0.192456</td>\n",
              "      <td>-0.187632</td>\n",
              "      <td>0.008583</td>\n",
              "      <td>-0.079707</td>\n",
              "      <td>-0.232862</td>\n",
              "      <td>-0.672094</td>\n",
              "      <td>-0.614036</td>\n",
              "      <td>0.0464</td>\n",
              "      <td>-0.28</td>\n",
              "      <td>-0.08</td>\n",
              "    </tr>\n",
              "    <tr>\n",
              "      <th>4</th>\n",
              "      <td>-0.756098</td>\n",
              "      <td>0.536627</td>\n",
              "      <td>-0.548682</td>\n",
              "      <td>0.078383</td>\n",
              "      <td>-0.040848</td>\n",
              "      <td>0.187649</td>\n",
              "      <td>0.067439</td>\n",
              "      <td>-0.490608</td>\n",
              "      <td>-0.481451</td>\n",
              "      <td>-0.1232</td>\n",
              "      <td>-0.34</td>\n",
              "      <td>-0.30</td>\n",
              "    </tr>\n",
              "  </tbody>\n",
              "</table>\n",
              "</div>\n",
              "      <button class=\"colab-df-convert\" onclick=\"convertToInteractive('df-9092dfb3-eeb9-4b66-8266-b1e1b3ee161c')\"\n",
              "              title=\"Convert this dataframe to an interactive table.\"\n",
              "              style=\"display:none;\">\n",
              "        \n",
              "  <svg xmlns=\"http://www.w3.org/2000/svg\" height=\"24px\"viewBox=\"0 0 24 24\"\n",
              "       width=\"24px\">\n",
              "    <path d=\"M0 0h24v24H0V0z\" fill=\"none\"/>\n",
              "    <path d=\"M18.56 5.44l.94 2.06.94-2.06 2.06-.94-2.06-.94-.94-2.06-.94 2.06-2.06.94zm-11 1L8.5 8.5l.94-2.06 2.06-.94-2.06-.94L8.5 2.5l-.94 2.06-2.06.94zm10 10l.94 2.06.94-2.06 2.06-.94-2.06-.94-.94-2.06-.94 2.06-2.06.94z\"/><path d=\"M17.41 7.96l-1.37-1.37c-.4-.4-.92-.59-1.43-.59-.52 0-1.04.2-1.43.59L10.3 9.45l-7.72 7.72c-.78.78-.78 2.05 0 2.83L4 21.41c.39.39.9.59 1.41.59.51 0 1.02-.2 1.41-.59l7.78-7.78 2.81-2.81c.8-.78.8-2.07 0-2.86zM5.41 20L4 18.59l7.72-7.72 1.47 1.35L5.41 20z\"/>\n",
              "  </svg>\n",
              "      </button>\n",
              "      \n",
              "  <style>\n",
              "    .colab-df-container {\n",
              "      display:flex;\n",
              "      flex-wrap:wrap;\n",
              "      gap: 12px;\n",
              "    }\n",
              "\n",
              "    .colab-df-convert {\n",
              "      background-color: #E8F0FE;\n",
              "      border: none;\n",
              "      border-radius: 50%;\n",
              "      cursor: pointer;\n",
              "      display: none;\n",
              "      fill: #1967D2;\n",
              "      height: 32px;\n",
              "      padding: 0 0 0 0;\n",
              "      width: 32px;\n",
              "    }\n",
              "\n",
              "    .colab-df-convert:hover {\n",
              "      background-color: #E2EBFA;\n",
              "      box-shadow: 0px 1px 2px rgba(60, 64, 67, 0.3), 0px 1px 3px 1px rgba(60, 64, 67, 0.15);\n",
              "      fill: #174EA6;\n",
              "    }\n",
              "\n",
              "    [theme=dark] .colab-df-convert {\n",
              "      background-color: #3B4455;\n",
              "      fill: #D2E3FC;\n",
              "    }\n",
              "\n",
              "    [theme=dark] .colab-df-convert:hover {\n",
              "      background-color: #434B5C;\n",
              "      box-shadow: 0px 1px 3px 1px rgba(0, 0, 0, 0.15);\n",
              "      filter: drop-shadow(0px 1px 2px rgba(0, 0, 0, 0.3));\n",
              "      fill: #FFFFFF;\n",
              "    }\n",
              "  </style>\n",
              "\n",
              "      <script>\n",
              "        const buttonEl =\n",
              "          document.querySelector('#df-9092dfb3-eeb9-4b66-8266-b1e1b3ee161c button.colab-df-convert');\n",
              "        buttonEl.style.display =\n",
              "          google.colab.kernel.accessAllowed ? 'block' : 'none';\n",
              "\n",
              "        async function convertToInteractive(key) {\n",
              "          const element = document.querySelector('#df-9092dfb3-eeb9-4b66-8266-b1e1b3ee161c');\n",
              "          const dataTable =\n",
              "            await google.colab.kernel.invokeFunction('convertToInteractive',\n",
              "                                                     [key], {});\n",
              "          if (!dataTable) return;\n",
              "\n",
              "          const docLinkHtml = 'Like what you see? Visit the ' +\n",
              "            '<a target=\"_blank\" href=https://colab.research.google.com/notebooks/data_table.ipynb>data table notebook</a>'\n",
              "            + ' to learn more about interactive tables.';\n",
              "          element.innerHTML = '';\n",
              "          dataTable['output_type'] = 'display_data';\n",
              "          await google.colab.output.renderOutput(dataTable, element);\n",
              "          const docLink = document.createElement('div');\n",
              "          docLink.innerHTML = docLinkHtml;\n",
              "          element.appendChild(docLink);\n",
              "        }\n",
              "      </script>\n",
              "    </div>\n",
              "  </div>\n",
              "  "
            ],
            "text/plain": [
              "        age  Auditory  Kinaesthetic  ...  CAOpoints  Maths  English\n",
              "0 -0.951220  0.062872      0.356470  ...     0.1264  -0.62    -0.10\n",
              "1 -0.365854  0.336144     -0.493733  ...    -0.4016  -0.30    -0.44\n",
              "2 -0.121951  0.440609     -0.493733  ...    -0.6448  -0.58    -0.66\n",
              "3 -0.804878  0.436180     -0.192456  ...     0.0464  -0.28    -0.08\n",
              "4 -0.756098  0.536627     -0.548682  ...    -0.1232  -0.34    -0.30\n",
              "\n",
              "[5 rows x 12 columns]"
            ]
          },
          "metadata": {},
          "execution_count": 15
        }
      ]
    },
    {
      "cell_type": "markdown",
      "source": [
        "## **4.Classification Using KNN**"
      ],
      "metadata": {
        "id": "dLk80wI6MTzA"
      }
    },
    {
      "cell_type": "markdown",
      "source": [
        "### i) KNN Model without scaler"
      ],
      "metadata": {
        "id": "XYUcTDrKMn_p"
      }
    },
    {
      "cell_type": "code",
      "source": [
        "X_train, X_test, y_train, y_test = train_test_split(X, y, test_size=0.33, random_state=42)"
      ],
      "metadata": {
        "id": "XhqmyVtCIDRg"
      },
      "execution_count": 16,
      "outputs": []
    },
    {
      "cell_type": "code",
      "source": [
        "neigh = KNeighborsClassifier(n_neighbors=5)\n",
        "knn = neigh.fit(X_train, y_train)\n",
        "y_pred = knn.predict(X_test)"
      ],
      "metadata": {
        "id": "yFM9ECEXIDO_"
      },
      "execution_count": 17,
      "outputs": []
    },
    {
      "cell_type": "code",
      "source": [
        "target_names = ['Pass', 'Fail']\n",
        "print('Confusion Matrix\\n')\n",
        "print(confusion_matrix(y_test, y_pred))\n",
        "print('\\nClassification report\\n')\n",
        "print(classification_report(y_test, y_pred, target_names=target_names))"
      ],
      "metadata": {
        "id": "0jj-Qt-LIC-s",
        "outputId": "5b5faa92-16ba-4cf7-91f5-d3b2a24f99a9",
        "colab": {
          "base_uri": "https://localhost:8080/"
        }
      },
      "execution_count": 18,
      "outputs": [
        {
          "output_type": "stream",
          "name": "stdout",
          "text": [
            "Confusion Matrix\n",
            "\n",
            "[[ 70  62]\n",
            " [ 57 182]]\n",
            "\n",
            "Classification report\n",
            "\n",
            "              precision    recall  f1-score   support\n",
            "\n",
            "        Pass       0.55      0.53      0.54       132\n",
            "        Fail       0.75      0.76      0.75       239\n",
            "\n",
            "    accuracy                           0.68       371\n",
            "   macro avg       0.65      0.65      0.65       371\n",
            "weighted avg       0.68      0.68      0.68       371\n",
            "\n"
          ]
        }
      ]
    },
    {
      "cell_type": "markdown",
      "source": [
        "### ii) KNN Model with scaler"
      ],
      "metadata": {
        "id": "MLfQwn8PMx-X"
      }
    },
    {
      "cell_type": "code",
      "source": [
        "X_train, X_test, y_train, y_test = train_test_split(scaled_X, y, test_size=0.33, random_state=42)\n",
        "neigh = KNeighborsClassifier(n_neighbors=5)\n",
        "knn = neigh.fit(X_train, y_train)\n",
        "y_pred = knn.predict(X_test)\n",
        "print('Confusion Matrix\\n')\n",
        "print(confusion_matrix(y_test, y_pred))\n",
        "print('\\nClassification report\\n')\n",
        "print(classification_report(y_test, y_pred, target_names=target_names))\n"
      ],
      "metadata": {
        "id": "5vTHBaMtI-bH",
        "outputId": "fb3c2c79-9134-4ce8-e5bc-cd20598a9c4c",
        "colab": {
          "base_uri": "https://localhost:8080/"
        }
      },
      "execution_count": 19,
      "outputs": [
        {
          "output_type": "stream",
          "name": "stdout",
          "text": [
            "Confusion Matrix\n",
            "\n",
            "[[ 84  48]\n",
            " [ 31 208]]\n",
            "\n",
            "Classification report\n",
            "\n",
            "              precision    recall  f1-score   support\n",
            "\n",
            "        Pass       0.73      0.64      0.68       132\n",
            "        Fail       0.81      0.87      0.84       239\n",
            "\n",
            "    accuracy                           0.79       371\n",
            "   macro avg       0.77      0.75      0.76       371\n",
            "weighted avg       0.78      0.79      0.78       371\n",
            "\n"
          ]
        }
      ]
    },
    {
      "cell_type": "markdown",
      "source": [
        "### iii) Parameter Search using For Loop"
      ],
      "metadata": {
        "id": "8c_WZkryM-Pk"
      }
    },
    {
      "cell_type": "code",
      "source": [
        "for x in [5,10,15,25,30,35]:\n",
        "  neigh = KNeighborsClassifier(n_neighbors=x)\n",
        "  knn = neigh.fit(X_train, y_train)\n",
        "  y_pred = knn.predict(X_test)\n",
        "  print(f\"The value of K = {x}\")\n",
        "  print('\\nClassification report\\n')\n",
        "  print(classification_report(y_test, y_pred, target_names=target_names))\n",
        "  classification_report_knn = pd.DataFrame(classification_report(y_test,y_pred,output_dict=True)).T\n",
        "  knn_without_scaler = classification_report_knn['f1-score']['accuracy']"
      ],
      "metadata": {
        "id": "GKYtX85YJpub",
        "outputId": "f48d188c-57b4-4a35-a6a0-6ad89823729e",
        "colab": {
          "base_uri": "https://localhost:8080/"
        }
      },
      "execution_count": 20,
      "outputs": [
        {
          "output_type": "stream",
          "name": "stdout",
          "text": [
            "The value of K = 5\n",
            "\n",
            "Classification report\n",
            "\n",
            "              precision    recall  f1-score   support\n",
            "\n",
            "        Pass       0.73      0.64      0.68       132\n",
            "        Fail       0.81      0.87      0.84       239\n",
            "\n",
            "    accuracy                           0.79       371\n",
            "   macro avg       0.77      0.75      0.76       371\n",
            "weighted avg       0.78      0.79      0.78       371\n",
            "\n",
            "The value of K = 10\n",
            "\n",
            "Classification report\n",
            "\n",
            "              precision    recall  f1-score   support\n",
            "\n",
            "        Pass       0.71      0.65      0.68       132\n",
            "        Fail       0.82      0.85      0.83       239\n",
            "\n",
            "    accuracy                           0.78       371\n",
            "   macro avg       0.76      0.75      0.76       371\n",
            "weighted avg       0.78      0.78      0.78       371\n",
            "\n",
            "The value of K = 15\n",
            "\n",
            "Classification report\n",
            "\n",
            "              precision    recall  f1-score   support\n",
            "\n",
            "        Pass       0.71      0.56      0.63       132\n",
            "        Fail       0.78      0.87      0.83       239\n",
            "\n",
            "    accuracy                           0.76       371\n",
            "   macro avg       0.75      0.72      0.73       371\n",
            "weighted avg       0.76      0.76      0.76       371\n",
            "\n",
            "The value of K = 25\n",
            "\n",
            "Classification report\n",
            "\n",
            "              precision    recall  f1-score   support\n",
            "\n",
            "        Pass       0.65      0.43      0.52       132\n",
            "        Fail       0.73      0.87      0.80       239\n",
            "\n",
            "    accuracy                           0.71       371\n",
            "   macro avg       0.69      0.65      0.66       371\n",
            "weighted avg       0.70      0.71      0.70       371\n",
            "\n",
            "The value of K = 30\n",
            "\n",
            "Classification report\n",
            "\n",
            "              precision    recall  f1-score   support\n",
            "\n",
            "        Pass       0.61      0.44      0.51       132\n",
            "        Fail       0.73      0.85      0.78       239\n",
            "\n",
            "    accuracy                           0.70       371\n",
            "   macro avg       0.67      0.64      0.65       371\n",
            "weighted avg       0.69      0.70      0.69       371\n",
            "\n",
            "The value of K = 35\n",
            "\n",
            "Classification report\n",
            "\n",
            "              precision    recall  f1-score   support\n",
            "\n",
            "        Pass       0.65      0.41      0.50       132\n",
            "        Fail       0.73      0.88      0.80       239\n",
            "\n",
            "    accuracy                           0.71       371\n",
            "   macro avg       0.69      0.64      0.65       371\n",
            "weighted avg       0.70      0.71      0.69       371\n",
            "\n"
          ]
        }
      ]
    },
    {
      "cell_type": "markdown",
      "source": [
        "### iv) Parameter Selection using GridSearchCV"
      ],
      "metadata": {
        "id": "-9ODzkthNJ5Z"
      }
    },
    {
      "cell_type": "code",
      "source": [
        "grid_params = {\n",
        "    'n_neighbors' : [1,3,5,7,9,11,13,15,17,19,21,22,24,26,28,30,32,34],\n",
        "    'weights' : ['uniform','distance'],\n",
        "    'metric' : ['euclidean','manhattan']\n",
        "}\n",
        "\n",
        "gs = GridSearchCV(\n",
        "  KNeighborsClassifier(),\n",
        "  grid_params, \n",
        "  cv = 3, # cross validation to try for each set of parameters\n",
        "  n_jobs = -1, # number of processors -1 will use all avaliable\n",
        "  verbose = 1 # detailed print out\n",
        ")\n",
        "\n",
        "gs_results = gs.fit(X_train, y_train)"
      ],
      "metadata": {
        "id": "G48c9vEHK1Fd",
        "outputId": "6397b7e3-bfd6-4214-84b4-ebd2a71e86d2",
        "colab": {
          "base_uri": "https://localhost:8080/"
        }
      },
      "execution_count": 21,
      "outputs": [
        {
          "output_type": "stream",
          "name": "stdout",
          "text": [
            "Fitting 3 folds for each of 72 candidates, totalling 216 fits\n"
          ]
        }
      ]
    },
    {
      "cell_type": "code",
      "source": [
        "print('Best Parameters\\n')\n",
        "print(gs_results.best_estimator_)\n",
        "\n",
        "grid_predictions = gs.predict(X_test)\n",
        "\n",
        "print('Confusion Matrix\\n')\n",
        "print(confusion_matrix(y_test, grid_predictions))\n",
        "print('\\nClassification report\\n')\n",
        "print(classification_report(y_test, grid_predictions, target_names=target_names))\n",
        "classification_report_knn = pd.DataFrame(classification_report(y_test,grid_predictions,output_dict=True)).T\n",
        "knn_with_scaler = classification_report_knn['f1-score']['accuracy']"
      ],
      "metadata": {
        "id": "vILJdn7MK9eF",
        "outputId": "efa79187-2317-42b7-b4ba-ebda2e041d24",
        "colab": {
          "base_uri": "https://localhost:8080/"
        }
      },
      "execution_count": 22,
      "outputs": [
        {
          "output_type": "stream",
          "name": "stdout",
          "text": [
            "Best Parameters\n",
            "\n",
            "KNeighborsClassifier(metric='manhattan', n_neighbors=7, weights='distance')\n",
            "Confusion Matrix\n",
            "\n",
            "[[ 87  45]\n",
            " [ 25 214]]\n",
            "\n",
            "Classification report\n",
            "\n",
            "              precision    recall  f1-score   support\n",
            "\n",
            "        Pass       0.78      0.66      0.71       132\n",
            "        Fail       0.83      0.90      0.86       239\n",
            "\n",
            "    accuracy                           0.81       371\n",
            "   macro avg       0.80      0.78      0.79       371\n",
            "weighted avg       0.81      0.81      0.81       371\n",
            "\n"
          ]
        }
      ]
    },
    {
      "cell_type": "markdown",
      "source": [
        "## **5.Classification Using Logistic Regression**"
      ],
      "metadata": {
        "id": "XNf-xJmOl5BV"
      }
    },
    {
      "cell_type": "markdown",
      "source": [
        "### i) Logistic Regression Model without scaler"
      ],
      "metadata": {
        "id": "VeFtLxXmmA9i"
      }
    },
    {
      "cell_type": "code",
      "source": [
        "X_train, X_test, y_train, y_test = train_test_split(X, y, test_size=0.33, random_state=42)\n",
        "\n",
        "# instantiate the model (using the default parameters)\n",
        "\n",
        "logreg = LogisticRegression(solver='lbfgs', max_iter=300)\n",
        "\n",
        "# fit the model with data\n",
        "logreg.fit(X_train,y_train)"
      ],
      "metadata": {
        "colab": {
          "base_uri": "https://localhost:8080/"
        },
        "id": "SIFeYvmXl7vl",
        "outputId": "53f4c170-1843-43a2-b1ae-15cb8ad37cf9"
      },
      "execution_count": 23,
      "outputs": [
        {
          "output_type": "execute_result",
          "data": {
            "text/plain": [
              "LogisticRegression(max_iter=300)"
            ]
          },
          "metadata": {},
          "execution_count": 23
        }
      ]
    },
    {
      "cell_type": "code",
      "source": [
        "# Coefficient and Intercept\n",
        "print(logreg.coef_)\n",
        "print(logreg.intercept_)"
      ],
      "metadata": {
        "colab": {
          "base_uri": "https://localhost:8080/"
        },
        "id": "N4VMrAR9qtUI",
        "outputId": "a0fbd00d-db3d-4fd1-ec98-ff2eb4f56f22"
      },
      "execution_count": 24,
      "outputs": [
        {
          "output_type": "stream",
          "name": "stdout",
          "text": [
            "[[ 0.05742924 -0.39607195 -0.47291936 -0.20442815  0.09650097  0.42139732\n",
            "  -0.09475915 -0.05977398  0.02921992  0.00122537  0.01969372  0.0052412 ]]\n",
            "[-0.0736338]\n"
          ]
        }
      ]
    },
    {
      "cell_type": "code",
      "source": [
        "# Create dataframe from regressor coefficient to display results in a dataframe\n",
        "column_names = ['age', 'Auditory', 'Kinaesthetic', 'Visual', 'ExtrinsicMotivation', 'IntrinsicMotivation', 'SelfEfficacy', 'StudyTime', 'Conscientiousness', 'CAOpoints', 'Maths', 'English']\n",
        "coefficient_df = pd.DataFrame(logreg.coef_) # T - Transpose dataframe rows to columns\n",
        "coefficient_df.columns = column_names\n",
        "coefficient_df"
      ],
      "metadata": {
        "colab": {
          "base_uri": "https://localhost:8080/",
          "height": 145
        },
        "id": "vu1PjV6fquK0",
        "outputId": "c1916d43-07b2-4a2c-becb-65c1a0590ab0"
      },
      "execution_count": 25,
      "outputs": [
        {
          "output_type": "execute_result",
          "data": {
            "text/html": [
              "\n",
              "  <div id=\"df-a9dea330-3c74-49c2-9a26-0fc39012aa29\">\n",
              "    <div class=\"colab-df-container\">\n",
              "      <div>\n",
              "<style scoped>\n",
              "    .dataframe tbody tr th:only-of-type {\n",
              "        vertical-align: middle;\n",
              "    }\n",
              "\n",
              "    .dataframe tbody tr th {\n",
              "        vertical-align: top;\n",
              "    }\n",
              "\n",
              "    .dataframe thead th {\n",
              "        text-align: right;\n",
              "    }\n",
              "</style>\n",
              "<table border=\"1\" class=\"dataframe\">\n",
              "  <thead>\n",
              "    <tr style=\"text-align: right;\">\n",
              "      <th></th>\n",
              "      <th>age</th>\n",
              "      <th>Auditory</th>\n",
              "      <th>Kinaesthetic</th>\n",
              "      <th>Visual</th>\n",
              "      <th>ExtrinsicMotivation</th>\n",
              "      <th>IntrinsicMotivation</th>\n",
              "      <th>SelfEfficacy</th>\n",
              "      <th>StudyTime</th>\n",
              "      <th>Conscientiousness</th>\n",
              "      <th>CAOpoints</th>\n",
              "      <th>Maths</th>\n",
              "      <th>English</th>\n",
              "    </tr>\n",
              "  </thead>\n",
              "  <tbody>\n",
              "    <tr>\n",
              "      <th>0</th>\n",
              "      <td>0.057429</td>\n",
              "      <td>-0.396072</td>\n",
              "      <td>-0.472919</td>\n",
              "      <td>-0.204428</td>\n",
              "      <td>0.096501</td>\n",
              "      <td>0.421397</td>\n",
              "      <td>-0.094759</td>\n",
              "      <td>-0.059774</td>\n",
              "      <td>0.02922</td>\n",
              "      <td>0.001225</td>\n",
              "      <td>0.019694</td>\n",
              "      <td>0.005241</td>\n",
              "    </tr>\n",
              "  </tbody>\n",
              "</table>\n",
              "</div>\n",
              "      <button class=\"colab-df-convert\" onclick=\"convertToInteractive('df-a9dea330-3c74-49c2-9a26-0fc39012aa29')\"\n",
              "              title=\"Convert this dataframe to an interactive table.\"\n",
              "              style=\"display:none;\">\n",
              "        \n",
              "  <svg xmlns=\"http://www.w3.org/2000/svg\" height=\"24px\"viewBox=\"0 0 24 24\"\n",
              "       width=\"24px\">\n",
              "    <path d=\"M0 0h24v24H0V0z\" fill=\"none\"/>\n",
              "    <path d=\"M18.56 5.44l.94 2.06.94-2.06 2.06-.94-2.06-.94-.94-2.06-.94 2.06-2.06.94zm-11 1L8.5 8.5l.94-2.06 2.06-.94-2.06-.94L8.5 2.5l-.94 2.06-2.06.94zm10 10l.94 2.06.94-2.06 2.06-.94-2.06-.94-.94-2.06-.94 2.06-2.06.94z\"/><path d=\"M17.41 7.96l-1.37-1.37c-.4-.4-.92-.59-1.43-.59-.52 0-1.04.2-1.43.59L10.3 9.45l-7.72 7.72c-.78.78-.78 2.05 0 2.83L4 21.41c.39.39.9.59 1.41.59.51 0 1.02-.2 1.41-.59l7.78-7.78 2.81-2.81c.8-.78.8-2.07 0-2.86zM5.41 20L4 18.59l7.72-7.72 1.47 1.35L5.41 20z\"/>\n",
              "  </svg>\n",
              "      </button>\n",
              "      \n",
              "  <style>\n",
              "    .colab-df-container {\n",
              "      display:flex;\n",
              "      flex-wrap:wrap;\n",
              "      gap: 12px;\n",
              "    }\n",
              "\n",
              "    .colab-df-convert {\n",
              "      background-color: #E8F0FE;\n",
              "      border: none;\n",
              "      border-radius: 50%;\n",
              "      cursor: pointer;\n",
              "      display: none;\n",
              "      fill: #1967D2;\n",
              "      height: 32px;\n",
              "      padding: 0 0 0 0;\n",
              "      width: 32px;\n",
              "    }\n",
              "\n",
              "    .colab-df-convert:hover {\n",
              "      background-color: #E2EBFA;\n",
              "      box-shadow: 0px 1px 2px rgba(60, 64, 67, 0.3), 0px 1px 3px 1px rgba(60, 64, 67, 0.15);\n",
              "      fill: #174EA6;\n",
              "    }\n",
              "\n",
              "    [theme=dark] .colab-df-convert {\n",
              "      background-color: #3B4455;\n",
              "      fill: #D2E3FC;\n",
              "    }\n",
              "\n",
              "    [theme=dark] .colab-df-convert:hover {\n",
              "      background-color: #434B5C;\n",
              "      box-shadow: 0px 1px 3px 1px rgba(0, 0, 0, 0.15);\n",
              "      filter: drop-shadow(0px 1px 2px rgba(0, 0, 0, 0.3));\n",
              "      fill: #FFFFFF;\n",
              "    }\n",
              "  </style>\n",
              "\n",
              "      <script>\n",
              "        const buttonEl =\n",
              "          document.querySelector('#df-a9dea330-3c74-49c2-9a26-0fc39012aa29 button.colab-df-convert');\n",
              "        buttonEl.style.display =\n",
              "          google.colab.kernel.accessAllowed ? 'block' : 'none';\n",
              "\n",
              "        async function convertToInteractive(key) {\n",
              "          const element = document.querySelector('#df-a9dea330-3c74-49c2-9a26-0fc39012aa29');\n",
              "          const dataTable =\n",
              "            await google.colab.kernel.invokeFunction('convertToInteractive',\n",
              "                                                     [key], {});\n",
              "          if (!dataTable) return;\n",
              "\n",
              "          const docLinkHtml = 'Like what you see? Visit the ' +\n",
              "            '<a target=\"_blank\" href=https://colab.research.google.com/notebooks/data_table.ipynb>data table notebook</a>'\n",
              "            + ' to learn more about interactive tables.';\n",
              "          element.innerHTML = '';\n",
              "          dataTable['output_type'] = 'display_data';\n",
              "          await google.colab.output.renderOutput(dataTable, element);\n",
              "          const docLink = document.createElement('div');\n",
              "          docLink.innerHTML = docLinkHtml;\n",
              "          element.appendChild(docLink);\n",
              "        }\n",
              "      </script>\n",
              "    </div>\n",
              "  </div>\n",
              "  "
            ],
            "text/plain": [
              "        age  Auditory  Kinaesthetic  ...  CAOpoints     Maths   English\n",
              "0  0.057429 -0.396072     -0.472919  ...   0.001225  0.019694  0.005241\n",
              "\n",
              "[1 rows x 12 columns]"
            ]
          },
          "metadata": {},
          "execution_count": 25
        }
      ]
    },
    {
      "cell_type": "code",
      "source": [
        "# Predict test set from model built during training \n",
        "y_pred = logreg.predict(X_test)"
      ],
      "metadata": {
        "id": "ID-DFklKqwHg"
      },
      "execution_count": 26,
      "outputs": []
    },
    {
      "cell_type": "markdown",
      "source": [
        "#### i) Confusion Matrix"
      ],
      "metadata": {
        "id": "uVS8rafdrAXd"
      }
    },
    {
      "cell_type": "code",
      "source": [
        "cnf_matrix = metrics.confusion_matrix(y_test, y_pred)\n",
        "fig, ax = plt.subplots()\n",
        "# create heatmap\n",
        "sns.heatmap(pd.DataFrame(cnf_matrix), annot=True, cmap=\"YlGnBu\" ,fmt='g')\n",
        "ax.xaxis.set_label_position(\"top\")\n",
        "plt.tight_layout()\n",
        "plt.title('Confusion matrix', y=1.1)\n",
        "plt.ylabel('Actual label')\n",
        "plt.xlabel('Predicted label')\n",
        "ax.xaxis.set_ticklabels(['Fail', 'Pass']); ax.yaxis.set_ticklabels(['Fail', 'Pass']);"
      ],
      "metadata": {
        "colab": {
          "base_uri": "https://localhost:8080/",
          "height": 325
        },
        "id": "6l8AhLm3q6JW",
        "outputId": "66586a39-dd2b-4256-9a69-c368a37cf798"
      },
      "execution_count": 27,
      "outputs": [
        {
          "output_type": "display_data",
          "data": {
            "image/png": "[encoded data removed]",
            "text/plain": [
              "<Figure size 432x288 with 2 Axes>"
            ]
          },
          "metadata": {
            "needs_background": "light"
          }
        }
      ]
    },
    {
      "cell_type": "markdown",
      "source": [
        "#### ii) classification report - Accuracy, Precision, Recall, F1-Score"
      ],
      "metadata": {
        "id": "__n-KfSmrIw-"
      }
    },
    {
      "cell_type": "code",
      "source": [
        "log_without_scaler = classification_report(y_test, y_pred, target_names=target_names)\n",
        "classificationReport = pd.DataFrame(classification_report(y_test,y_pred,output_dict=True)).T\n",
        "log_without_scaler = classificationReport['f1-score']['accuracy']\n",
        "classificationReport"
      ],
      "metadata": {
        "colab": {
          "base_uri": "https://localhost:8080/",
          "height": 206
        },
        "id": "l2uMtccPq9lL",
        "outputId": "3c150f5e-4a99-4b4b-9aea-c140204151a1"
      },
      "execution_count": 28,
      "outputs": [
        {
          "output_type": "execute_result",
          "data": {
            "text/html": [
              "\n",
              "  <div id=\"df-9a15cc54-b72c-421b-8935-60991d1e7d74\">\n",
              "    <div class=\"colab-df-container\">\n",
              "      <div>\n",
              "<style scoped>\n",
              "    .dataframe tbody tr th:only-of-type {\n",
              "        vertical-align: middle;\n",
              "    }\n",
              "\n",
              "    .dataframe tbody tr th {\n",
              "        vertical-align: top;\n",
              "    }\n",
              "\n",
              "    .dataframe thead th {\n",
              "        text-align: right;\n",
              "    }\n",
              "</style>\n",
              "<table border=\"1\" class=\"dataframe\">\n",
              "  <thead>\n",
              "    <tr style=\"text-align: right;\">\n",
              "      <th></th>\n",
              "      <th>precision</th>\n",
              "      <th>recall</th>\n",
              "      <th>f1-score</th>\n",
              "      <th>support</th>\n",
              "    </tr>\n",
              "  </thead>\n",
              "  <tbody>\n",
              "    <tr>\n",
              "      <th>0</th>\n",
              "      <td>0.623529</td>\n",
              "      <td>0.401515</td>\n",
              "      <td>0.488479</td>\n",
              "      <td>132.000000</td>\n",
              "    </tr>\n",
              "    <tr>\n",
              "      <th>1</th>\n",
              "      <td>0.723776</td>\n",
              "      <td>0.866109</td>\n",
              "      <td>0.788571</td>\n",
              "      <td>239.000000</td>\n",
              "    </tr>\n",
              "    <tr>\n",
              "      <th>accuracy</th>\n",
              "      <td>0.700809</td>\n",
              "      <td>0.700809</td>\n",
              "      <td>0.700809</td>\n",
              "      <td>0.700809</td>\n",
              "    </tr>\n",
              "    <tr>\n",
              "      <th>macro avg</th>\n",
              "      <td>0.673653</td>\n",
              "      <td>0.633812</td>\n",
              "      <td>0.638525</td>\n",
              "      <td>371.000000</td>\n",
              "    </tr>\n",
              "    <tr>\n",
              "      <th>weighted avg</th>\n",
              "      <td>0.688109</td>\n",
              "      <td>0.700809</td>\n",
              "      <td>0.681800</td>\n",
              "      <td>371.000000</td>\n",
              "    </tr>\n",
              "  </tbody>\n",
              "</table>\n",
              "</div>\n",
              "      <button class=\"colab-df-convert\" onclick=\"convertToInteractive('df-9a15cc54-b72c-421b-8935-60991d1e7d74')\"\n",
              "              title=\"Convert this dataframe to an interactive table.\"\n",
              "              style=\"display:none;\">\n",
              "        \n",
              "  <svg xmlns=\"http://www.w3.org/2000/svg\" height=\"24px\"viewBox=\"0 0 24 24\"\n",
              "       width=\"24px\">\n",
              "    <path d=\"M0 0h24v24H0V0z\" fill=\"none\"/>\n",
              "    <path d=\"M18.56 5.44l.94 2.06.94-2.06 2.06-.94-2.06-.94-.94-2.06-.94 2.06-2.06.94zm-11 1L8.5 8.5l.94-2.06 2.06-.94-2.06-.94L8.5 2.5l-.94 2.06-2.06.94zm10 10l.94 2.06.94-2.06 2.06-.94-2.06-.94-.94-2.06-.94 2.06-2.06.94z\"/><path d=\"M17.41 7.96l-1.37-1.37c-.4-.4-.92-.59-1.43-.59-.52 0-1.04.2-1.43.59L10.3 9.45l-7.72 7.72c-.78.78-.78 2.05 0 2.83L4 21.41c.39.39.9.59 1.41.59.51 0 1.02-.2 1.41-.59l7.78-7.78 2.81-2.81c.8-.78.8-2.07 0-2.86zM5.41 20L4 18.59l7.72-7.72 1.47 1.35L5.41 20z\"/>\n",
              "  </svg>\n",
              "      </button>\n",
              "      \n",
              "  <style>\n",
              "    .colab-df-container {\n",
              "      display:flex;\n",
              "      flex-wrap:wrap;\n",
              "      gap: 12px;\n",
              "    }\n",
              "\n",
              "    .colab-df-convert {\n",
              "      background-color: #E8F0FE;\n",
              "      border: none;\n",
              "      border-radius: 50%;\n",
              "      cursor: pointer;\n",
              "      display: none;\n",
              "      fill: #1967D2;\n",
              "      height: 32px;\n",
              "      padding: 0 0 0 0;\n",
              "      width: 32px;\n",
              "    }\n",
              "\n",
              "    .colab-df-convert:hover {\n",
              "      background-color: #E2EBFA;\n",
              "      box-shadow: 0px 1px 2px rgba(60, 64, 67, 0.3), 0px 1px 3px 1px rgba(60, 64, 67, 0.15);\n",
              "      fill: #174EA6;\n",
              "    }\n",
              "\n",
              "    [theme=dark] .colab-df-convert {\n",
              "      background-color: #3B4455;\n",
              "      fill: #D2E3FC;\n",
              "    }\n",
              "\n",
              "    [theme=dark] .colab-df-convert:hover {\n",
              "      background-color: #434B5C;\n",
              "      box-shadow: 0px 1px 3px 1px rgba(0, 0, 0, 0.15);\n",
              "      filter: drop-shadow(0px 1px 2px rgba(0, 0, 0, 0.3));\n",
              "      fill: #FFFFFF;\n",
              "    }\n",
              "  </style>\n",
              "\n",
              "      <script>\n",
              "        const buttonEl =\n",
              "          document.querySelector('#df-9a15cc54-b72c-421b-8935-60991d1e7d74 button.colab-df-convert');\n",
              "        buttonEl.style.display =\n",
              "          google.colab.kernel.accessAllowed ? 'block' : 'none';\n",
              "\n",
              "        async function convertToInteractive(key) {\n",
              "          const element = document.querySelector('#df-9a15cc54-b72c-421b-8935-60991d1e7d74');\n",
              "          const dataTable =\n",
              "            await google.colab.kernel.invokeFunction('convertToInteractive',\n",
              "                                                     [key], {});\n",
              "          if (!dataTable) return;\n",
              "\n",
              "          const docLinkHtml = 'Like what you see? Visit the ' +\n",
              "            '<a target=\"_blank\" href=https://colab.research.google.com/notebooks/data_table.ipynb>data table notebook</a>'\n",
              "            + ' to learn more about interactive tables.';\n",
              "          element.innerHTML = '';\n",
              "          dataTable['output_type'] = 'display_data';\n",
              "          await google.colab.output.renderOutput(dataTable, element);\n",
              "          const docLink = document.createElement('div');\n",
              "          docLink.innerHTML = docLinkHtml;\n",
              "          element.appendChild(docLink);\n",
              "        }\n",
              "      </script>\n",
              "    </div>\n",
              "  </div>\n",
              "  "
            ],
            "text/plain": [
              "              precision    recall  f1-score     support\n",
              "0              0.623529  0.401515  0.488479  132.000000\n",
              "1              0.723776  0.866109  0.788571  239.000000\n",
              "accuracy       0.700809  0.700809  0.700809    0.700809\n",
              "macro avg      0.673653  0.633812  0.638525  371.000000\n",
              "weighted avg   0.688109  0.700809  0.681800  371.000000"
            ]
          },
          "metadata": {},
          "execution_count": 28
        }
      ]
    },
    {
      "cell_type": "markdown",
      "source": [
        "#### iii) ROC Curve"
      ],
      "metadata": {
        "id": "QPkzcf5YrNlf"
      }
    },
    {
      "cell_type": "code",
      "source": [
        "logit_roc_auc = metrics.roc_auc_score(y_test, y_pred)\n",
        "fpr, tpr, thresholds = metrics.roc_curve(y_test,  y_pred)\n",
        "plt.figure()\n",
        "plt.plot(fpr, tpr, label='Logistic Regression (area = %0.2f)' % logit_roc_auc)\n",
        "plt.plot([0, 1], [0, 1],'r--')\n",
        "plt.xlim([0.0, 1.0])\n",
        "plt.ylim([0.0, 1.05])\n",
        "plt.xlabel('False Positive Rate')\n",
        "plt.ylabel('True Positive Rate')\n",
        "plt.title('Receiver operating characteristic')\n",
        "plt.legend(loc=\"lower right\")\n",
        "plt.show()"
      ],
      "metadata": {
        "colab": {
          "base_uri": "https://localhost:8080/",
          "height": 295
        },
        "id": "a8hIsmEvrMm9",
        "outputId": "8433675a-66d3-46f0-c2e7-1d66df814619"
      },
      "execution_count": 29,
      "outputs": [
        {
          "output_type": "display_data",
          "data": {
            "image/png": "[encoded data removed]",
            "text/plain": [
              "<Figure size 432x288 with 1 Axes>"
            ]
          },
          "metadata": {
            "needs_background": "light"
          }
        }
      ]
    },
    {
      "cell_type": "markdown",
      "source": [
        "### ii) Logistic Regression Model with scaler"
      ],
      "metadata": {
        "id": "1FtF75fqrZhb"
      }
    },
    {
      "cell_type": "code",
      "source": [
        "X_train, X_test, y_train, y_test = train_test_split(scaled_X, y, test_size=0.33, random_state=42)"
      ],
      "metadata": {
        "id": "71ml45ArrTk3"
      },
      "execution_count": 30,
      "outputs": []
    },
    {
      "cell_type": "code",
      "source": [
        "# instantiate the model (using the default parameters)\n",
        "logreg = LogisticRegression(solver='lbfgs', max_iter=300)\n",
        "\n",
        "# fit the model with data\n",
        "logreg.fit(X_train,y_train)"
      ],
      "metadata": {
        "colab": {
          "base_uri": "https://localhost:8080/"
        },
        "id": "tP2798DnrhQq",
        "outputId": "dcb453f2-3e67-4716-d7b5-463c48bed7c2"
      },
      "execution_count": 31,
      "outputs": [
        {
          "output_type": "execute_result",
          "data": {
            "text/plain": [
              "LogisticRegression(max_iter=300)"
            ]
          },
          "metadata": {},
          "execution_count": 31
        }
      ]
    },
    {
      "cell_type": "code",
      "source": [
        "# Coefficient and Intercept\n",
        "print(logreg.coef_)\n",
        "print(logreg.intercept_)"
      ],
      "metadata": {
        "colab": {
          "base_uri": "https://localhost:8080/"
        },
        "id": "S65D65l_rkce",
        "outputId": "161a5d37-af8f-406c-9a93-4fd741025cb8"
      },
      "execution_count": 32,
      "outputs": [
        {
          "output_type": "stream",
          "name": "stdout",
          "text": [
            "[[ 1.02440956 -0.16040372 -0.54623301  0.71380604  0.35198536  1.4146648\n",
            "  -0.31416718 -0.25574539  0.13379691  0.34760502  0.93065754  0.24861386]]\n",
            "[0.88810851]\n"
          ]
        }
      ]
    },
    {
      "cell_type": "code",
      "source": [
        "# Create dataframe from regressor coefficient to display results in a dataframe\n",
        "column_names = ['age', 'Auditory', 'Kinaesthetic', 'Visual', 'ExtrinsicMotivation', 'IntrinsicMotivation', 'SelfEfficacy', 'StudyTime', 'Conscientiousness', 'CAOpoints', 'Maths', 'English']\n",
        "coefficient_df = pd.DataFrame(logreg.coef_) # T - Transpose dataframe rows to columns\n",
        "coefficient_df.columns = column_names\n",
        "coefficient_df"
      ],
      "metadata": {
        "colab": {
          "base_uri": "https://localhost:8080/",
          "height": 145
        },
        "id": "19zpqc_LrmEP",
        "outputId": "91a8104c-b3f1-43bb-f408-ef1ce4bd95c5"
      },
      "execution_count": 33,
      "outputs": [
        {
          "output_type": "execute_result",
          "data": {
            "text/html": [
              "\n",
              "  <div id=\"df-8116f4af-044c-4696-b511-d841a170c033\">\n",
              "    <div class=\"colab-df-container\">\n",
              "      <div>\n",
              "<style scoped>\n",
              "    .dataframe tbody tr th:only-of-type {\n",
              "        vertical-align: middle;\n",
              "    }\n",
              "\n",
              "    .dataframe tbody tr th {\n",
              "        vertical-align: top;\n",
              "    }\n",
              "\n",
              "    .dataframe thead th {\n",
              "        text-align: right;\n",
              "    }\n",
              "</style>\n",
              "<table border=\"1\" class=\"dataframe\">\n",
              "  <thead>\n",
              "    <tr style=\"text-align: right;\">\n",
              "      <th></th>\n",
              "      <th>age</th>\n",
              "      <th>Auditory</th>\n",
              "      <th>Kinaesthetic</th>\n",
              "      <th>Visual</th>\n",
              "      <th>ExtrinsicMotivation</th>\n",
              "      <th>IntrinsicMotivation</th>\n",
              "      <th>SelfEfficacy</th>\n",
              "      <th>StudyTime</th>\n",
              "      <th>Conscientiousness</th>\n",
              "      <th>CAOpoints</th>\n",
              "      <th>Maths</th>\n",
              "      <th>English</th>\n",
              "    </tr>\n",
              "  </thead>\n",
              "  <tbody>\n",
              "    <tr>\n",
              "      <th>0</th>\n",
              "      <td>1.02441</td>\n",
              "      <td>-0.160404</td>\n",
              "      <td>-0.546233</td>\n",
              "      <td>0.713806</td>\n",
              "      <td>0.351985</td>\n",
              "      <td>1.414665</td>\n",
              "      <td>-0.314167</td>\n",
              "      <td>-0.255745</td>\n",
              "      <td>0.133797</td>\n",
              "      <td>0.347605</td>\n",
              "      <td>0.930658</td>\n",
              "      <td>0.248614</td>\n",
              "    </tr>\n",
              "  </tbody>\n",
              "</table>\n",
              "</div>\n",
              "      <button class=\"colab-df-convert\" onclick=\"convertToInteractive('df-8116f4af-044c-4696-b511-d841a170c033')\"\n",
              "              title=\"Convert this dataframe to an interactive table.\"\n",
              "              style=\"display:none;\">\n",
              "        \n",
              "  <svg xmlns=\"http://www.w3.org/2000/svg\" height=\"24px\"viewBox=\"0 0 24 24\"\n",
              "       width=\"24px\">\n",
              "    <path d=\"M0 0h24v24H0V0z\" fill=\"none\"/>\n",
              "    <path d=\"M18.56 5.44l.94 2.06.94-2.06 2.06-.94-2.06-.94-.94-2.06-.94 2.06-2.06.94zm-11 1L8.5 8.5l.94-2.06 2.06-.94-2.06-.94L8.5 2.5l-.94 2.06-2.06.94zm10 10l.94 2.06.94-2.06 2.06-.94-2.06-.94-.94-2.06-.94 2.06-2.06.94z\"/><path d=\"M17.41 7.96l-1.37-1.37c-.4-.4-.92-.59-1.43-.59-.52 0-1.04.2-1.43.59L10.3 9.45l-7.72 7.72c-.78.78-.78 2.05 0 2.83L4 21.41c.39.39.9.59 1.41.59.51 0 1.02-.2 1.41-.59l7.78-7.78 2.81-2.81c.8-.78.8-2.07 0-2.86zM5.41 20L4 18.59l7.72-7.72 1.47 1.35L5.41 20z\"/>\n",
              "  </svg>\n",
              "      </button>\n",
              "      \n",
              "  <style>\n",
              "    .colab-df-container {\n",
              "      display:flex;\n",
              "      flex-wrap:wrap;\n",
              "      gap: 12px;\n",
              "    }\n",
              "\n",
              "    .colab-df-convert {\n",
              "      background-color: #E8F0FE;\n",
              "      border: none;\n",
              "      border-radius: 50%;\n",
              "      cursor: pointer;\n",
              "      display: none;\n",
              "      fill: #1967D2;\n",
              "      height: 32px;\n",
              "      padding: 0 0 0 0;\n",
              "      width: 32px;\n",
              "    }\n",
              "\n",
              "    .colab-df-convert:hover {\n",
              "      background-color: #E2EBFA;\n",
              "      box-shadow: 0px 1px 2px rgba(60, 64, 67, 0.3), 0px 1px 3px 1px rgba(60, 64, 67, 0.15);\n",
              "      fill: #174EA6;\n",
              "    }\n",
              "\n",
              "    [theme=dark] .colab-df-convert {\n",
              "      background-color: #3B4455;\n",
              "      fill: #D2E3FC;\n",
              "    }\n",
              "\n",
              "    [theme=dark] .colab-df-convert:hover {\n",
              "      background-color: #434B5C;\n",
              "      box-shadow: 0px 1px 3px 1px rgba(0, 0, 0, 0.15);\n",
              "      filter: drop-shadow(0px 1px 2px rgba(0, 0, 0, 0.3));\n",
              "      fill: #FFFFFF;\n",
              "    }\n",
              "  </style>\n",
              "\n",
              "      <script>\n",
              "        const buttonEl =\n",
              "          document.querySelector('#df-8116f4af-044c-4696-b511-d841a170c033 button.colab-df-convert');\n",
              "        buttonEl.style.display =\n",
              "          google.colab.kernel.accessAllowed ? 'block' : 'none';\n",
              "\n",
              "        async function convertToInteractive(key) {\n",
              "          const element = document.querySelector('#df-8116f4af-044c-4696-b511-d841a170c033');\n",
              "          const dataTable =\n",
              "            await google.colab.kernel.invokeFunction('convertToInteractive',\n",
              "                                                     [key], {});\n",
              "          if (!dataTable) return;\n",
              "\n",
              "          const docLinkHtml = 'Like what you see? Visit the ' +\n",
              "            '<a target=\"_blank\" href=https://colab.research.google.com/notebooks/data_table.ipynb>data table notebook</a>'\n",
              "            + ' to learn more about interactive tables.';\n",
              "          element.innerHTML = '';\n",
              "          dataTable['output_type'] = 'display_data';\n",
              "          await google.colab.output.renderOutput(dataTable, element);\n",
              "          const docLink = document.createElement('div');\n",
              "          docLink.innerHTML = docLinkHtml;\n",
              "          element.appendChild(docLink);\n",
              "        }\n",
              "      </script>\n",
              "    </div>\n",
              "  </div>\n",
              "  "
            ],
            "text/plain": [
              "       age  Auditory  Kinaesthetic  ...  CAOpoints     Maths   English\n",
              "0  1.02441 -0.160404     -0.546233  ...   0.347605  0.930658  0.248614\n",
              "\n",
              "[1 rows x 12 columns]"
            ]
          },
          "metadata": {},
          "execution_count": 33
        }
      ]
    },
    {
      "cell_type": "code",
      "source": [
        "# Predict test set from model built during training \n",
        "y_pred = logreg.predict(X_test)"
      ],
      "metadata": {
        "id": "MvugS5xBrn-E"
      },
      "execution_count": 34,
      "outputs": []
    },
    {
      "cell_type": "code",
      "source": [
        "cnf_matrix = metrics.confusion_matrix(y_test, y_pred)\n",
        "fig, ax = plt.subplots()\n",
        "# create heatmap\n",
        "sns.heatmap(pd.DataFrame(cnf_matrix), annot=True, cmap=\"YlGnBu\" ,fmt='g')\n",
        "ax.xaxis.set_label_position(\"top\")\n",
        "plt.tight_layout()\n",
        "plt.title('Confusion matrix', y=1.1)\n",
        "plt.ylabel('Actual label')\n",
        "plt.xlabel('Predicted label')\n",
        "ax.xaxis.set_ticklabels(['Fail', 'Pass']); ax.yaxis.set_ticklabels(['Fail', 'Pass']);"
      ],
      "metadata": {
        "colab": {
          "base_uri": "https://localhost:8080/",
          "height": 325
        },
        "id": "Wd6_uYykrrtB",
        "outputId": "5ca420f9-a7cd-4ca7-cb98-6aeeaaa7b8db"
      },
      "execution_count": 35,
      "outputs": [
        {
          "output_type": "display_data",
          "data": {
            "image/png": "[encoded data removed]",
            "text/plain": [
              "<Figure size 432x288 with 2 Axes>"
            ]
          },
          "metadata": {
            "needs_background": "light"
          }
        }
      ]
    },
    {
      "cell_type": "code",
      "source": [
        "\n",
        "classificationReport = pd.DataFrame(classification_report(y_test,y_pred,output_dict=True)).T\n",
        "log_with_scaler = classificationReport['f1-score']['accuracy']\n",
        "classificationReport"
      ],
      "metadata": {
        "colab": {
          "base_uri": "https://localhost:8080/",
          "height": 206
        },
        "id": "muDzBbYirt1S",
        "outputId": "f0861634-aec6-4383-bc58-661dc83be3a5"
      },
      "execution_count": 36,
      "outputs": [
        {
          "output_type": "execute_result",
          "data": {
            "text/html": [
              "\n",
              "  <div id=\"df-cfa84b16-9772-4704-a2f4-a956b0ed0356\">\n",
              "    <div class=\"colab-df-container\">\n",
              "      <div>\n",
              "<style scoped>\n",
              "    .dataframe tbody tr th:only-of-type {\n",
              "        vertical-align: middle;\n",
              "    }\n",
              "\n",
              "    .dataframe tbody tr th {\n",
              "        vertical-align: top;\n",
              "    }\n",
              "\n",
              "    .dataframe thead th {\n",
              "        text-align: right;\n",
              "    }\n",
              "</style>\n",
              "<table border=\"1\" class=\"dataframe\">\n",
              "  <thead>\n",
              "    <tr style=\"text-align: right;\">\n",
              "      <th></th>\n",
              "      <th>precision</th>\n",
              "      <th>recall</th>\n",
              "      <th>f1-score</th>\n",
              "      <th>support</th>\n",
              "    </tr>\n",
              "  </thead>\n",
              "  <tbody>\n",
              "    <tr>\n",
              "      <th>0</th>\n",
              "      <td>0.634146</td>\n",
              "      <td>0.393939</td>\n",
              "      <td>0.485981</td>\n",
              "      <td>132.000000</td>\n",
              "    </tr>\n",
              "    <tr>\n",
              "      <th>1</th>\n",
              "      <td>0.723183</td>\n",
              "      <td>0.874477</td>\n",
              "      <td>0.791667</td>\n",
              "      <td>239.000000</td>\n",
              "    </tr>\n",
              "    <tr>\n",
              "      <th>accuracy</th>\n",
              "      <td>0.703504</td>\n",
              "      <td>0.703504</td>\n",
              "      <td>0.703504</td>\n",
              "      <td>0.703504</td>\n",
              "    </tr>\n",
              "    <tr>\n",
              "      <th>macro avg</th>\n",
              "      <td>0.678665</td>\n",
              "      <td>0.634208</td>\n",
              "      <td>0.638824</td>\n",
              "      <td>371.000000</td>\n",
              "    </tr>\n",
              "    <tr>\n",
              "      <th>weighted avg</th>\n",
              "      <td>0.691504</td>\n",
              "      <td>0.703504</td>\n",
              "      <td>0.682905</td>\n",
              "      <td>371.000000</td>\n",
              "    </tr>\n",
              "  </tbody>\n",
              "</table>\n",
              "</div>\n",
              "      <button class=\"colab-df-convert\" onclick=\"convertToInteractive('df-cfa84b16-9772-4704-a2f4-a956b0ed0356')\"\n",
              "              title=\"Convert this dataframe to an interactive table.\"\n",
              "              style=\"display:none;\">\n",
              "        \n",
              "  <svg xmlns=\"http://www.w3.org/2000/svg\" height=\"24px\"viewBox=\"0 0 24 24\"\n",
              "       width=\"24px\">\n",
              "    <path d=\"M0 0h24v24H0V0z\" fill=\"none\"/>\n",
              "    <path d=\"M18.56 5.44l.94 2.06.94-2.06 2.06-.94-2.06-.94-.94-2.06-.94 2.06-2.06.94zm-11 1L8.5 8.5l.94-2.06 2.06-.94-2.06-.94L8.5 2.5l-.94 2.06-2.06.94zm10 10l.94 2.06.94-2.06 2.06-.94-2.06-.94-.94-2.06-.94 2.06-2.06.94z\"/><path d=\"M17.41 7.96l-1.37-1.37c-.4-.4-.92-.59-1.43-.59-.52 0-1.04.2-1.43.59L10.3 9.45l-7.72 7.72c-.78.78-.78 2.05 0 2.83L4 21.41c.39.39.9.59 1.41.59.51 0 1.02-.2 1.41-.59l7.78-7.78 2.81-2.81c.8-.78.8-2.07 0-2.86zM5.41 20L4 18.59l7.72-7.72 1.47 1.35L5.41 20z\"/>\n",
              "  </svg>\n",
              "      </button>\n",
              "      \n",
              "  <style>\n",
              "    .colab-df-container {\n",
              "      display:flex;\n",
              "      flex-wrap:wrap;\n",
              "      gap: 12px;\n",
              "    }\n",
              "\n",
              "    .colab-df-convert {\n",
              "      background-color: #E8F0FE;\n",
              "      border: none;\n",
              "      border-radius: 50%;\n",
              "      cursor: pointer;\n",
              "      display: none;\n",
              "      fill: #1967D2;\n",
              "      height: 32px;\n",
              "      padding: 0 0 0 0;\n",
              "      width: 32px;\n",
              "    }\n",
              "\n",
              "    .colab-df-convert:hover {\n",
              "      background-color: #E2EBFA;\n",
              "      box-shadow: 0px 1px 2px rgba(60, 64, 67, 0.3), 0px 1px 3px 1px rgba(60, 64, 67, 0.15);\n",
              "      fill: #174EA6;\n",
              "    }\n",
              "\n",
              "    [theme=dark] .colab-df-convert {\n",
              "      background-color: #3B4455;\n",
              "      fill: #D2E3FC;\n",
              "    }\n",
              "\n",
              "    [theme=dark] .colab-df-convert:hover {\n",
              "      background-color: #434B5C;\n",
              "      box-shadow: 0px 1px 3px 1px rgba(0, 0, 0, 0.15);\n",
              "      filter: drop-shadow(0px 1px 2px rgba(0, 0, 0, 0.3));\n",
              "      fill: #FFFFFF;\n",
              "    }\n",
              "  </style>\n",
              "\n",
              "      <script>\n",
              "        const buttonEl =\n",
              "          document.querySelector('#df-cfa84b16-9772-4704-a2f4-a956b0ed0356 button.colab-df-convert');\n",
              "        buttonEl.style.display =\n",
              "          google.colab.kernel.accessAllowed ? 'block' : 'none';\n",
              "\n",
              "        async function convertToInteractive(key) {\n",
              "          const element = document.querySelector('#df-cfa84b16-9772-4704-a2f4-a956b0ed0356');\n",
              "          const dataTable =\n",
              "            await google.colab.kernel.invokeFunction('convertToInteractive',\n",
              "                                                     [key], {});\n",
              "          if (!dataTable) return;\n",
              "\n",
              "          const docLinkHtml = 'Like what you see? Visit the ' +\n",
              "            '<a target=\"_blank\" href=https://colab.research.google.com/notebooks/data_table.ipynb>data table notebook</a>'\n",
              "            + ' to learn more about interactive tables.';\n",
              "          element.innerHTML = '';\n",
              "          dataTable['output_type'] = 'display_data';\n",
              "          await google.colab.output.renderOutput(dataTable, element);\n",
              "          const docLink = document.createElement('div');\n",
              "          docLink.innerHTML = docLinkHtml;\n",
              "          element.appendChild(docLink);\n",
              "        }\n",
              "      </script>\n",
              "    </div>\n",
              "  </div>\n",
              "  "
            ],
            "text/plain": [
              "              precision    recall  f1-score     support\n",
              "0              0.634146  0.393939  0.485981  132.000000\n",
              "1              0.723183  0.874477  0.791667  239.000000\n",
              "accuracy       0.703504  0.703504  0.703504    0.703504\n",
              "macro avg      0.678665  0.634208  0.638824  371.000000\n",
              "weighted avg   0.691504  0.703504  0.682905  371.000000"
            ]
          },
          "metadata": {},
          "execution_count": 36
        }
      ]
    },
    {
      "cell_type": "code",
      "source": [
        "logit_roc_auc = metrics.roc_auc_score(y_test, y_pred)\n",
        "fpr, tpr, thresholds = metrics.roc_curve(y_test,  y_pred)\n",
        "plt.figure()\n",
        "plt.plot(fpr, tpr, label='Logistic Regression (area = %0.2f)' % logit_roc_auc)\n",
        "plt.plot([0, 1], [0, 1],'r--')\n",
        "plt.xlim([0.0, 1.0])\n",
        "plt.ylim([0.0, 1.05])\n",
        "plt.xlabel('False Positive Rate')\n",
        "plt.ylabel('True Positive Rate')\n",
        "plt.title('Receiver operating characteristic')\n",
        "plt.legend(loc=\"lower right\")\n",
        "plt.show()"
      ],
      "metadata": {
        "colab": {
          "base_uri": "https://localhost:8080/",
          "height": 295
        },
        "id": "JE2sgOwLryPf",
        "outputId": "d5c5d88e-69f5-42db-dccd-5a489ca805ba"
      },
      "execution_count": 37,
      "outputs": [
        {
          "output_type": "display_data",
          "data": {
            "image/png": "[encoded data removed]",
            "text/plain": [
              "<Figure size 432x288 with 1 Axes>"
            ]
          },
          "metadata": {
            "needs_background": "light"
          }
        }
      ]
    },
    {
      "cell_type": "markdown",
      "source": [
        "## **6.Final Evaluation on Accuracy KNN Vs Logistic Regression**"
      ],
      "metadata": {
        "id": "D4iZQGmQxd1F"
      }
    },
    {
      "cell_type": "code",
      "source": [
        "knn_log_compare = pd.DataFrame(columns=['knn_without_scaler', 'knn_with_scaler', 'log_without_scaler', 'log_with_scaler'])\n",
        "knn_log_compare = knn_log_compare.append({'knn_without_scaler': knn_without_scaler, 'knn_with_scaler': knn_with_scaler, 'log_without_scaler': log_without_scaler, 'log_with_scaler': log_with_scaler }, ignore_index=True)"
      ],
      "metadata": {
        "id": "jzSVHtfxw3AG"
      },
      "execution_count": 49,
      "outputs": []
    },
    {
      "cell_type": "code",
      "source": [
        "knn_log_compare"
      ],
      "metadata": {
        "colab": {
          "base_uri": "https://localhost:8080/",
          "height": 80
        },
        "id": "wtFeKKJmvumm",
        "outputId": "edbe5797-92dc-4891-c07a-5a6e40473fa1"
      },
      "execution_count": 50,
      "outputs": [
        {
          "output_type": "execute_result",
          "data": {
            "text/html": [
              "\n",
              "  <div id=\"df-328c6244-16cd-482b-8ef0-c24badeed957\">\n",
              "    <div class=\"colab-df-container\">\n",
              "      <div>\n",
              "<style scoped>\n",
              "    .dataframe tbody tr th:only-of-type {\n",
              "        vertical-align: middle;\n",
              "    }\n",
              "\n",
              "    .dataframe tbody tr th {\n",
              "        vertical-align: top;\n",
              "    }\n",
              "\n",
              "    .dataframe thead th {\n",
              "        text-align: right;\n",
              "    }\n",
              "</style>\n",
              "<table border=\"1\" class=\"dataframe\">\n",
              "  <thead>\n",
              "    <tr style=\"text-align: right;\">\n",
              "      <th></th>\n",
              "      <th>knn_without_scaler</th>\n",
              "      <th>knn_with_scaler</th>\n",
              "      <th>log_without_scaler</th>\n",
              "      <th>log_with_scaler</th>\n",
              "    </tr>\n",
              "  </thead>\n",
              "  <tbody>\n",
              "    <tr>\n",
              "      <th>0</th>\n",
              "      <td>0.71159</td>\n",
              "      <td>0.811321</td>\n",
              "      <td>0.700809</td>\n",
              "      <td>0.703504</td>\n",
              "    </tr>\n",
              "  </tbody>\n",
              "</table>\n",
              "</div>\n",
              "      <button class=\"colab-df-convert\" onclick=\"convertToInteractive('df-328c6244-16cd-482b-8ef0-c24badeed957')\"\n",
              "              title=\"Convert this dataframe to an interactive table.\"\n",
              "              style=\"display:none;\">\n",
              "        \n",
              "  <svg xmlns=\"http://www.w3.org/2000/svg\" height=\"24px\"viewBox=\"0 0 24 24\"\n",
              "       width=\"24px\">\n",
              "    <path d=\"M0 0h24v24H0V0z\" fill=\"none\"/>\n",
              "    <path d=\"M18.56 5.44l.94 2.06.94-2.06 2.06-.94-2.06-.94-.94-2.06-.94 2.06-2.06.94zm-11 1L8.5 8.5l.94-2.06 2.06-.94-2.06-.94L8.5 2.5l-.94 2.06-2.06.94zm10 10l.94 2.06.94-2.06 2.06-.94-2.06-.94-.94-2.06-.94 2.06-2.06.94z\"/><path d=\"M17.41 7.96l-1.37-1.37c-.4-.4-.92-.59-1.43-.59-.52 0-1.04.2-1.43.59L10.3 9.45l-7.72 7.72c-.78.78-.78 2.05 0 2.83L4 21.41c.39.39.9.59 1.41.59.51 0 1.02-.2 1.41-.59l7.78-7.78 2.81-2.81c.8-.78.8-2.07 0-2.86zM5.41 20L4 18.59l7.72-7.72 1.47 1.35L5.41 20z\"/>\n",
              "  </svg>\n",
              "      </button>\n",
              "      \n",
              "  <style>\n",
              "    .colab-df-container {\n",
              "      display:flex;\n",
              "      flex-wrap:wrap;\n",
              "      gap: 12px;\n",
              "    }\n",
              "\n",
              "    .colab-df-convert {\n",
              "      background-color: #E8F0FE;\n",
              "      border: none;\n",
              "      border-radius: 50%;\n",
              "      cursor: pointer;\n",
              "      display: none;\n",
              "      fill: #1967D2;\n",
              "      height: 32px;\n",
              "      padding: 0 0 0 0;\n",
              "      width: 32px;\n",
              "    }\n",
              "\n",
              "    .colab-df-convert:hover {\n",
              "      background-color: #E2EBFA;\n",
              "      box-shadow: 0px 1px 2px rgba(60, 64, 67, 0.3), 0px 1px 3px 1px rgba(60, 64, 67, 0.15);\n",
              "      fill: #174EA6;\n",
              "    }\n",
              "\n",
              "    [theme=dark] .colab-df-convert {\n",
              "      background-color: #3B4455;\n",
              "      fill: #D2E3FC;\n",
              "    }\n",
              "\n",
              "    [theme=dark] .colab-df-convert:hover {\n",
              "      background-color: #434B5C;\n",
              "      box-shadow: 0px 1px 3px 1px rgba(0, 0, 0, 0.15);\n",
              "      filter: drop-shadow(0px 1px 2px rgba(0, 0, 0, 0.3));\n",
              "      fill: #FFFFFF;\n",
              "    }\n",
              "  </style>\n",
              "\n",
              "      <script>\n",
              "        const buttonEl =\n",
              "          document.querySelector('#df-328c6244-16cd-482b-8ef0-c24badeed957 button.colab-df-convert');\n",
              "        buttonEl.style.display =\n",
              "          google.colab.kernel.accessAllowed ? 'block' : 'none';\n",
              "\n",
              "        async function convertToInteractive(key) {\n",
              "          const element = document.querySelector('#df-328c6244-16cd-482b-8ef0-c24badeed957');\n",
              "          const dataTable =\n",
              "            await google.colab.kernel.invokeFunction('convertToInteractive',\n",
              "                                                     [key], {});\n",
              "          if (!dataTable) return;\n",
              "\n",
              "          const docLinkHtml = 'Like what you see? Visit the ' +\n",
              "            '<a target=\"_blank\" href=https://colab.research.google.com/notebooks/data_table.ipynb>data table notebook</a>'\n",
              "            + ' to learn more about interactive tables.';\n",
              "          element.innerHTML = '';\n",
              "          dataTable['output_type'] = 'display_data';\n",
              "          await google.colab.output.renderOutput(dataTable, element);\n",
              "          const docLink = document.createElement('div');\n",
              "          docLink.innerHTML = docLinkHtml;\n",
              "          element.appendChild(docLink);\n",
              "        }\n",
              "      </script>\n",
              "    </div>\n",
              "  </div>\n",
              "  "
            ],
            "text/plain": [
              "   knn_without_scaler  knn_with_scaler  log_without_scaler  log_with_scaler\n",
              "0             0.71159         0.811321            0.700809         0.703504"
            ]
          },
          "metadata": {},
          "execution_count": 50
        }
      ]
    }
  ]
}