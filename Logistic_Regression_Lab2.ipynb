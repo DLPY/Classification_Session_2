{
  "nbformat": 4,
  "nbformat_minor": 0,
  "metadata": {
    "colab": {
      "name": "Logistic_Regression_Lab2.ipynb",
      "provenance": [],
      "collapsed_sections": [],
      "authorship_tag": "ABX9TyMjACZGpc95LwKLC9P6kkmA",
      "include_colab_link": true
    },
    "kernelspec": {
      "name": "python3",
      "display_name": "Python 3"
    },
    "language_info": {
      "name": "python"
    }
  },
  "cells": [
    {
      "cell_type": "markdown",
      "metadata": {
        "id": "view-in-github",
        "colab_type": "text"
      },
      "source": [
        "<a href=\"https://colab.research.google.com/github/DLPY/Classification_Session_2/blob/main/Logistic_Regression_Lab2.ipynb\" target=\"_parent\"><img src=\"https://colab.research.google.com/assets/colab-badge.svg\" alt=\"Open In Colab\"/></a>"
      ]
    },
    {
      "cell_type": "markdown",
      "source": [
        "1. Import Pandas, Pyplot and Read data"
      ],
      "metadata": {
        "id": "fcVSTuEbCMLM"
      }
    },
    {
      "cell_type": "code",
      "execution_count": 34,
      "metadata": {
        "colab": {
          "base_uri": "https://localhost:8080/"
        },
        "id": "e7YVJhTKCFHd",
        "outputId": "d64c2f6a-68b6-468b-c920-bb86932d4ce2"
      },
      "outputs": [
        {
          "output_type": "stream",
          "name": "stdout",
          "text": [
            "--2022-01-25 17:08:41--  https://raw.githubusercontent.com/DLPY/Classification_Session_2/main/Student2020.csv\n",
            "Resolving raw.githubusercontent.com (raw.githubusercontent.com)... 185.199.108.133, 185.199.109.133, 185.199.110.133, ...\n",
            "Connecting to raw.githubusercontent.com (raw.githubusercontent.com)|185.199.108.133|:443... connected.\n",
            "HTTP request sent, awaiting response... 200 OK\n",
            "Length: 113427 (111K) [text/plain]\n",
            "Saving to: ‘Student2020.csv’\n",
            "\n",
            "\rStudent2020.csv       0%[                    ]       0  --.-KB/s               \rStudent2020.csv     100%[===================>] 110.77K  --.-KB/s    in 0.02s   \n",
            "\n",
            "2022-01-25 17:08:41 (4.86 MB/s) - ‘Student2020.csv’ saved [113427/113427]\n",
            "\n"
          ]
        }
      ],
      "source": [
        "import matplotlib.pyplot as plt\n",
        "import numpy as np\n",
        "import pandas as pd\n",
        "from sklearn import metrics\n",
        "from sklearn.linear_model import LogisticRegression\n",
        "from sklearn.metrics import mean_squared_error, r2_score\n",
        "from sklearn.model_selection import train_test_split\n",
        "import statsmodels.api as sm\n",
        "import seaborn as sns\n",
        "\n",
        "%matplotlib inline\n",
        "\n",
        "pd.set_option('display.max_colwidth', None)\n",
        "\n",
        "sns.set(style=\"white\")\n",
        "sns.set(style=\"whitegrid\", color_codes=True)\n",
        "\n",
        "# CSV is first read in from a github raw file another option is to import the notebook to your session storage by click on the file icon on left toolbar then importing csv\n",
        "! wget https://raw.githubusercontent.com/DLPY/Classification_Session_2/main/Student2020.csv"
      ]
    },
    {
      "cell_type": "code",
      "source": [
        "# Once we have the csv file pd.read_csv() converts it to a pandas dataframe\n",
        "df = pd.read_csv('Student2020.csv')"
      ],
      "metadata": {
        "id": "Qc_U7zRaCM_5"
      },
      "execution_count": 35,
      "outputs": []
    },
    {
      "cell_type": "markdown",
      "source": [
        "2. Investigating the Data and exploration"
      ],
      "metadata": {
        "id": "enPj7YpABVrj"
      }
    },
    {
      "cell_type": "code",
      "source": [
        "df.head(5)"
      ],
      "metadata": {
        "id": "wLRStt9UDW5T",
        "colab": {
          "base_uri": "https://localhost:8080/",
          "height": 206
        },
        "outputId": "7d84d8b1-0027-42c2-ebd0-c84652c683f6"
      },
      "execution_count": 36,
      "outputs": [
        {
          "output_type": "execute_result",
          "data": {
            "text/html": [
              "\n",
              "  <div id=\"df-f3f5db11-464d-4281-a71e-05f64fa68f93\">\n",
              "    <div class=\"colab-df-container\">\n",
              "      <div>\n",
              "<style scoped>\n",
              "    .dataframe tbody tr th:only-of-type {\n",
              "        vertical-align: middle;\n",
              "    }\n",
              "\n",
              "    .dataframe tbody tr th {\n",
              "        vertical-align: top;\n",
              "    }\n",
              "\n",
              "    .dataframe thead th {\n",
              "        text-align: right;\n",
              "    }\n",
              "</style>\n",
              "<table border=\"1\" class=\"dataframe\">\n",
              "  <thead>\n",
              "    <tr style=\"text-align: right;\">\n",
              "      <th></th>\n",
              "      <th>age</th>\n",
              "      <th>Auditory</th>\n",
              "      <th>Kinaesthetic</th>\n",
              "      <th>Visual</th>\n",
              "      <th>ExtrinsicMotivation</th>\n",
              "      <th>IntrinsicMotivation</th>\n",
              "      <th>SelfEfficacy</th>\n",
              "      <th>StudyTime</th>\n",
              "      <th>Conscientiousness</th>\n",
              "      <th>CAOpoints</th>\n",
              "      <th>Maths</th>\n",
              "      <th>English</th>\n",
              "      <th>Pass</th>\n",
              "    </tr>\n",
              "  </thead>\n",
              "  <tbody>\n",
              "    <tr>\n",
              "      <th>0</th>\n",
              "      <td>19</td>\n",
              "      <td>5.000000</td>\n",
              "      <td>6.698392</td>\n",
              "      <td>3.301608</td>\n",
              "      <td>9.308199</td>\n",
              "      <td>6.875000</td>\n",
              "      <td>7.321865</td>\n",
              "      <td>7.790997</td>\n",
              "      <td>8.721329</td>\n",
              "      <td>352</td>\n",
              "      <td>19</td>\n",
              "      <td>45</td>\n",
              "      <td>Pass</td>\n",
              "    </tr>\n",
              "    <tr>\n",
              "      <th>1</th>\n",
              "      <td>31</td>\n",
              "      <td>6.285538</td>\n",
              "      <td>2.500000</td>\n",
              "      <td>6.214462</td>\n",
              "      <td>7.535538</td>\n",
              "      <td>6.303307</td>\n",
              "      <td>7.095179</td>\n",
              "      <td>6.892769</td>\n",
              "      <td>6.440564</td>\n",
              "      <td>187</td>\n",
              "      <td>35</td>\n",
              "      <td>28</td>\n",
              "      <td>Pass</td>\n",
              "    </tr>\n",
              "    <tr>\n",
              "      <th>2</th>\n",
              "      <td>36</td>\n",
              "      <td>6.776966</td>\n",
              "      <td>2.500000</td>\n",
              "      <td>5.723034</td>\n",
              "      <td>8.026966</td>\n",
              "      <td>7.040449</td>\n",
              "      <td>7.258989</td>\n",
              "      <td>7.138483</td>\n",
              "      <td>6.194850</td>\n",
              "      <td>111</td>\n",
              "      <td>21</td>\n",
              "      <td>17</td>\n",
              "      <td>Pass</td>\n",
              "    </tr>\n",
              "    <tr>\n",
              "      <th>3</th>\n",
              "      <td>22</td>\n",
              "      <td>6.756132</td>\n",
              "      <td>3.987737</td>\n",
              "      <td>4.256132</td>\n",
              "      <td>6.621934</td>\n",
              "      <td>5.945164</td>\n",
              "      <td>5.089465</td>\n",
              "      <td>2.500000</td>\n",
              "      <td>4.042689</td>\n",
              "      <td>327</td>\n",
              "      <td>36</td>\n",
              "      <td>46</td>\n",
              "      <td>Fail</td>\n",
              "    </tr>\n",
              "    <tr>\n",
              "      <th>4</th>\n",
              "      <td>23</td>\n",
              "      <td>7.228655</td>\n",
              "      <td>2.228655</td>\n",
              "      <td>5.542690</td>\n",
              "      <td>6.453509</td>\n",
              "      <td>6.942836</td>\n",
              "      <td>6.285575</td>\n",
              "      <td>3.314034</td>\n",
              "      <td>4.528460</td>\n",
              "      <td>274</td>\n",
              "      <td>33</td>\n",
              "      <td>35</td>\n",
              "      <td>Fail</td>\n",
              "    </tr>\n",
              "  </tbody>\n",
              "</table>\n",
              "</div>\n",
              "      <button class=\"colab-df-convert\" onclick=\"convertToInteractive('df-f3f5db11-464d-4281-a71e-05f64fa68f93')\"\n",
              "              title=\"Convert this dataframe to an interactive table.\"\n",
              "              style=\"display:none;\">\n",
              "        \n",
              "  <svg xmlns=\"http://www.w3.org/2000/svg\" height=\"24px\"viewBox=\"0 0 24 24\"\n",
              "       width=\"24px\">\n",
              "    <path d=\"M0 0h24v24H0V0z\" fill=\"none\"/>\n",
              "    <path d=\"M18.56 5.44l.94 2.06.94-2.06 2.06-.94-2.06-.94-.94-2.06-.94 2.06-2.06.94zm-11 1L8.5 8.5l.94-2.06 2.06-.94-2.06-.94L8.5 2.5l-.94 2.06-2.06.94zm10 10l.94 2.06.94-2.06 2.06-.94-2.06-.94-.94-2.06-.94 2.06-2.06.94z\"/><path d=\"M17.41 7.96l-1.37-1.37c-.4-.4-.92-.59-1.43-.59-.52 0-1.04.2-1.43.59L10.3 9.45l-7.72 7.72c-.78.78-.78 2.05 0 2.83L4 21.41c.39.39.9.59 1.41.59.51 0 1.02-.2 1.41-.59l7.78-7.78 2.81-2.81c.8-.78.8-2.07 0-2.86zM5.41 20L4 18.59l7.72-7.72 1.47 1.35L5.41 20z\"/>\n",
              "  </svg>\n",
              "      </button>\n",
              "      \n",
              "  <style>\n",
              "    .colab-df-container {\n",
              "      display:flex;\n",
              "      flex-wrap:wrap;\n",
              "      gap: 12px;\n",
              "    }\n",
              "\n",
              "    .colab-df-convert {\n",
              "      background-color: #E8F0FE;\n",
              "      border: none;\n",
              "      border-radius: 50%;\n",
              "      cursor: pointer;\n",
              "      display: none;\n",
              "      fill: #1967D2;\n",
              "      height: 32px;\n",
              "      padding: 0 0 0 0;\n",
              "      width: 32px;\n",
              "    }\n",
              "\n",
              "    .colab-df-convert:hover {\n",
              "      background-color: #E2EBFA;\n",
              "      box-shadow: 0px 1px 2px rgba(60, 64, 67, 0.3), 0px 1px 3px 1px rgba(60, 64, 67, 0.15);\n",
              "      fill: #174EA6;\n",
              "    }\n",
              "\n",
              "    [theme=dark] .colab-df-convert {\n",
              "      background-color: #3B4455;\n",
              "      fill: #D2E3FC;\n",
              "    }\n",
              "\n",
              "    [theme=dark] .colab-df-convert:hover {\n",
              "      background-color: #434B5C;\n",
              "      box-shadow: 0px 1px 3px 1px rgba(0, 0, 0, 0.15);\n",
              "      filter: drop-shadow(0px 1px 2px rgba(0, 0, 0, 0.3));\n",
              "      fill: #FFFFFF;\n",
              "    }\n",
              "  </style>\n",
              "\n",
              "      <script>\n",
              "        const buttonEl =\n",
              "          document.querySelector('#df-f3f5db11-464d-4281-a71e-05f64fa68f93 button.colab-df-convert');\n",
              "        buttonEl.style.display =\n",
              "          google.colab.kernel.accessAllowed ? 'block' : 'none';\n",
              "\n",
              "        async function convertToInteractive(key) {\n",
              "          const element = document.querySelector('#df-f3f5db11-464d-4281-a71e-05f64fa68f93');\n",
              "          const dataTable =\n",
              "            await google.colab.kernel.invokeFunction('convertToInteractive',\n",
              "                                                     [key], {});\n",
              "          if (!dataTable) return;\n",
              "\n",
              "          const docLinkHtml = 'Like what you see? Visit the ' +\n",
              "            '<a target=\"_blank\" href=https://colab.research.google.com/notebooks/data_table.ipynb>data table notebook</a>'\n",
              "            + ' to learn more about interactive tables.';\n",
              "          element.innerHTML = '';\n",
              "          dataTable['output_type'] = 'display_data';\n",
              "          await google.colab.output.renderOutput(dataTable, element);\n",
              "          const docLink = document.createElement('div');\n",
              "          docLink.innerHTML = docLinkHtml;\n",
              "          element.appendChild(docLink);\n",
              "        }\n",
              "      </script>\n",
              "    </div>\n",
              "  </div>\n",
              "  "
            ],
            "text/plain": [
              "   age  Auditory  Kinaesthetic    Visual  ...  CAOpoints  Maths  English  Pass\n",
              "0   19  5.000000      6.698392  3.301608  ...        352     19       45  Pass\n",
              "1   31  6.285538      2.500000  6.214462  ...        187     35       28  Pass\n",
              "2   36  6.776966      2.500000  5.723034  ...        111     21       17  Pass\n",
              "3   22  6.756132      3.987737  4.256132  ...        327     36       46  Fail\n",
              "4   23  7.228655      2.228655  5.542690  ...        274     33       35  Fail\n",
              "\n",
              "[5 rows x 13 columns]"
            ]
          },
          "metadata": {},
          "execution_count": 36
        }
      ]
    },
    {
      "cell_type": "code",
      "source": [
        "# check types, nulls and counts\n",
        "df.info()"
      ],
      "metadata": {
        "colab": {
          "base_uri": "https://localhost:8080/"
        },
        "id": "gydVi9dq-xAS",
        "outputId": "08e68d19-84c0-4d61-bc8a-ce14ed9c302f"
      },
      "execution_count": 38,
      "outputs": [
        {
          "output_type": "stream",
          "name": "stdout",
          "text": [
            "<class 'pandas.core.frame.DataFrame'>\n",
            "RangeIndex: 1131 entries, 0 to 1130\n",
            "Data columns (total 13 columns):\n",
            " #   Column               Non-Null Count  Dtype  \n",
            "---  ------               --------------  -----  \n",
            " 0   age                  1131 non-null   int64  \n",
            " 1   Auditory             1131 non-null   float64\n",
            " 2   Kinaesthetic         1131 non-null   float64\n",
            " 3   Visual               1131 non-null   float64\n",
            " 4   ExtrinsicMotivation  1131 non-null   float64\n",
            " 5   IntrinsicMotivation  1131 non-null   float64\n",
            " 6   SelfEfficacy         1131 non-null   float64\n",
            " 7   StudyTime            1131 non-null   float64\n",
            " 8   Conscientiousness    1131 non-null   float64\n",
            " 9   CAOpoints            1131 non-null   int64  \n",
            " 10  Maths                1131 non-null   int64  \n",
            " 11  English              1131 non-null   int64  \n",
            " 12  Pass                 1131 non-null   object \n",
            "dtypes: float64(8), int64(4), object(1)\n",
            "memory usage: 115.0+ KB\n"
          ]
        }
      ]
    },
    {
      "cell_type": "code",
      "source": [
        "# investigate the variability of the numeric columns\n",
        "df.describe()"
      ],
      "metadata": {
        "colab": {
          "base_uri": "https://localhost:8080/",
          "height": 344
        },
        "id": "zGgjkcS9C3R0",
        "outputId": "cf081d78-e6eb-4398-b1d2-2f44c88e7129"
      },
      "execution_count": 39,
      "outputs": [
        {
          "output_type": "execute_result",
          "data": {
            "text/html": [
              "\n",
              "  <div id=\"df-415a6b93-ddbe-4203-8e8a-df2114ea57d8\">\n",
              "    <div class=\"colab-df-container\">\n",
              "      <div>\n",
              "<style scoped>\n",
              "    .dataframe tbody tr th:only-of-type {\n",
              "        vertical-align: middle;\n",
              "    }\n",
              "\n",
              "    .dataframe tbody tr th {\n",
              "        vertical-align: top;\n",
              "    }\n",
              "\n",
              "    .dataframe thead th {\n",
              "        text-align: right;\n",
              "    }\n",
              "</style>\n",
              "<table border=\"1\" class=\"dataframe\">\n",
              "  <thead>\n",
              "    <tr style=\"text-align: right;\">\n",
              "      <th></th>\n",
              "      <th>age</th>\n",
              "      <th>Auditory</th>\n",
              "      <th>Kinaesthetic</th>\n",
              "      <th>Visual</th>\n",
              "      <th>ExtrinsicMotivation</th>\n",
              "      <th>IntrinsicMotivation</th>\n",
              "      <th>SelfEfficacy</th>\n",
              "      <th>StudyTime</th>\n",
              "      <th>Conscientiousness</th>\n",
              "      <th>CAOpoints</th>\n",
              "      <th>Maths</th>\n",
              "      <th>English</th>\n",
              "    </tr>\n",
              "  </thead>\n",
              "  <tbody>\n",
              "    <tr>\n",
              "      <th>count</th>\n",
              "      <td>1131.000000</td>\n",
              "      <td>1131.000000</td>\n",
              "      <td>1131.000000</td>\n",
              "      <td>1131.000000</td>\n",
              "      <td>1131.000000</td>\n",
              "      <td>1131.000000</td>\n",
              "      <td>1131.000000</td>\n",
              "      <td>1131.000000</td>\n",
              "      <td>1131.000000</td>\n",
              "      <td>1131.000000</td>\n",
              "      <td>1131.000000</td>\n",
              "      <td>1131.000000</td>\n",
              "    </tr>\n",
              "    <tr>\n",
              "      <th>mean</th>\n",
              "      <td>23.398762</td>\n",
              "      <td>3.351526</td>\n",
              "      <td>4.359359</td>\n",
              "      <td>7.289115</td>\n",
              "      <td>7.843591</td>\n",
              "      <td>7.074436</td>\n",
              "      <td>6.845598</td>\n",
              "      <td>6.186959</td>\n",
              "      <td>6.034330</td>\n",
              "      <td>303.349248</td>\n",
              "      <td>35.271441</td>\n",
              "      <td>42.763926</td>\n",
              "    </tr>\n",
              "    <tr>\n",
              "      <th>std</th>\n",
              "      <td>5.996987</td>\n",
              "      <td>1.699769</td>\n",
              "      <td>1.983298</td>\n",
              "      <td>1.777363</td>\n",
              "      <td>1.080476</td>\n",
              "      <td>1.085183</td>\n",
              "      <td>1.257891</td>\n",
              "      <td>1.966457</td>\n",
              "      <td>1.322592</td>\n",
              "      <td>151.254726</td>\n",
              "      <td>23.337077</td>\n",
              "      <td>23.936272</td>\n",
              "    </tr>\n",
              "    <tr>\n",
              "      <th>min</th>\n",
              "      <td>18.000000</td>\n",
              "      <td>0.000000</td>\n",
              "      <td>0.000000</td>\n",
              "      <td>0.327191</td>\n",
              "      <td>3.185380</td>\n",
              "      <td>2.510989</td>\n",
              "      <td>2.033927</td>\n",
              "      <td>1.029210</td>\n",
              "      <td>2.628583</td>\n",
              "      <td>0.000000</td>\n",
              "      <td>0.000000</td>\n",
              "      <td>0.000000</td>\n",
              "    </tr>\n",
              "    <tr>\n",
              "      <th>25%</th>\n",
              "      <td>19.000000</td>\n",
              "      <td>2.500000</td>\n",
              "      <td>2.750839</td>\n",
              "      <td>6.124360</td>\n",
              "      <td>7.150790</td>\n",
              "      <td>6.288684</td>\n",
              "      <td>5.913076</td>\n",
              "      <td>4.591726</td>\n",
              "      <td>5.134774</td>\n",
              "      <td>206.000000</td>\n",
              "      <td>16.000000</td>\n",
              "      <td>25.000000</td>\n",
              "    </tr>\n",
              "    <tr>\n",
              "      <th>50%</th>\n",
              "      <td>21.000000</td>\n",
              "      <td>2.911785</td>\n",
              "      <td>4.748377</td>\n",
              "      <td>7.500000</td>\n",
              "      <td>7.766083</td>\n",
              "      <td>7.099938</td>\n",
              "      <td>6.854952</td>\n",
              "      <td>6.033153</td>\n",
              "      <td>5.901921</td>\n",
              "      <td>326.000000</td>\n",
              "      <td>35.000000</td>\n",
              "      <td>44.000000</td>\n",
              "    </tr>\n",
              "    <tr>\n",
              "      <th>75%</th>\n",
              "      <td>26.000000</td>\n",
              "      <td>4.637668</td>\n",
              "      <td>5.538056</td>\n",
              "      <td>8.472952</td>\n",
              "      <td>8.608923</td>\n",
              "      <td>7.770700</td>\n",
              "      <td>7.500000</td>\n",
              "      <td>7.665651</td>\n",
              "      <td>6.789817</td>\n",
              "      <td>416.500000</td>\n",
              "      <td>54.000000</td>\n",
              "      <td>62.500000</td>\n",
              "    </tr>\n",
              "    <tr>\n",
              "      <th>max</th>\n",
              "      <td>59.000000</td>\n",
              "      <td>9.408472</td>\n",
              "      <td>9.876212</td>\n",
              "      <td>10.000000</td>\n",
              "      <td>10.000000</td>\n",
              "      <td>9.974213</td>\n",
              "      <td>10.000000</td>\n",
              "      <td>10.000000</td>\n",
              "      <td>9.956247</td>\n",
              "      <td>625.000000</td>\n",
              "      <td>100.000000</td>\n",
              "      <td>100.000000</td>\n",
              "    </tr>\n",
              "  </tbody>\n",
              "</table>\n",
              "</div>\n",
              "      <button class=\"colab-df-convert\" onclick=\"convertToInteractive('df-415a6b93-ddbe-4203-8e8a-df2114ea57d8')\"\n",
              "              title=\"Convert this dataframe to an interactive table.\"\n",
              "              style=\"display:none;\">\n",
              "        \n",
              "  <svg xmlns=\"http://www.w3.org/2000/svg\" height=\"24px\"viewBox=\"0 0 24 24\"\n",
              "       width=\"24px\">\n",
              "    <path d=\"M0 0h24v24H0V0z\" fill=\"none\"/>\n",
              "    <path d=\"M18.56 5.44l.94 2.06.94-2.06 2.06-.94-2.06-.94-.94-2.06-.94 2.06-2.06.94zm-11 1L8.5 8.5l.94-2.06 2.06-.94-2.06-.94L8.5 2.5l-.94 2.06-2.06.94zm10 10l.94 2.06.94-2.06 2.06-.94-2.06-.94-.94-2.06-.94 2.06-2.06.94z\"/><path d=\"M17.41 7.96l-1.37-1.37c-.4-.4-.92-.59-1.43-.59-.52 0-1.04.2-1.43.59L10.3 9.45l-7.72 7.72c-.78.78-.78 2.05 0 2.83L4 21.41c.39.39.9.59 1.41.59.51 0 1.02-.2 1.41-.59l7.78-7.78 2.81-2.81c.8-.78.8-2.07 0-2.86zM5.41 20L4 18.59l7.72-7.72 1.47 1.35L5.41 20z\"/>\n",
              "  </svg>\n",
              "      </button>\n",
              "      \n",
              "  <style>\n",
              "    .colab-df-container {\n",
              "      display:flex;\n",
              "      flex-wrap:wrap;\n",
              "      gap: 12px;\n",
              "    }\n",
              "\n",
              "    .colab-df-convert {\n",
              "      background-color: #E8F0FE;\n",
              "      border: none;\n",
              "      border-radius: 50%;\n",
              "      cursor: pointer;\n",
              "      display: none;\n",
              "      fill: #1967D2;\n",
              "      height: 32px;\n",
              "      padding: 0 0 0 0;\n",
              "      width: 32px;\n",
              "    }\n",
              "\n",
              "    .colab-df-convert:hover {\n",
              "      background-color: #E2EBFA;\n",
              "      box-shadow: 0px 1px 2px rgba(60, 64, 67, 0.3), 0px 1px 3px 1px rgba(60, 64, 67, 0.15);\n",
              "      fill: #174EA6;\n",
              "    }\n",
              "\n",
              "    [theme=dark] .colab-df-convert {\n",
              "      background-color: #3B4455;\n",
              "      fill: #D2E3FC;\n",
              "    }\n",
              "\n",
              "    [theme=dark] .colab-df-convert:hover {\n",
              "      background-color: #434B5C;\n",
              "      box-shadow: 0px 1px 3px 1px rgba(0, 0, 0, 0.15);\n",
              "      filter: drop-shadow(0px 1px 2px rgba(0, 0, 0, 0.3));\n",
              "      fill: #FFFFFF;\n",
              "    }\n",
              "  </style>\n",
              "\n",
              "      <script>\n",
              "        const buttonEl =\n",
              "          document.querySelector('#df-415a6b93-ddbe-4203-8e8a-df2114ea57d8 button.colab-df-convert');\n",
              "        buttonEl.style.display =\n",
              "          google.colab.kernel.accessAllowed ? 'block' : 'none';\n",
              "\n",
              "        async function convertToInteractive(key) {\n",
              "          const element = document.querySelector('#df-415a6b93-ddbe-4203-8e8a-df2114ea57d8');\n",
              "          const dataTable =\n",
              "            await google.colab.kernel.invokeFunction('convertToInteractive',\n",
              "                                                     [key], {});\n",
              "          if (!dataTable) return;\n",
              "\n",
              "          const docLinkHtml = 'Like what you see? Visit the ' +\n",
              "            '<a target=\"_blank\" href=https://colab.research.google.com/notebooks/data_table.ipynb>data table notebook</a>'\n",
              "            + ' to learn more about interactive tables.';\n",
              "          element.innerHTML = '';\n",
              "          dataTable['output_type'] = 'display_data';\n",
              "          await google.colab.output.renderOutput(dataTable, element);\n",
              "          const docLink = document.createElement('div');\n",
              "          docLink.innerHTML = docLinkHtml;\n",
              "          element.appendChild(docLink);\n",
              "        }\n",
              "      </script>\n",
              "    </div>\n",
              "  </div>\n",
              "  "
            ],
            "text/plain": [
              "               age     Auditory  ...        Maths      English\n",
              "count  1131.000000  1131.000000  ...  1131.000000  1131.000000\n",
              "mean     23.398762     3.351526  ...    35.271441    42.763926\n",
              "std       5.996987     1.699769  ...    23.337077    23.936272\n",
              "min      18.000000     0.000000  ...     0.000000     0.000000\n",
              "25%      19.000000     2.500000  ...    16.000000    25.000000\n",
              "50%      21.000000     2.911785  ...    35.000000    44.000000\n",
              "75%      26.000000     4.637668  ...    54.000000    62.500000\n",
              "max      59.000000     9.408472  ...   100.000000   100.000000\n",
              "\n",
              "[8 rows x 12 columns]"
            ]
          },
          "metadata": {},
          "execution_count": 39
        }
      ]
    },
    {
      "cell_type": "code",
      "source": [
        "df.Pass.value_counts()\n",
        "sns.countplot(x='Pass', data=df, palette='hls')\n",
        "plt.show()"
      ],
      "metadata": {
        "colab": {
          "base_uri": "https://localhost:8080/",
          "height": 285
        },
        "id": "Pr3R_WDBNu5H",
        "outputId": "c2c41a33-ce96-4a4d-c33f-0023dca50d2d"
      },
      "execution_count": 41,
      "outputs": [
        {
          "output_type": "display_data",
          "data": {
            "image/png": "[encoded data removed]",
            "text/plain": [
              "<Figure size 432x288 with 1 Axes>"
            ]
          },
          "metadata": {}
        }
      ]
    },
    {
      "cell_type": "code",
      "source": [
        "Fail = len(df[df['Pass']=='Fail'])\n",
        "Pass = len(df[df['Pass']=='Pass'])\n",
        "pct_of_fail = Fail/(Fail+Pass)\n",
        "print(\"percentage of fail is\", pct_of_fail*100)\n",
        "pct_of_pass = Pass/(Fail+Pass)\n",
        "print(\"percentage of subscription\", pct_of_pass*100)"
      ],
      "metadata": {
        "colab": {
          "base_uri": "https://localhost:8080/"
        },
        "id": "vDBdarI5ONHP",
        "outputId": "db81683e-19cc-401c-c7a0-9ecf8b96b23b"
      },
      "execution_count": 47,
      "outputs": [
        {
          "output_type": "stream",
          "name": "stdout",
          "text": [
            "percentage of fail is 37.13527851458886\n",
            "percentage of subscription 62.864721485411145\n"
          ]
        }
      ]
    },
    {
      "cell_type": "markdown",
      "source": [
        "3. Split the data to prepare training and testing sets"
      ],
      "metadata": {
        "id": "4NBvLCYNMjl1"
      }
    },
    {
      "cell_type": "code",
      "source": [
        "# Independent Variable\n",
        "X = df.drop(['Pass'], axis=1).values\n",
        "\n",
        "# Depenedent Variable\n",
        "y = df.Pass.values\n",
        "\n",
        "# Split Observations in 80% training set 20% test set\n",
        "X_train, X_test, y_train, y_test = train_test_split(X, y, test_size=0.2, random_state=21)\n",
        "print('Training Data:', X_train.shape, y_train.shape)\n",
        "print('Testing Data:', X_test.shape, y_test.shape)"
      ],
      "metadata": {
        "colab": {
          "base_uri": "https://localhost:8080/"
        },
        "id": "3bbUMAtVFpLA",
        "outputId": "29f1cbb2-385a-4a5f-9816-ca1266a9a2ba"
      },
      "execution_count": 48,
      "outputs": [
        {
          "output_type": "stream",
          "name": "stdout",
          "text": [
            "Training Data: (904, 12) (904,)\n",
            "Testing Data: (227, 12) (227,)\n"
          ]
        }
      ]
    },
    {
      "cell_type": "markdown",
      "source": [
        "4. Train the model"
      ],
      "metadata": {
        "id": "Y9iRW1rTPyPk"
      }
    },
    {
      "cell_type": "code",
      "source": [
        "# instantiate the model (using the default parameters)\n",
        "logreg = LogisticRegression()\n",
        "\n",
        "# fit the model with data\n",
        "logreg.fit(X_train,y_train)"
      ],
      "metadata": {
        "colab": {
          "base_uri": "https://localhost:8080/"
        },
        "id": "I1ruDXxgNTx_",
        "outputId": "cc702061-fece-4f2c-b79f-96b9bebaabd5"
      },
      "execution_count": 49,
      "outputs": [
        {
          "output_type": "stream",
          "name": "stderr",
          "text": [
            "/usr/local/lib/python3.7/dist-packages/sklearn/linear_model/_logistic.py:818: ConvergenceWarning: lbfgs failed to converge (status=1):\n",
            "STOP: TOTAL NO. of ITERATIONS REACHED LIMIT.\n",
            "\n",
            "Increase the number of iterations (max_iter) or scale the data as shown in:\n",
            "    https://scikit-learn.org/stable/modules/preprocessing.html\n",
            "Please also refer to the documentation for alternative solver options:\n",
            "    https://scikit-learn.org/stable/modules/linear_model.html#logistic-regression\n",
            "  extra_warning_msg=_LOGISTIC_SOLVER_CONVERGENCE_MSG,\n"
          ]
        },
        {
          "output_type": "execute_result",
          "data": {
            "text/plain": [
              "LogisticRegression()"
            ]
          },
          "metadata": {},
          "execution_count": 49
        }
      ]
    },
    {
      "cell_type": "code",
      "source": [
        "# Coefficient and Intercept\n",
        "print(logreg.coef_)\n",
        "print(logreg.intercept_)"
      ],
      "metadata": {
        "colab": {
          "base_uri": "https://localhost:8080/"
        },
        "id": "YxiqjM7AP29P",
        "outputId": "dca3169f-47a8-4091-e480-0b35ff14a0fd"
      },
      "execution_count": 50,
      "outputs": [
        {
          "output_type": "stream",
          "name": "stdout",
          "text": [
            "[[ 0.07421593 -0.42970189 -0.47664721 -0.22024866  0.06168526  0.44579247\n",
            "  -0.130044    0.0127589  -0.01322267  0.00107667  0.02089038  0.00486127]]\n",
            "[-0.07547209]\n"
          ]
        }
      ]
    },
    {
      "cell_type": "code",
      "source": [
        "# Create dataframe from regressor coefficient to display results in a dataframe\n",
        "column_names = ['age', 'Auditory', 'Kinaesthetic', 'Visual', 'ExtrinsicMotivation', 'IntrinsicMotivation', 'SelfEfficacy', 'StudyTime', 'Conscientiousness', 'CAOpoints', 'Maths', 'English']\n",
        "coefficient_df = pd.DataFrame(logreg.coef_) # T - Transpose dataframe rows to columns\n",
        "coefficient_df.columns = column_names\n",
        "coefficient_df"
      ],
      "metadata": {
        "colab": {
          "base_uri": "https://localhost:8080/",
          "height": 81
        },
        "id": "soxuKyuEP6t9",
        "outputId": "75593fac-d2a9-45ef-d2a9-3ec86c9c7d39"
      },
      "execution_count": 59,
      "outputs": [
        {
          "output_type": "execute_result",
          "data": {
            "text/html": [
              "\n",
              "  <div id=\"df-68c7cb84-5dbe-43a3-b4c1-670a46bb9be2\">\n",
              "    <div class=\"colab-df-container\">\n",
              "      <div>\n",
              "<style scoped>\n",
              "    .dataframe tbody tr th:only-of-type {\n",
              "        vertical-align: middle;\n",
              "    }\n",
              "\n",
              "    .dataframe tbody tr th {\n",
              "        vertical-align: top;\n",
              "    }\n",
              "\n",
              "    .dataframe thead th {\n",
              "        text-align: right;\n",
              "    }\n",
              "</style>\n",
              "<table border=\"1\" class=\"dataframe\">\n",
              "  <thead>\n",
              "    <tr style=\"text-align: right;\">\n",
              "      <th></th>\n",
              "      <th>age</th>\n",
              "      <th>Auditory</th>\n",
              "      <th>Kinaesthetic</th>\n",
              "      <th>Visual</th>\n",
              "      <th>ExtrinsicMotivation</th>\n",
              "      <th>IntrinsicMotivation</th>\n",
              "      <th>SelfEfficacy</th>\n",
              "      <th>StudyTime</th>\n",
              "      <th>Conscientiousness</th>\n",
              "      <th>CAOpoints</th>\n",
              "      <th>Maths</th>\n",
              "      <th>English</th>\n",
              "    </tr>\n",
              "  </thead>\n",
              "  <tbody>\n",
              "    <tr>\n",
              "      <th>0</th>\n",
              "      <td>0.074216</td>\n",
              "      <td>-0.429702</td>\n",
              "      <td>-0.476647</td>\n",
              "      <td>-0.220249</td>\n",
              "      <td>0.061685</td>\n",
              "      <td>0.445792</td>\n",
              "      <td>-0.130044</td>\n",
              "      <td>0.012759</td>\n",
              "      <td>-0.013223</td>\n",
              "      <td>0.001077</td>\n",
              "      <td>0.02089</td>\n",
              "      <td>0.004861</td>\n",
              "    </tr>\n",
              "  </tbody>\n",
              "</table>\n",
              "</div>\n",
              "      <button class=\"colab-df-convert\" onclick=\"convertToInteractive('df-68c7cb84-5dbe-43a3-b4c1-670a46bb9be2')\"\n",
              "              title=\"Convert this dataframe to an interactive table.\"\n",
              "              style=\"display:none;\">\n",
              "        \n",
              "  <svg xmlns=\"http://www.w3.org/2000/svg\" height=\"24px\"viewBox=\"0 0 24 24\"\n",
              "       width=\"24px\">\n",
              "    <path d=\"M0 0h24v24H0V0z\" fill=\"none\"/>\n",
              "    <path d=\"M18.56 5.44l.94 2.06.94-2.06 2.06-.94-2.06-.94-.94-2.06-.94 2.06-2.06.94zm-11 1L8.5 8.5l.94-2.06 2.06-.94-2.06-.94L8.5 2.5l-.94 2.06-2.06.94zm10 10l.94 2.06.94-2.06 2.06-.94-2.06-.94-.94-2.06-.94 2.06-2.06.94z\"/><path d=\"M17.41 7.96l-1.37-1.37c-.4-.4-.92-.59-1.43-.59-.52 0-1.04.2-1.43.59L10.3 9.45l-7.72 7.72c-.78.78-.78 2.05 0 2.83L4 21.41c.39.39.9.59 1.41.59.51 0 1.02-.2 1.41-.59l7.78-7.78 2.81-2.81c.8-.78.8-2.07 0-2.86zM5.41 20L4 18.59l7.72-7.72 1.47 1.35L5.41 20z\"/>\n",
              "  </svg>\n",
              "      </button>\n",
              "      \n",
              "  <style>\n",
              "    .colab-df-container {\n",
              "      display:flex;\n",
              "      flex-wrap:wrap;\n",
              "      gap: 12px;\n",
              "    }\n",
              "\n",
              "    .colab-df-convert {\n",
              "      background-color: #E8F0FE;\n",
              "      border: none;\n",
              "      border-radius: 50%;\n",
              "      cursor: pointer;\n",
              "      display: none;\n",
              "      fill: #1967D2;\n",
              "      height: 32px;\n",
              "      padding: 0 0 0 0;\n",
              "      width: 32px;\n",
              "    }\n",
              "\n",
              "    .colab-df-convert:hover {\n",
              "      background-color: #E2EBFA;\n",
              "      box-shadow: 0px 1px 2px rgba(60, 64, 67, 0.3), 0px 1px 3px 1px rgba(60, 64, 67, 0.15);\n",
              "      fill: #174EA6;\n",
              "    }\n",
              "\n",
              "    [theme=dark] .colab-df-convert {\n",
              "      background-color: #3B4455;\n",
              "      fill: #D2E3FC;\n",
              "    }\n",
              "\n",
              "    [theme=dark] .colab-df-convert:hover {\n",
              "      background-color: #434B5C;\n",
              "      box-shadow: 0px 1px 3px 1px rgba(0, 0, 0, 0.15);\n",
              "      filter: drop-shadow(0px 1px 2px rgba(0, 0, 0, 0.3));\n",
              "      fill: #FFFFFF;\n",
              "    }\n",
              "  </style>\n",
              "\n",
              "      <script>\n",
              "        const buttonEl =\n",
              "          document.querySelector('#df-68c7cb84-5dbe-43a3-b4c1-670a46bb9be2 button.colab-df-convert');\n",
              "        buttonEl.style.display =\n",
              "          google.colab.kernel.accessAllowed ? 'block' : 'none';\n",
              "\n",
              "        async function convertToInteractive(key) {\n",
              "          const element = document.querySelector('#df-68c7cb84-5dbe-43a3-b4c1-670a46bb9be2');\n",
              "          const dataTable =\n",
              "            await google.colab.kernel.invokeFunction('convertToInteractive',\n",
              "                                                     [key], {});\n",
              "          if (!dataTable) return;\n",
              "\n",
              "          const docLinkHtml = 'Like what you see? Visit the ' +\n",
              "            '<a target=\"_blank\" href=https://colab.research.google.com/notebooks/data_table.ipynb>data table notebook</a>'\n",
              "            + ' to learn more about interactive tables.';\n",
              "          element.innerHTML = '';\n",
              "          dataTable['output_type'] = 'display_data';\n",
              "          await google.colab.output.renderOutput(dataTable, element);\n",
              "          const docLink = document.createElement('div');\n",
              "          docLink.innerHTML = docLinkHtml;\n",
              "          element.appendChild(docLink);\n",
              "        }\n",
              "      </script>\n",
              "    </div>\n",
              "  </div>\n",
              "  "
            ],
            "text/plain": [
              "        age  Auditory  Kinaesthetic  ...  CAOpoints    Maths   English\n",
              "0  0.074216 -0.429702     -0.476647  ...   0.001077  0.02089  0.004861\n",
              "\n",
              "[1 rows x 12 columns]"
            ]
          },
          "metadata": {},
          "execution_count": 59
        }
      ]
    },
    {
      "cell_type": "markdown",
      "source": [
        "5. Predict the test values and calculate error"
      ],
      "metadata": {
        "id": "oZSEdqpMSpWq"
      }
    },
    {
      "cell_type": "code",
      "source": [
        "# Predict test set from model built during training \n",
        "y_pred = logreg.predict(X_test)"
      ],
      "metadata": {
        "id": "UKnoNdZ8R2Pu"
      },
      "execution_count": 60,
      "outputs": []
    },
    {
      "cell_type": "code",
      "source": [
        "cnf_matrix = metrics.confusion_matrix(y_test, y_pred)"
      ],
      "metadata": {
        "id": "Z33ty9uTSvKf"
      },
      "execution_count": 63,
      "outputs": []
    }
  ]
}