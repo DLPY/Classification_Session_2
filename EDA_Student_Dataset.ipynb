{
  "nbformat": 4,
  "nbformat_minor": 0,
  "metadata": {
    "colab": {
      "name": "EDA_Student_Dataset.ipynb",
      "provenance": [],
      "collapsed_sections": [],
      "toc_visible": true,
      "authorship_tag": "ABX9TyPOmg2qn4aAvGkd3gEuyM0K",
      "include_colab_link": true
    },
    "kernelspec": {
      "name": "python3",
      "display_name": "Python 3"
    },
    "language_info": {
      "name": "python"
    }
  },
  "cells": [
    {
      "cell_type": "markdown",
      "metadata": {
        "id": "view-in-github",
        "colab_type": "text"
      },
      "source": [
        "<a href=\"https://colab.research.google.com/github/DLPY/Classification_Session_2/blob/main/EDA_Student_Dataset.ipynb\" target=\"_parent\"><img src=\"https://colab.research.google.com/assets/colab-badge.svg\" alt=\"Open In Colab\"/></a>"
      ]
    },
    {
      "cell_type": "markdown",
      "source": [
        "# EDA on Student Dataset"
      ],
      "metadata": {
        "id": "yIBDtsxjTKzj"
      }
    },
    {
      "cell_type": "markdown",
      "source": [
        "##**1.Import Pandas, Pyplot and Read data**"
      ],
      "metadata": {
        "id": "waTeIDSXOlTy"
      }
    },
    {
      "cell_type": "code",
      "execution_count": null,
      "metadata": {
        "id": "hvfzh5SETCh-"
      },
      "outputs": [],
      "source": [
        "import matplotlib.pyplot as plt #Visualization Lib\n",
        "import numpy as np #mathamatical functions\n",
        "import pandas as pd #Data manipulation lib\n",
        "import seaborn as sns #Visualization Lib\n",
        "from sklearn import metrics, preprocessing"
      ]
    },
    {
      "cell_type": "code",
      "source": [
        "# CSV is first read in from a github raw file another option is to import the notebook to your session storage by click on the file icon on left toolbar then importing csv\n",
        "! wget https://raw.githubusercontent.com/DLPY/Classification_Session_2/main/Student2020.csv"
      ],
      "metadata": {
        "id": "gpisi7PaPec3"
      },
      "execution_count": null,
      "outputs": []
    },
    {
      "cell_type": "code",
      "source": [
        "# Once we have the csv file pd.read_csv() converts it to a pandas dataframe\n",
        "df = pd.read_csv('Student2020.csv')\n",
        "df['Pass'] = df['Pass'].apply(lambda x : 0 if x == 'Fail' else 1 )"
      ],
      "metadata": {
        "id": "XRxgsmWJPi0G"
      },
      "execution_count": null,
      "outputs": []
    },
    {
      "cell_type": "markdown",
      "source": [
        "##**2. Exploratory Data Analysis (EDA)**"
      ],
      "metadata": {
        "id": "kAPYvl5VPzzA"
      }
    },
    {
      "cell_type": "code",
      "source": [
        "# Display the count of rows and columns.\n",
        "df.shape"
      ],
      "metadata": {
        "id": "lwEObfiOPpKs"
      },
      "execution_count": null,
      "outputs": []
    },
    {
      "cell_type": "code",
      "source": [
        "# Review a small sample of the data.\n",
        "df.head()"
      ],
      "metadata": {
        "id": "wSEoObnGSlrk"
      },
      "execution_count": null,
      "outputs": []
    },
    {
      "cell_type": "code",
      "source": [
        "#Checking for null values\n",
        "print(df.isnull().sum())\n",
        "sns.heatmap(df.isnull(), cbar=False)"
      ],
      "metadata": {
        "id": "dckOdcGRSyPl"
      },
      "execution_count": null,
      "outputs": []
    },
    {
      "cell_type": "code",
      "source": [
        "# Detailed overview of the dataframe itself.\n",
        "df.info()"
      ],
      "metadata": {
        "id": "OMBMhgVVS1mj"
      },
      "execution_count": null,
      "outputs": []
    },
    {
      "cell_type": "code",
      "source": [
        "# remove duplicates, if any\n",
        "df = df[~df.duplicated()] \n",
        "df.shape\n",
        "#No duplicate values"
      ],
      "metadata": {
        "id": "ArJyaHzgS7O9"
      },
      "execution_count": null,
      "outputs": []
    },
    {
      "cell_type": "markdown",
      "source": [
        " ### i) Investigate correlation in the new dataframe."
      ],
      "metadata": {
        "id": "66OqB0QdXNGm"
      }
    },
    {
      "cell_type": "code",
      "source": [
        "corr = df.corr()\n",
        "corr.style.background_gradient(cmap='coolwarm')"
      ],
      "metadata": {
        "id": "bd4m6EYkTAQF"
      },
      "execution_count": null,
      "outputs": []
    },
    {
      "cell_type": "markdown",
      "source": [
        "### ii) Variables correlated to Pass."
      ],
      "metadata": {
        "id": "v68JmO0xaI5h"
      }
    },
    {
      "cell_type": "code",
      "source": [
        "df.corr()['Pass'].sort_values().drop('Pass').plot(kind='barh')"
      ],
      "metadata": {
        "id": "B6UU0NbYXswu"
      },
      "execution_count": null,
      "outputs": []
    },
    {
      "cell_type": "markdown",
      "source": [
        "### iii) Summary of Pass and Fail"
      ],
      "metadata": {
        "id": "8BqSlw-fYXp1"
      }
    },
    {
      "cell_type": "code",
      "source": [
        "sns.countplot(x='Pass', data=df, palette='hls')"
      ],
      "metadata": {
        "id": "T9fwV3kQYiib"
      },
      "execution_count": null,
      "outputs": []
    },
    {
      "cell_type": "markdown",
      "source": [
        "From the above graph, we observed there are many more Students are 'Pass'. This is referred to as 'class imbalance'."
      ],
      "metadata": {
        "id": "AovSESzHY4i2"
      }
    },
    {
      "cell_type": "markdown",
      "source": [
        "## **3.Standadization of data using MinMax Scaler**"
      ],
      "metadata": {
        "id": "P96mYIy3azp5"
      }
    },
    {
      "cell_type": "code",
      "source": [
        "# Independent Variable\n",
        "X = df.drop(['Pass'], axis=1)\n",
        "\n",
        "# Depenedent Variable\n",
        "y = df.Pass.values"
      ],
      "metadata": {
        "id": "k3-FYSn1bPjd"
      },
      "execution_count": null,
      "outputs": []
    },
    {
      "cell_type": "code",
      "source": [
        "trans = preprocessing.MinMaxScaler(feature_range=(-1,1))\n",
        "X = pd.DataFrame(trans.fit_transform(X))\n",
        "column_names = ['age', 'Auditory', 'Kinaesthetic', 'Visual', 'ExtrinsicMotivation', 'IntrinsicMotivation', 'SelfEfficacy', 'StudyTime', 'Conscientiousness', 'CAOpoints', 'Maths', 'English']\n",
        "X.columns = column_names"
      ],
      "metadata": {
        "id": "jkMp7MIQY3Sc"
      },
      "execution_count": null,
      "outputs": []
    },
    {
      "cell_type": "code",
      "source": [
        "X"
      ],
      "metadata": {
        "id": "dYBXoVYcba8a"
      },
      "execution_count": null,
      "outputs": []
    }
  ]
}